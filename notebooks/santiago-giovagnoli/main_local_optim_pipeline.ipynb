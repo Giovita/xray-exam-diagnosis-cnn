{
 "cells": [
  {
   "cell_type": "code",
   "execution_count": null,
   "id": "0725f491-cde4-43cc-9d25-efb3133192f5",
   "metadata": {},
   "outputs": [],
   "source": [
    "%load_ext autoreload\n",
    "%autoreload 2"
   ]
  },
  {
   "cell_type": "code",
   "execution_count": null,
   "id": "12e4bfe7-924a-4bc6-814b-4f8ae563a5fa",
   "metadata": {},
   "outputs": [],
   "source": [
    "import math\n",
    "import os\n",
    "from glob import glob\n",
    "\n",
    "import numpy as np\n",
    "import pandas as pd"
   ]
  },
  {
   "cell_type": "code",
   "execution_count": null,
   "id": "1c85b6df-f0fa-4903-b6b8-d01d697f5543",
   "metadata": {},
   "outputs": [],
   "source": [
    "from xray import data, params, trainer, utils"
   ]
  },
  {
   "cell_type": "code",
   "execution_count": null,
   "id": "a83a65b7-4113-4312-ae49-26b7cd12c315",
   "metadata": {},
   "outputs": [],
   "source": [
    "csv_labels = \"sample_labels.csv\"\n",
    "path_to_csv = os.path.join(\"../../raw_data/sample-data/\", csv_labels)"
   ]
  },
  {
   "cell_type": "code",
   "execution_count": null,
   "id": "c02f6430-9904-4562-977d-bd7a215d96e8",
   "metadata": {},
   "outputs": [],
   "source": [
    "df = data.get_data(\n",
    "    path_to_csv,\n",
    ")\n",
    "df.head(3)"
   ]
  },
  {
   "cell_type": "code",
   "execution_count": null,
   "id": "b51b844c-2972-4af0-88e9-e40cb2126c0c",
   "metadata": {},
   "outputs": [],
   "source": [
    "df[\"labels\"] = df[\"Finding Labels\"].map(lambda x: x.split(\"|\"))\n",
    "df.head(3)"
   ]
  },
  {
   "cell_type": "code",
   "execution_count": null,
   "id": "08cbee7d-1253-4fa0-b3b0-b735dbbef19f",
   "metadata": {},
   "outputs": [],
   "source": [
    "df = df[df[\"Finding Labels\"] != \"No Finding\"]"
   ]
  },
  {
   "cell_type": "code",
   "execution_count": null,
   "id": "5db3fc1e-20b3-4547-a708-8d4957e8ae40",
   "metadata": {},
   "outputs": [],
   "source": [
    "path_to_png = \"../../raw_data/sample-data/images\""
   ]
  },
  {
   "cell_type": "code",
   "execution_count": null,
   "id": "e257d223-5dc2-4e1d-af6d-a6874ab0e88e",
   "metadata": {},
   "outputs": [],
   "source": [
    "utils.get_paths(df, path_to_png, return_relative=False)"
   ]
  },
  {
   "cell_type": "code",
   "execution_count": null,
   "id": "78e56eaa-6d91-4406-930c-68478fd5b84a",
   "metadata": {},
   "outputs": [],
   "source": [
    "from sklearn.preprocessing import MultiLabelBinarizer"
   ]
  },
  {
   "cell_type": "code",
   "execution_count": null,
   "id": "6e3d3efc-f319-42cf-a09f-f28eb742fa36",
   "metadata": {},
   "outputs": [],
   "source": [
    "mlb = MultiLabelBinarizer().fit(df.labels)\n",
    "mlb_classes = mlb.classes_\n",
    "mlb_classes.shape"
   ]
  },
  {
   "cell_type": "code",
   "execution_count": null,
   "id": "1d10a0f9-0e35-4abb-9fe5-9873ba25a618",
   "metadata": {},
   "outputs": [],
   "source": [
    "y = mlb.transform(df.labels).astype(\"int16\")"
   ]
  },
  {
   "cell_type": "code",
   "execution_count": null,
   "id": "a24f17e3-ef94-4ef1-9012-ea7cbc44d96e",
   "metadata": {},
   "outputs": [],
   "source": [
    "df_train, df_val, df_test = data.split_df(\n",
    "    df, \"Patient ID\", (0.65, 0.175, 0.175), total_filter=0.3\n",
    ")"
   ]
  },
  {
   "cell_type": "markdown",
   "id": "ae84c73b-484a-4620-b8c4-4803dc3c13aa",
   "metadata": {},
   "source": [
    "## `tf.data.Dataset`"
   ]
  },
  {
   "cell_type": "code",
   "execution_count": null,
   "id": "2b664549-e34b-4440-ab10-adea1d453f3f",
   "metadata": {},
   "outputs": [],
   "source": [
    "import random\n",
    "from glob import glob\n",
    "\n",
    "import tensorflow as tf\n",
    "\n",
    "\n",
    "def make_dataset(\n",
    "    path, batch_size, filenames, label_array, img_size: tuple = (224, 224)\n",
    "):\n",
    "    \"\"\"\n",
    "    - path: root to image folders\n",
    "    - batch_size: to iterate\n",
    "    - filenames: nd.array with list of absolute paths (filenames), in same order as label_array\n",
    "    - label_array: matching index as filenames\n",
    "    \"\"\"\n",
    "\n",
    "    def parse_image(filename):\n",
    "        image = tf.io.read_file(filename)\n",
    "        image = tf.image.decode_jpeg(image, channels=3)\n",
    "        image = tf.image.resize(image, img_size)\n",
    "        return image\n",
    "\n",
    "    def configure_for_performance(ds):\n",
    "        ds = ds.shuffle(buffer_size=1000)\n",
    "        ds = ds.batch(batch_size)\n",
    "        ds = ds.repeat()\n",
    "        ds = ds.prefetch(buffer_size=tf.data.experimental.AUTOTUNE)\n",
    "        return ds\n",
    "\n",
    "    # classes = os.listdir(path)\n",
    "    # filenames = glob(path + \"/*/*\")\n",
    "    filenames = filenames.unique()\n",
    "    random.shuffle(filenames)\n",
    "    # it = np.nditer(filenames, flags=['refs_ok', 'c_index'], )\n",
    "    # for file in it:\n",
    "    #     labels =\n",
    "    # labels = [classes.index(name.split(\"/\")[-2]) for name in filenames]\n",
    "    labels = y\n",
    "\n",
    "    filenames_ds = tf.data.Dataset.from_tensor_slices(filenames)\n",
    "    images_ds = filenames_ds.map(\n",
    "        parse_image, num_parallel_calls=tf.data.experimental.AUTOTUNE\n",
    "    )\n",
    "    labels_ds = tf.data.Dataset.from_tensor_slices(labels)\n",
    "    ds = tf.data.Dataset.zip((images_ds, labels_ds))\n",
    "    ds = configure_for_performance(ds)\n",
    "\n",
    "    return ds"
   ]
  },
  {
   "cell_type": "code",
   "execution_count": null,
   "id": "cfc3e6c5-bd83-4403-bef8-9e0b3bee486c",
   "metadata": {},
   "outputs": [],
   "source": [
    "ds_train = make_dataset(path_to_png, 32, df_train.path, y)\n",
    "ds_val = make_dataset(path_to_png, 32, df_val.path, y)"
   ]
  },
  {
   "cell_type": "code",
   "execution_count": null,
   "id": "dd7ee966-3d6f-46e4-982c-d179a800fc30",
   "metadata": {},
   "outputs": [],
   "source": [
    "classes_dict = pd.DataFrame(mlb.classes_).to_dict()[0]\n",
    "classes = mlb.classes_\n",
    "num_images = df.shape[0]"
   ]
  },
  {
   "cell_type": "code",
   "execution_count": null,
   "id": "68aabd23-c62d-4531-a30c-b2d3c109ba7f",
   "metadata": {},
   "outputs": [],
   "source": [
    "model = trainer.Trainer(ds_train, ds_val, \"multilabel\")"
   ]
  },
  {
   "cell_type": "code",
   "execution_count": null,
   "id": "cd6f9e09-f01a-42d4-8124-d548e8297de0",
   "metadata": {},
   "outputs": [],
   "source": [
    "img_size = (224, 224)"
   ]
  },
  {
   "cell_type": "code",
   "execution_count": null,
   "id": "dcb05275-32f3-4ee2-8b92-807623adc1b2",
   "metadata": {},
   "outputs": [],
   "source": [
    "model.build_cnn(\n",
    "    input_shape=img_size,\n",
    "    output_shape=len(classes),\n",
    "    dense_layer_geometry=(1024, 512, 256),\n",
    "    dropout_layers=True,\n",
    "    dropout_rate=0.25,\n",
    ")"
   ]
  },
  {
   "cell_type": "code",
   "execution_count": null,
   "id": "670bbe5a-5773-4551-a241-a8647bdab03e",
   "metadata": {
    "tags": []
   },
   "outputs": [],
   "source": [
    "model.pipeline.summary()"
   ]
  },
  {
   "cell_type": "code",
   "execution_count": null,
   "id": "3cfc10d6-4dfb-45f4-a2cd-4787a625fb22",
   "metadata": {},
   "outputs": [],
   "source": [
    "model.compile_model()"
   ]
  },
  {
   "cell_type": "code",
   "execution_count": null,
   "id": "8d771689-15b2-4759-8e2c-cd5fdecb9044",
   "metadata": {},
   "outputs": [],
   "source": [
    "# model.fit(dataset, batch_size=32, epochs=5, steps_per_epoch=math.ceil(num_images/32))\n",
    "batch_size = 32\n",
    "epochs = 5\n",
    "training_images = df_train.shape[0]\n",
    "steps_per_epoch = math.ceil(training_images / 32)\n",
    "\n",
    "validation_images = df_train.shape[0]\n",
    "validation_steps = math.ceil(validation_images / 32)"
   ]
  },
  {
   "cell_type": "code",
   "execution_count": null,
   "id": "86f855ae-5bea-45f9-aeb6-89c0499d5b2a",
   "metadata": {},
   "outputs": [],
   "source": [
    "steps_per_epoch"
   ]
  },
  {
   "cell_type": "code",
   "execution_count": null,
   "id": "836e140f-f8ff-45e7-8aa1-2c842f1f9890",
   "metadata": {},
   "outputs": [],
   "source": [
    "model.fit_model(\n",
    "    epochs=epochs,\n",
    "    batch_size=batch_size,\n",
    "    steps_per_epoch=steps_per_epoch,\n",
    "    validation_steps=validation_steps,\n",
    ")"
   ]
  },
  {
   "cell_type": "markdown",
   "id": "708907e2-a727-427e-9793-a5a5c84fd817",
   "metadata": {
    "jp-MarkdownHeadingCollapsed": true,
    "tags": []
   },
   "source": [
    "# Aux"
   ]
  },
  {
   "cell_type": "code",
   "execution_count": null,
   "id": "14903172-1c41-4a90-8545-e5fe4abf0890",
   "metadata": {},
   "outputs": [],
   "source": [
    "filenames[0:10]"
   ]
  },
  {
   "cell_type": "code",
   "execution_count": null,
   "id": "7c1cb15f-024e-4a34-ba97-42b129a20208",
   "metadata": {},
   "outputs": [],
   "source": [
    "df[df[\"Image Index\"] == \"00010162_000.png\"].index[0]"
   ]
  },
  {
   "cell_type": "code",
   "execution_count": null,
   "id": "ffff8536-992a-429c-b904-680647a9220c",
   "metadata": {},
   "outputs": [],
   "source": [
    "for path in filenames[0:10]:\n",
    "    name = path.split(\"/\")[-1]\n",
    "    idx = df[df[\"Image Index\"] == name].index[0]\n",
    "    label = y[idx]\n",
    "    print(idx)\n",
    "    print(label)"
   ]
  },
  {
   "cell_type": "code",
   "execution_count": null,
   "id": "93df2690-784a-44b6-806e-34f2f34563f6",
   "metadata": {},
   "outputs": [],
   "source": [
    "labels = [df[df[\"Image Index\"] == path.split(\"/\")[-1]].index[0] for path in filenames]"
   ]
  },
  {
   "cell_type": "code",
   "execution_count": null,
   "id": "3c562977-1025-4f36-93d5-4b28b6d62c6c",
   "metadata": {},
   "outputs": [],
   "source": [
    "len(df[\"Image Index\"])"
   ]
  },
  {
   "cell_type": "code",
   "execution_count": null,
   "id": "d1a596d2-185a-4b9f-b494-7c905b92b7bf",
   "metadata": {},
   "outputs": [],
   "source": [
    "y.shape"
   ]
  },
  {
   "cell_type": "code",
   "execution_count": null,
   "id": "5f53ecb0-8dba-467b-86f4-86aae8a33e46",
   "metadata": {},
   "outputs": [],
   "source": []
  },
  {
   "cell_type": "code",
   "execution_count": null,
   "id": "c7b89c3e-4cfe-47b4-91e7-533554bd6bb6",
   "metadata": {},
   "outputs": [],
   "source": []
  },
  {
   "cell_type": "code",
   "execution_count": null,
   "id": "07231ee2-f102-48c2-8bd9-599338a2a0c6",
   "metadata": {},
   "outputs": [],
   "source": [
    "IMG_SIZE = 224"
   ]
  },
  {
   "cell_type": "code",
   "execution_count": null,
   "id": "54953d78-dc82-4de7-8278-d10860cbbc63",
   "metadata": {},
   "outputs": [],
   "source": [
    "os.listdir(path_to_png)"
   ]
  },
  {
   "cell_type": "code",
   "execution_count": null,
   "id": "ff536b53-ca05-4212-a70a-4537f86423dd",
   "metadata": {},
   "outputs": [],
   "source": []
  },
  {
   "cell_type": "code",
   "execution_count": null,
   "id": "6ea426cf-55d2-4754-b1ab-4b6345134f05",
   "metadata": {},
   "outputs": [],
   "source": [
    "df.drop(\n",
    "    columns=[\n",
    "        \"Follow-up #\",\n",
    "        \"Patient Age\",\n",
    "        \"Patient Gender\",\n",
    "        \"View Position\",\n",
    "        \"OriginalImagePixelSpacing_x\",\n",
    "        \"OriginalImagePixelSpacing_y\",\n",
    "        \"OriginalImageWidth\",\n",
    "        \"OriginalImageHeight\",\n",
    "        \"OriginalImage[Width\",\n",
    "        \"Height]\",\n",
    "        \"OriginalImagePixelSpacing[x\",\n",
    "        \"y]\",\n",
    "        \"Count_diseases\",\n",
    "    ],\n",
    "    inplace=True,\n",
    "    errors=\"ignore\",\n",
    ")\n",
    "df.head(3)"
   ]
  }
 ],
 "metadata": {
  "kernelspec": {
   "display_name": "Python 3 (ipykernel)",
   "language": "python",
   "name": "python3"
  },
  "language_info": {
   "codemirror_mode": {
    "name": "ipython",
    "version": 3
   },
   "file_extension": ".py",
   "mimetype": "text/x-python",
   "name": "python",
   "nbconvert_exporter": "python",
   "pygments_lexer": "ipython3",
   "version": "3.8.6"
  }
 },
 "nbformat": 4,
 "nbformat_minor": 5
}
