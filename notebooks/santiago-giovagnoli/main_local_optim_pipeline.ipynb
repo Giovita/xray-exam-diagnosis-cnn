{
 "cells": [
  {
   "cell_type": "code",
   "execution_count": null,
   "id": "0725f491-cde4-43cc-9d25-efb3133192f5",
   "metadata": {},
   "outputs": [],
   "source": [
    "%load_ext autoreload\n",
    "%autoreload 2"
   ]
  },
  {
   "cell_type": "code",
   "execution_count": null,
   "id": "12e4bfe7-924a-4bc6-814b-4f8ae563a5fa",
   "metadata": {},
   "outputs": [],
   "source": [
    "import math\n",
    "import os\n",
    "from glob import glob\n",
    "\n",
    "import numpy as np\n",
    "import pandas as pd"
   ]
  },
  {
   "cell_type": "code",
   "execution_count": null,
   "id": "bfd6da28-d4ba-47f5-8906-66ecc41bdddc",
   "metadata": {},
   "outputs": [],
   "source": [
    "# Uncomment if on Collab or VM.\n",
    "\n",
    "# !pip install git+https://github.com/Giovita/xray-exam-diagnosis-cnn.git\n",
    "\n",
    "# from google.colab import drive\n",
    "# drive.mount('/content/drive')"
   ]
  },
  {
   "cell_type": "code",
   "execution_count": null,
   "id": "1c85b6df-f0fa-4903-b6b8-d01d697f5543",
   "metadata": {},
   "outputs": [],
   "source": [
    "from xray import data, params, trainer, utils"
   ]
  },
  {
   "cell_type": "code",
   "execution_count": null,
   "id": "a83a65b7-4113-4312-ae49-26b7cd12c315",
   "metadata": {},
   "outputs": [],
   "source": [
    "csv_labels = \"sample_labels.csv\"\n",
    "path_to_csv = os.path.join(\"../../raw_data/sample-data/\", csv_labels)"
   ]
  },
  {
   "cell_type": "code",
   "execution_count": null,
   "id": "c02f6430-9904-4562-977d-bd7a215d96e8",
   "metadata": {},
   "outputs": [],
   "source": [
    "filename = \"xray_df.csv\"\n",
    "df = data.get_data(\n",
    "    path_to_csv,\n",
    ")\n",
    "# df.head(3)"
   ]
  },
  {
   "cell_type": "code",
   "execution_count": null,
   "id": "9c39c326-6021-44fd-bad4-9f5931125622",
   "metadata": {},
   "outputs": [],
   "source": [
    "df = data.get_data_from_gcp(filename)\n",
    "df.head(3)"
   ]
  },
  {
   "cell_type": "code",
   "execution_count": null,
   "id": "b51b844c-2972-4af0-88e9-e40cb2126c0c",
   "metadata": {},
   "outputs": [],
   "source": [
    "df[\"labels\"] = df[\"Fixed_Labels\"].map(lambda x: x.split(\"|\"))\n",
    "# df.head(3)"
   ]
  },
  {
   "cell_type": "code",
   "execution_count": null,
   "id": "08cbee7d-1253-4fa0-b3b0-b735dbbef19f",
   "metadata": {},
   "outputs": [],
   "source": [
    "df = df[df[\"Enfermo\"] != True]"
   ]
  },
  {
   "cell_type": "code",
   "execution_count": null,
   "id": "5db3fc1e-20b3-4547-a708-8d4957e8ae40",
   "metadata": {},
   "outputs": [],
   "source": [
    "path_to_png = \"../../raw_data/sample-data/images\""
   ]
  },
  {
   "cell_type": "code",
   "execution_count": null,
   "id": "e257d223-5dc2-4e1d-af6d-a6874ab0e88e",
   "metadata": {},
   "outputs": [],
   "source": [
    "utils.get_paths(df, path_to_png, return_relative=False)"
   ]
  },
  {
   "cell_type": "code",
   "execution_count": null,
   "id": "78e56eaa-6d91-4406-930c-68478fd5b84a",
   "metadata": {},
   "outputs": [],
   "source": [
    "from sklearn.preprocessing import MultiLabelBinarizer"
   ]
  },
  {
   "cell_type": "code",
   "execution_count": null,
   "id": "6e3d3efc-f319-42cf-a09f-f28eb742fa36",
   "metadata": {},
   "outputs": [],
   "source": [
    "mlb = MultiLabelBinarizer().fit(df.labels)\n",
    "mlb_classes = mlb.classes_\n",
    "mlb_classes.shape"
   ]
  },
  {
   "cell_type": "code",
   "execution_count": null,
   "id": "1d10a0f9-0e35-4abb-9fe5-9873ba25a618",
   "metadata": {},
   "outputs": [],
   "source": [
    "y = mlb.transform(df.labels).astype(\"int16\")"
   ]
  },
  {
   "cell_type": "code",
   "execution_count": null,
   "id": "a24f17e3-ef94-4ef1-9012-ea7cbc44d96e",
   "metadata": {},
   "outputs": [],
   "source": [
    "df_train, df_val, df_test = data.split_df(\n",
    "    df, \"Patient ID\", (0.65, 0.175, 0.175), total_filter=0.3\n",
    ")"
   ]
  },
  {
   "cell_type": "markdown",
   "id": "ae84c73b-484a-4620-b8c4-4803dc3c13aa",
   "metadata": {},
   "source": [
    "#### `tf.data.Dataset`"
   ]
  },
  {
   "cell_type": "code",
   "execution_count": null,
   "id": "2b664549-e34b-4440-ab10-adea1d453f3f",
   "metadata": {
    "jupyter": {
     "source_hidden": true
    },
    "tags": []
   },
   "outputs": [],
   "source": [
    "import random\n",
    "from glob import glob\n",
    "\n",
    "import tensorflow as tf\n",
    "\n",
    "\n",
    "def make_dataset(\n",
    "    path, batch_size, filenames, label_array, img_size: tuple = (224, 224)\n",
    "):\n",
    "    \"\"\"\n",
    "    - path: root to image folders\n",
    "    - batch_size: to iterate\n",
    "    - filenames: nd.array with list of absolute paths (filenames), in same order as label_array\n",
    "    - label_array: matching index as filenames\n",
    "    \"\"\"\n",
    "\n",
    "    def parse_image(filename):\n",
    "        image = tf.io.read_file(filename)\n",
    "        image = tf.image.decode_jpeg(image, channels=3)\n",
    "        image = tf.image.resize(image, img_size)\n",
    "        return image\n",
    "\n",
    "    def configure_for_performance(ds):\n",
    "        ds = ds.shuffle(buffer_size=1000)\n",
    "        ds = ds.batch(batch_size)\n",
    "        ds = ds.repeat()\n",
    "        ds = ds.prefetch(buffer_size=tf.data.experimental.AUTOTUNE)\n",
    "        return ds\n",
    "\n",
    "    # classes = os.listdir(path)\n",
    "    # filenames = glob(path + \"/*/*\")\n",
    "    filenames = filenames.unique()\n",
    "    random.shuffle(filenames)\n",
    "    # it = np.nditer(filenames, flags=['refs_ok', 'c_index'], )\n",
    "    # for file in it:\n",
    "    #     labels =\n",
    "    # labels = [classes.index(name.split(\"/\")[-2]) for name in filenames]\n",
    "    labels = y\n",
    "\n",
    "    filenames_ds = tf.data.Dataset.from_tensor_slices(filenames)\n",
    "    images_ds = filenames_ds.map(\n",
    "        parse_image, num_parallel_calls=tf.data.experimental.AUTOTUNE\n",
    "    )\n",
    "    labels_ds = tf.data.Dataset.from_tensor_slices(labels)\n",
    "    ds = tf.data.Dataset.zip((images_ds, labels_ds))\n",
    "    ds = configure_for_performance(ds)\n",
    "\n",
    "    return ds"
   ]
  },
  {
   "cell_type": "code",
   "execution_count": null,
   "id": "3ca1d887-ec2c-438d-a320-85134368b172",
   "metadata": {},
   "outputs": [],
   "source": [
    "# # y = y.tolist()\n",
    "# df_train = df_train.path.to_list()\n",
    "# df_val = df_val.path.to_list()\n",
    "# df_test = df_test.path.to_list()\n",
    "\n",
    "ds_train = data.make_dataset(path_to_png, 32, df_train, y)\n",
    "ds_val = data.make_dataset(path_to_png, 32, df_val, y)"
   ]
  },
  {
   "cell_type": "code",
   "execution_count": null,
   "id": "cfc3e6c5-bd83-4403-bef8-9e0b3bee486c",
   "metadata": {},
   "outputs": [],
   "source": [
    "# ds_train = data.make_dataset(path_to_png, 32, df_train.path, y)\n",
    "# ds_val = data.make_dataset(path_to_png, 32, df_val.path, y)"
   ]
  },
  {
   "cell_type": "code",
   "execution_count": null,
   "id": "dd7ee966-3d6f-46e4-982c-d179a800fc30",
   "metadata": {},
   "outputs": [],
   "source": [
    "classes_dict = pd.DataFrame(mlb.classes_).to_dict()[0]\n",
    "classes = mlb.classes_\n",
    "num_images = df.shape[0]"
   ]
  },
  {
   "cell_type": "code",
   "execution_count": null,
   "id": "68aabd23-c62d-4531-a30c-b2d3c109ba7f",
   "metadata": {},
   "outputs": [],
   "source": [
    "model = trainer.Trainer(ds_train, ds_val, \"multilabel\")"
   ]
  },
  {
   "cell_type": "code",
   "execution_count": null,
   "id": "cd6f9e09-f01a-42d4-8124-d548e8297de0",
   "metadata": {},
   "outputs": [],
   "source": [
    "img_size = (224, 224)"
   ]
  },
  {
   "cell_type": "code",
   "execution_count": null,
   "id": "dcb05275-32f3-4ee2-8b92-807623adc1b2",
   "metadata": {},
   "outputs": [],
   "source": [
    "model.build_cnn(\n",
    "    input_shape=img_size,\n",
    "    output_shape=len(classes),\n",
    "    dense_layer_geometry=(1024, 512, 256),\n",
    "    dropout_layers=True,\n",
    "    dropout_rate=0.25,\n",
    ")"
   ]
  },
  {
   "cell_type": "code",
   "execution_count": null,
   "id": "670bbe5a-5773-4551-a241-a8647bdab03e",
   "metadata": {
    "tags": []
   },
   "outputs": [],
   "source": [
    "model.pipeline.summary()"
   ]
  },
  {
   "cell_type": "code",
   "execution_count": null,
   "id": "3cfc10d6-4dfb-45f4-a2cd-4787a625fb22",
   "metadata": {},
   "outputs": [],
   "source": [
    "model.compile_model()"
   ]
  },
  {
   "cell_type": "code",
   "execution_count": null,
   "id": "8d771689-15b2-4759-8e2c-cd5fdecb9044",
   "metadata": {},
   "outputs": [],
   "source": [
    "# model.fit(dataset, batch_size=32, epochs=5, steps_per_epoch=math.ceil(num_images/32))\n",
    "batch_size = 32\n",
    "epochs = 3\n",
    "training_images = len(df_train)\n",
    "steps_per_epoch = math.ceil(training_images / 32)\n",
    "\n",
    "validation_images = len(df_val)\n",
    "validation_steps = math.ceil(validation_images / 32)"
   ]
  },
  {
   "cell_type": "code",
   "execution_count": null,
   "id": "86f855ae-5bea-45f9-aeb6-89c0499d5b2a",
   "metadata": {},
   "outputs": [],
   "source": [
    "steps_per_epoch"
   ]
  },
  {
   "cell_type": "code",
   "execution_count": null,
   "id": "836e140f-f8ff-45e7-8aa1-2c842f1f9890",
   "metadata": {},
   "outputs": [],
   "source": [
    "model.fit_model(\n",
    "    epochs=epochs,\n",
    "    batch_size=batch_size,\n",
    "    steps_per_epoch=steps_per_epoch,\n",
    "    validation_steps=validation_steps,\n",
    ")"
   ]
  },
  {
   "cell_type": "markdown",
   "id": "14722cab-bb29-45fc-98a7-2ecc9b0799cf",
   "metadata": {},
   "source": [
    "# Test GCP_BUCKETS"
   ]
  },
  {
   "cell_type": "code",
   "execution_count": 1,
   "id": "ad2d9ed5-7a3f-4f6e-aa46-53322234f867",
   "metadata": {},
   "outputs": [],
   "source": [
    "%load_ext autoreload\n",
    "%autoreload 2"
   ]
  },
  {
   "cell_type": "code",
   "execution_count": 2,
   "id": "474a35d2-8179-43ca-8276-d016a8eb0bea",
   "metadata": {},
   "outputs": [],
   "source": [
    "import math\n",
    "import os\n",
    "from glob import glob\n",
    "\n",
    "import numpy as np\n",
    "import pandas as pd"
   ]
  },
  {
   "cell_type": "code",
   "execution_count": 3,
   "id": "532c6eaf-2a95-4da4-9910-abdc9865abbe",
   "metadata": {},
   "outputs": [],
   "source": [
    "# Uncomment if on Collab or VM.\n",
    "\n",
    "# !pip install git+https://github.com/Giovita/xray-exam-diagnosis-cnn.git\n",
    "\n",
    "# from google.colab import drive\n",
    "# drive.mount('/content/drive')"
   ]
  },
  {
   "cell_type": "code",
   "execution_count": 4,
   "id": "3f5801e1-49f8-47e6-91fc-67d2b6da5d89",
   "metadata": {},
   "outputs": [],
   "source": [
    "from xray import data, params, trainer, utils"
   ]
  },
  {
   "cell_type": "code",
   "execution_count": 5,
   "id": "d18df209-06bc-4b3b-8548-88833ec74b74",
   "metadata": {},
   "outputs": [],
   "source": [
    "\n",
    "# df = data.get_data(\n",
    "#     path_to_csv,\n",
    "# )\n",
    "# # df.head(3)"
   ]
  },
  {
   "cell_type": "code",
   "execution_count": 7,
   "id": "302d0bf0-b2ce-43d7-a42a-a8851e335af4",
   "metadata": {
    "tags": []
   },
   "outputs": [
    {
     "data": {
      "text/html": [
       "<div>\n",
       "<style scoped>\n",
       "    .dataframe tbody tr th:only-of-type {\n",
       "        vertical-align: middle;\n",
       "    }\n",
       "\n",
       "    .dataframe tbody tr th {\n",
       "        vertical-align: top;\n",
       "    }\n",
       "\n",
       "    .dataframe thead th {\n",
       "        text-align: right;\n",
       "    }\n",
       "</style>\n",
       "<table border=\"1\" class=\"dataframe\">\n",
       "  <thead>\n",
       "    <tr style=\"text-align: right;\">\n",
       "      <th></th>\n",
       "      <th>Image Index</th>\n",
       "      <th>Follow-up #</th>\n",
       "      <th>Patient ID</th>\n",
       "      <th>Patient Age</th>\n",
       "      <th>Patient Gender</th>\n",
       "      <th>View Position</th>\n",
       "      <th>OriginalImage[Width</th>\n",
       "      <th>Height]</th>\n",
       "      <th>OriginalImagePixelSpacing[x</th>\n",
       "      <th>y]</th>\n",
       "      <th>...</th>\n",
       "      <th>Infiltration</th>\n",
       "      <th>Mass</th>\n",
       "      <th>No Finding</th>\n",
       "      <th>Nodule</th>\n",
       "      <th>Pleural_Thickening</th>\n",
       "      <th>Pneumonia</th>\n",
       "      <th>Pneumothorax</th>\n",
       "      <th>Fixed_Labels</th>\n",
       "      <th>path</th>\n",
       "      <th>cat_col</th>\n",
       "    </tr>\n",
       "  </thead>\n",
       "  <tbody>\n",
       "    <tr>\n",
       "      <th>0</th>\n",
       "      <td>00000001_000.png</td>\n",
       "      <td>0</td>\n",
       "      <td>1</td>\n",
       "      <td>58</td>\n",
       "      <td>M</td>\n",
       "      <td>PA</td>\n",
       "      <td>2682</td>\n",
       "      <td>2749</td>\n",
       "      <td>0.143</td>\n",
       "      <td>0.143</td>\n",
       "      <td>...</td>\n",
       "      <td>0</td>\n",
       "      <td>0</td>\n",
       "      <td>0</td>\n",
       "      <td>0</td>\n",
       "      <td>0</td>\n",
       "      <td>0</td>\n",
       "      <td>0</td>\n",
       "      <td>Cardiomegaly</td>\n",
       "      <td>/content/drive/MyDrive/Proyecto_Lewagon_Rayos_...</td>\n",
       "      <td>['Cardiomegaly']</td>\n",
       "    </tr>\n",
       "    <tr>\n",
       "      <th>1</th>\n",
       "      <td>00000001_001.png</td>\n",
       "      <td>1</td>\n",
       "      <td>1</td>\n",
       "      <td>58</td>\n",
       "      <td>M</td>\n",
       "      <td>PA</td>\n",
       "      <td>2894</td>\n",
       "      <td>2729</td>\n",
       "      <td>0.143</td>\n",
       "      <td>0.143</td>\n",
       "      <td>...</td>\n",
       "      <td>0</td>\n",
       "      <td>0</td>\n",
       "      <td>0</td>\n",
       "      <td>0</td>\n",
       "      <td>0</td>\n",
       "      <td>0</td>\n",
       "      <td>0</td>\n",
       "      <td>Cardiomegaly|Emphysema</td>\n",
       "      <td>/content/drive/MyDrive/Proyecto_Lewagon_Rayos_...</td>\n",
       "      <td>['Cardiomegaly', 'Emphysema']</td>\n",
       "    </tr>\n",
       "    <tr>\n",
       "      <th>2</th>\n",
       "      <td>00000001_002.png</td>\n",
       "      <td>2</td>\n",
       "      <td>1</td>\n",
       "      <td>58</td>\n",
       "      <td>M</td>\n",
       "      <td>PA</td>\n",
       "      <td>2500</td>\n",
       "      <td>2048</td>\n",
       "      <td>0.168</td>\n",
       "      <td>0.168</td>\n",
       "      <td>...</td>\n",
       "      <td>0</td>\n",
       "      <td>0</td>\n",
       "      <td>0</td>\n",
       "      <td>0</td>\n",
       "      <td>0</td>\n",
       "      <td>0</td>\n",
       "      <td>0</td>\n",
       "      <td>Cardiomegaly|Effusion</td>\n",
       "      <td>/content/drive/MyDrive/Proyecto_Lewagon_Rayos_...</td>\n",
       "      <td>['Cardiomegaly', 'Effusion']</td>\n",
       "    </tr>\n",
       "  </tbody>\n",
       "</table>\n",
       "<p>3 rows × 30 columns</p>\n",
       "</div>"
      ],
      "text/plain": [
       "        Image Index  Follow-up #  Patient ID  Patient Age Patient Gender  \\\n",
       "0  00000001_000.png            0           1           58              M   \n",
       "1  00000001_001.png            1           1           58              M   \n",
       "2  00000001_002.png            2           1           58              M   \n",
       "\n",
       "  View Position  OriginalImage[Width  Height]  OriginalImagePixelSpacing[x  \\\n",
       "0            PA                 2682     2749                        0.143   \n",
       "1            PA                 2894     2729                        0.143   \n",
       "2            PA                 2500     2048                        0.168   \n",
       "\n",
       "      y]  ...  Infiltration  Mass  No Finding  Nodule  Pleural_Thickening  \\\n",
       "0  0.143  ...             0     0           0       0                   0   \n",
       "1  0.143  ...             0     0           0       0                   0   \n",
       "2  0.168  ...             0     0           0       0                   0   \n",
       "\n",
       "   Pneumonia  Pneumothorax            Fixed_Labels  \\\n",
       "0          0             0            Cardiomegaly   \n",
       "1          0             0  Cardiomegaly|Emphysema   \n",
       "2          0             0   Cardiomegaly|Effusion   \n",
       "\n",
       "                                                path  \\\n",
       "0  /content/drive/MyDrive/Proyecto_Lewagon_Rayos_...   \n",
       "1  /content/drive/MyDrive/Proyecto_Lewagon_Rayos_...   \n",
       "2  /content/drive/MyDrive/Proyecto_Lewagon_Rayos_...   \n",
       "\n",
       "                         cat_col  \n",
       "0               ['Cardiomegaly']  \n",
       "1  ['Cardiomegaly', 'Emphysema']  \n",
       "2   ['Cardiomegaly', 'Effusion']  \n",
       "\n",
       "[3 rows x 30 columns]"
      ]
     },
     "execution_count": 7,
     "metadata": {},
     "output_type": "execute_result"
    }
   ],
   "source": [
    "filename = 'xray_df.csv'\n",
    "df = data.get_data_from_gcp(filename)\n",
    "df.head(3)"
   ]
  },
  {
   "cell_type": "code",
   "execution_count": 22,
   "id": "b5a76ffe-c602-4332-b849-3210f78405c7",
   "metadata": {},
   "outputs": [],
   "source": [
    "# df[\"labels\"] = df[\"Finding Labels\"].map(lambda x: x.split(\"|\"))\n",
    "# df.head(3)"
   ]
  },
  {
   "cell_type": "code",
   "execution_count": 8,
   "id": "031add13-3fea-4d21-87ae-db11b7cfc9f0",
   "metadata": {},
   "outputs": [
    {
     "data": {
      "text/plain": [
       "(51751, 30)"
      ]
     },
     "execution_count": 8,
     "metadata": {},
     "output_type": "execute_result"
    }
   ],
   "source": [
    "df = df[df[\"Fixed_Labels\"] != \"No Finding\"]\n",
    "df.shape"
   ]
  },
  {
   "cell_type": "code",
   "execution_count": 9,
   "id": "15b3bc30-5492-4059-bb00-6df33eaf018a",
   "metadata": {},
   "outputs": [
    {
     "data": {
      "text/plain": [
       "'/content/drive/MyDrive/Proyecto_Lewagon_Rayos_X/images_001/images/00000001_000.png'"
      ]
     },
     "execution_count": 9,
     "metadata": {},
     "output_type": "execute_result"
    }
   ],
   "source": [
    "df.path[0]"
   ]
  },
  {
   "cell_type": "code",
   "execution_count": 10,
   "id": "4a32c2de-ed43-482f-8725-6f532eda7545",
   "metadata": {},
   "outputs": [],
   "source": [
    "df['path'] = df.path.map(lambda x: \"/\".join(x.split(\"/\")[-3:]))"
   ]
  },
  {
   "cell_type": "code",
   "execution_count": 11,
   "id": "5986a213-d963-4324-b352-b47f95d1aaab",
   "metadata": {},
   "outputs": [
    {
     "data": {
      "text/plain": [
       "'images_001/images/00000001_000.png'"
      ]
     },
     "execution_count": 11,
     "metadata": {},
     "output_type": "execute_result"
    }
   ],
   "source": [
    "df.path[0]"
   ]
  },
  {
   "cell_type": "code",
   "execution_count": 12,
   "id": "0ef9d31f-cd4c-4b03-a5dc-82d46a623180",
   "metadata": {},
   "outputs": [],
   "source": [
    "path_to_png = params.GCP_IMAGE_BUCKET"
   ]
  },
  {
   "cell_type": "code",
   "execution_count": 13,
   "id": "6019b473-fced-43fc-9a74-0996de04cd58",
   "metadata": {},
   "outputs": [],
   "source": [
    "# utils.get_paths(df, path_to_png, overwrite_path=True)"
   ]
  },
  {
   "cell_type": "code",
   "execution_count": 14,
   "id": "2599034b-049f-4864-9089-b393791ddf81",
   "metadata": {},
   "outputs": [
    {
     "data": {
      "text/plain": [
       "51751"
      ]
     },
     "execution_count": 14,
     "metadata": {},
     "output_type": "execute_result"
    }
   ],
   "source": [
    "df.path.nunique()"
   ]
  },
  {
   "cell_type": "code",
   "execution_count": 15,
   "id": "4b5b3c16-6f65-4ada-990e-73e36345b4da",
   "metadata": {},
   "outputs": [],
   "source": [
    "# utils.get_paths(df, path_to_png, return_relative=False)"
   ]
  },
  {
   "cell_type": "code",
   "execution_count": 16,
   "id": "6b120534-6cdc-49a6-b454-51fdd29e15b9",
   "metadata": {},
   "outputs": [],
   "source": [
    "from sklearn.preprocessing import MultiLabelBinarizer"
   ]
  },
  {
   "cell_type": "code",
   "execution_count": 17,
   "id": "1b274727-be88-4f61-b65f-de2ea97886f4",
   "metadata": {},
   "outputs": [],
   "source": [
    "df[\"labels\"] = df[\"Fixed_Labels\"].map(lambda x: x.split(\"|\"))"
   ]
  },
  {
   "cell_type": "code",
   "execution_count": 18,
   "id": "47d2c2a8-2c89-4b34-b5b1-d1d1517ee56f",
   "metadata": {},
   "outputs": [
    {
     "data": {
      "text/plain": [
       "(14,)"
      ]
     },
     "execution_count": 18,
     "metadata": {},
     "output_type": "execute_result"
    }
   ],
   "source": [
    "mlb = MultiLabelBinarizer().fit(df.labels)\n",
    "mlb_classes = mlb.classes_\n",
    "mlb_classes.shape"
   ]
  },
  {
   "cell_type": "code",
   "execution_count": 19,
   "id": "777e1534-c8dc-4d55-8170-42636a75bb83",
   "metadata": {},
   "outputs": [],
   "source": [
    "y = mlb.transform(df.labels).astype(\"int16\")"
   ]
  },
  {
   "cell_type": "code",
   "execution_count": 20,
   "id": "4c493f9c-9abb-4bc3-b715-ce47bcfdaf1c",
   "metadata": {},
   "outputs": [],
   "source": [
    "# df.path = df['Image Index']"
   ]
  },
  {
   "cell_type": "code",
   "execution_count": 21,
   "id": "0d0a14ac-859a-4e1a-a9c2-eedef50e4a48",
   "metadata": {},
   "outputs": [],
   "source": [
    "df.path = df.path.map(lambda x: os.path.join(params.GCP_IMAGE_BUCKET, x))"
   ]
  },
  {
   "cell_type": "code",
   "execution_count": 22,
   "id": "e182fbfa-2805-4cc7-9219-2e00847de119",
   "metadata": {},
   "outputs": [],
   "source": [
    "# df.path"
   ]
  },
  {
   "cell_type": "code",
   "execution_count": 23,
   "id": "66385a67-af0a-4443-b1b2-c8a824f412ca",
   "metadata": {},
   "outputs": [],
   "source": [
    "df_train, df_val, df_test = data.split_df(\n",
    "    df, \"Patient ID\", (0.65, 0.175, 0.175), total_filter=0.3\n",
    ")"
   ]
  },
  {
   "cell_type": "markdown",
   "id": "3776796c-ccf2-470b-adec-90bdfc858535",
   "metadata": {},
   "source": [
    "### `tf.data.Dataset`"
   ]
  },
  {
   "cell_type": "code",
   "execution_count": 24,
   "id": "c55af4f6-d598-403f-93fd-8008a9afeb64",
   "metadata": {
    "jupyter": {
     "source_hidden": true
    },
    "tags": []
   },
   "outputs": [],
   "source": [
    "import random\n",
    "from glob import glob\n",
    "\n",
    "import tensorflow as tf\n",
    "\n",
    "\n",
    "def make_dataset(\n",
    "    path, batch_size, filenames, label_array, img_size: tuple = (224, 224)\n",
    "):\n",
    "    \"\"\"\n",
    "    - path: root to image folders\n",
    "    - batch_size: to iterate\n",
    "    - filenames: nd.array with list of absolute paths (filenames), in same order as label_array\n",
    "    - label_array: matching index as filenames\n",
    "    \"\"\"\n",
    "\n",
    "    def parse_image(filename):\n",
    "        image = tf.io.read_file(filename)\n",
    "        image = tf.image.decode_jpeg(image, channels=3)\n",
    "        image = tf.image.resize(image, img_size)\n",
    "        return image\n",
    "\n",
    "    def configure_for_performance(ds):\n",
    "        ds = ds.shuffle(buffer_size=1000)\n",
    "        ds = ds.batch(batch_size)\n",
    "        ds = ds.repeat()\n",
    "        ds = ds.prefetch(buffer_size=tf.data.experimental.AUTOTUNE)\n",
    "        return ds\n",
    "\n",
    "    # classes = os.listdir(path)\n",
    "    # filenames = glob(path + \"/*/*\")\n",
    "    filenames = filenames.unique()\n",
    "    random.shuffle(filenames)\n",
    "    # it = np.nditer(filenames, flags=['refs_ok', 'c_index'], )\n",
    "    # for file in it:\n",
    "    #     labels =\n",
    "    # labels = [classes.index(name.split(\"/\")[-2]) for name in filenames]\n",
    "    labels = y\n",
    "\n",
    "    filenames_ds = tf.data.Dataset.from_tensor_slices(filenames)\n",
    "    images_ds = filenames_ds.map(\n",
    "        parse_image, num_parallel_calls=tf.data.experimental.AUTOTUNE\n",
    "    )\n",
    "    labels_ds = tf.data.Dataset.from_tensor_slices(labels)\n",
    "    ds = tf.data.Dataset.zip((images_ds, labels_ds))\n",
    "    ds = configure_for_performance(ds)\n",
    "\n",
    "    return ds"
   ]
  },
  {
   "cell_type": "code",
   "execution_count": 25,
   "id": "d14d81b5-ce24-4bf9-b81e-21079eb73ff4",
   "metadata": {},
   "outputs": [
    {
     "data": {
      "text/plain": [
       "'gs://images-xray-lewagon/'"
      ]
     },
     "execution_count": 25,
     "metadata": {},
     "output_type": "execute_result"
    }
   ],
   "source": [
    "path_to_png"
   ]
  },
  {
   "cell_type": "code",
   "execution_count": 26,
   "id": "c96cd9af-9f32-4956-8d81-f7ce0b77269d",
   "metadata": {},
   "outputs": [
    {
     "name": "stderr",
     "output_type": "stream",
     "text": [
      "2021-10-19 16:52:23.228552: E tensorflow/stream_executor/cuda/cuda_driver.cc:271] failed call to cuInit: CUDA_ERROR_NO_DEVICE: no CUDA-capable device is detected\n",
      "2021-10-19 16:52:23.228593: I tensorflow/stream_executor/cuda/cuda_diagnostics.cc:156] kernel driver does not appear to be running on this host (alienware): /proc/driver/nvidia/version does not exist\n",
      "2021-10-19 16:52:23.229058: I tensorflow/core/platform/cpu_feature_guard.cc:142] This TensorFlow binary is optimized with oneAPI Deep Neural Network Library (oneDNN) to use the following CPU instructions in performance-critical operations:  AVX2 FMA\n",
      "To enable them in other operations, rebuild TensorFlow with the appropriate compiler flags.\n"
     ]
    }
   ],
   "source": [
    "y = y.tolist()\n",
    "df_train = df_train.path.to_list()\n",
    "df_val = df_val.path.to_list()\n",
    "df_test = df_test.path.to_list()\n",
    "\n",
    "ds_train = data.make_dataset(path_to_png, 32, df_train, y)\n",
    "ds_val = data.make_dataset(path_to_png, 32, df_val, y)"
   ]
  },
  {
   "cell_type": "code",
   "execution_count": 27,
   "id": "56df31f1-608e-4e3b-8f5c-e717065ab0d6",
   "metadata": {},
   "outputs": [],
   "source": [
    "# ds_train = data.make_dataset(path_to_png, 32, df_train.path, y)\n",
    "# ds_val = data.make_dataset(path_to_png, 32, df_val.path, y)"
   ]
  },
  {
   "cell_type": "code",
   "execution_count": 29,
   "id": "938faf55-0469-43c1-96a3-f5d9c55cc8b3",
   "metadata": {},
   "outputs": [],
   "source": [
    "classes_dict = pd.DataFrame(mlb.classes_).to_dict()[0]\n",
    "classes = mlb.classes_\n",
    "# num_images = df.shape[0]"
   ]
  },
  {
   "cell_type": "code",
   "execution_count": 31,
   "id": "5f628db5-316b-425e-b9ac-485398384c8d",
   "metadata": {},
   "outputs": [
    {
     "data": {
      "text/plain": [
       "{0: 'Atelectasis',\n",
       " 1: 'Cardiomegaly',\n",
       " 2: 'Consolidation',\n",
       " 3: 'Edema',\n",
       " 4: 'Effusion',\n",
       " 5: 'Emphysema',\n",
       " 6: 'Fibrosis',\n",
       " 7: 'Hernia',\n",
       " 8: 'Infiltration',\n",
       " 9: 'Mass',\n",
       " 10: 'Nodule',\n",
       " 11: 'Pleural_Thickening',\n",
       " 12: 'Pneumonia',\n",
       " 13: 'Pneumothorax'}"
      ]
     },
     "execution_count": 31,
     "metadata": {},
     "output_type": "execute_result"
    }
   ],
   "source": [
    "classes_dict = pd.DataFrame(mlb.classes_).to_dict()[0]\n",
    "classes_dict"
   ]
  },
  {
   "cell_type": "code",
   "execution_count": 44,
   "id": "8ad3d5bc-6e31-4129-8933-c8ed2d7cf897",
   "metadata": {},
   "outputs": [],
   "source": [
    "model = trainer.Trainer(ds_train, ds_val, \"multilabel\")"
   ]
  },
  {
   "cell_type": "code",
   "execution_count": 45,
   "id": "355aa2b2-0803-439e-9e39-b43e19b71d7e",
   "metadata": {},
   "outputs": [],
   "source": [
    "img_size = (224, 224)"
   ]
  },
  {
   "cell_type": "code",
   "execution_count": 46,
   "id": "cd1d9e00-1f00-4a0b-aac7-eb7d4990bd18",
   "metadata": {},
   "outputs": [],
   "source": [
    "model.build_cnn(\n",
    "    input_shape=img_size,\n",
    "    output_shape=len(classes),\n",
    "    dense_layer_geometry=(1024, 512, 256),\n",
    "    dropout_layers=True,\n",
    "    dropout_rate=0.25,\n",
    ")"
   ]
  },
  {
   "cell_type": "code",
   "execution_count": 47,
   "id": "fac15fa3-9683-4ddb-b86c-160d9f524fec",
   "metadata": {
    "tags": []
   },
   "outputs": [
    {
     "name": "stdout",
     "output_type": "stream",
     "text": [
      "Model: \"sequential\"\n",
      "_________________________________________________________________\n",
      "Layer (type)                 Output Shape              Param #   \n",
      "=================================================================\n",
      "vgg16 (Functional)           (None, 7, 7, 512)         14714688  \n",
      "_________________________________________________________________\n",
      "flatten (Flatten)            (None, 25088)             0         \n",
      "_________________________________________________________________\n",
      "dense (Dense)                (None, 1024)              25691136  \n",
      "_________________________________________________________________\n",
      "dropout (Dropout)            (None, 1024)              0         \n",
      "_________________________________________________________________\n",
      "dense_1 (Dense)              (None, 512)               524800    \n",
      "_________________________________________________________________\n",
      "dropout_1 (Dropout)          (None, 512)               0         \n",
      "_________________________________________________________________\n",
      "dense_2 (Dense)              (None, 256)               131328    \n",
      "_________________________________________________________________\n",
      "dropout_2 (Dropout)          (None, 256)               0         \n",
      "_________________________________________________________________\n",
      "dense_3 (Dense)              (None, 14)                3598      \n",
      "=================================================================\n",
      "Total params: 41,065,550\n",
      "Trainable params: 26,350,862\n",
      "Non-trainable params: 14,714,688\n",
      "_________________________________________________________________\n"
     ]
    }
   ],
   "source": [
    "model.pipeline.summary()"
   ]
  },
  {
   "cell_type": "code",
   "execution_count": 48,
   "id": "2107ab3f-3ad1-43df-94cd-20c96e2b2e91",
   "metadata": {},
   "outputs": [],
   "source": [
    "model.compile_model()"
   ]
  },
  {
   "cell_type": "code",
   "execution_count": 49,
   "id": "24f7f631-8655-4ff4-b4f6-3b6a9d052d52",
   "metadata": {},
   "outputs": [],
   "source": [
    "# model.fit(dataset, batch_size=32, epochs=5, steps_per_epoch=math.ceil(num_images/32))\n",
    "batch_size = 32\n",
    "epochs = 3\n",
    "training_images = len(df_train)\n",
    "steps_per_epoch = math.ceil(training_images / 32)\n",
    "\n",
    "validation_images = len(df_val)\n",
    "validation_steps = math.ceil(validation_images / 32)"
   ]
  },
  {
   "cell_type": "code",
   "execution_count": 50,
   "id": "7da1cda3-c49a-468c-800e-69f9fc34aa5d",
   "metadata": {},
   "outputs": [
    {
     "data": {
      "text/plain": [
       "333"
      ]
     },
     "execution_count": 50,
     "metadata": {},
     "output_type": "execute_result"
    }
   ],
   "source": [
    "steps_per_epoch"
   ]
  },
  {
   "cell_type": "code",
   "execution_count": 51,
   "id": "f3a506b7-858f-4b49-97ab-b88a791aa45a",
   "metadata": {},
   "outputs": [],
   "source": [
    "from pydrive.auth import GoogleAuth\n",
    "from pydrive.drive import GoogleDrive\n",
    "from oauth2client.client import GoogleCredentials"
   ]
  },
  {
   "cell_type": "code",
   "execution_count": null,
   "id": "0ff7d371-f5bf-4d03-ada0-d9b924cc6161",
   "metadata": {},
   "outputs": [],
   "source": [
    "gauth = GoogleAuth()\n",
    "gauth.credentials = GoogleCredentials.get_application_default()\n",
    "drive = GoogleDrive(gauth)"
   ]
  },
  {
   "cell_type": "code",
   "execution_count": 52,
   "id": "befba00c-01b3-4277-9755-2e2b2e167eac",
   "metadata": {},
   "outputs": [
    {
     "name": "stdout",
     "output_type": "stream",
     "text": [
      "Epoch 1/3\n"
     ]
    },
    {
     "name": "stderr",
     "output_type": "stream",
     "text": [
      "2021-10-18 19:59:42.397519: I tensorflow/compiler/mlir/mlir_graph_optimization_pass.cc:185] None of the MLIR Optimization Passes are enabled (registered 2)\n",
      "2021-10-18 19:59:52.845310: I tensorflow/core/kernels/data/shuffle_dataset_op.cc:175] Filling up shuffle buffer (this may take a while): 69 of 1000\n",
      "2021-10-18 20:00:02.803986: I tensorflow/core/kernels/data/shuffle_dataset_op.cc:175] Filling up shuffle buffer (this may take a while): 155 of 1000\n",
      "2021-10-18 20:00:12.864273: I tensorflow/core/kernels/data/shuffle_dataset_op.cc:175] Filling up shuffle buffer (this may take a while): 239 of 1000\n",
      "2021-10-18 20:00:23.090447: I tensorflow/core/kernels/data/shuffle_dataset_op.cc:175] Filling up shuffle buffer (this may take a while): 315 of 1000\n",
      "2021-10-18 20:00:32.785618: I tensorflow/core/kernels/data/shuffle_dataset_op.cc:175] Filling up shuffle buffer (this may take a while): 399 of 1000\n",
      "2021-10-18 20:00:42.703919: I tensorflow/core/kernels/data/shuffle_dataset_op.cc:175] Filling up shuffle buffer (this may take a while): 477 of 1000\n",
      "2021-10-18 20:00:52.721616: I tensorflow/core/kernels/data/shuffle_dataset_op.cc:175] Filling up shuffle buffer (this may take a while): 562 of 1000\n",
      "2021-10-18 20:01:03.066213: I tensorflow/core/kernels/data/shuffle_dataset_op.cc:175] Filling up shuffle buffer (this may take a while): 646 of 1000\n",
      "2021-10-18 20:01:13.288714: I tensorflow/core/kernels/data/shuffle_dataset_op.cc:175] Filling up shuffle buffer (this may take a while): 730 of 1000\n",
      "2021-10-18 20:01:26.166765: I tensorflow/core/kernels/data/shuffle_dataset_op.cc:175] Filling up shuffle buffer (this may take a while): 780 of 1000\n",
      "2021-10-18 20:01:32.906259: I tensorflow/core/kernels/data/shuffle_dataset_op.cc:175] Filling up shuffle buffer (this may take a while): 839 of 1000\n",
      "2021-10-18 20:01:39.993470: W tensorflow/core/lib/png/png_io.cc:88] PNG warning: iCCP: profile 'ICC Profile': 'GRAY': Gray color space not permitted on RGB PNG\n",
      "2021-10-18 20:01:42.822049: I tensorflow/core/kernels/data/shuffle_dataset_op.cc:175] Filling up shuffle buffer (this may take a while): 917 of 1000\n",
      "2021-10-18 20:01:52.170751: I tensorflow/core/kernels/data/shuffle_dataset_op.cc:228] Shuffle buffer filled.\n"
     ]
    },
    {
     "name": "stdout",
     "output_type": "stream",
     "text": [
      "333/333 [==============================] - ETA: 0s - loss: 0.4968 - accuracy: 2.0134e-05 - precision: 0.2061 - recall: 0.1412 - categorical_accuracy: 0.1488"
     ]
    },
    {
     "name": "stderr",
     "output_type": "stream",
     "text": [
      "2021-10-18 20:29:21.082678: I tensorflow/core/kernels/data/shuffle_dataset_op.cc:175] Filling up shuffle buffer (this may take a while): 83 of 1000\n",
      "2021-10-18 20:29:29.594320: I tensorflow/core/kernels/data/shuffle_dataset_op.cc:175] Filling up shuffle buffer (this may take a while): 54 of 1000\n",
      "2021-10-18 20:29:31.215737: I tensorflow/core/kernels/data/shuffle_dataset_op.cc:175] Filling up shuffle buffer (this may take a while): 147 of 1000\n",
      "2021-10-18 20:29:39.440913: I tensorflow/core/kernels/data/shuffle_dataset_op.cc:175] Filling up shuffle buffer (this may take a while): 114 of 1000\n",
      "2021-10-18 20:29:41.256042: I tensorflow/core/kernels/data/shuffle_dataset_op.cc:175] Filling up shuffle buffer (this may take a while): 211 of 1000\n",
      "2021-10-18 20:29:50.496526: I tensorflow/core/kernels/data/shuffle_dataset_op.cc:175] Filling up shuffle buffer (this may take a while): 184 of 1000\n",
      "2021-10-18 20:29:51.893131: I tensorflow/core/kernels/data/shuffle_dataset_op.cc:175] Filling up shuffle buffer (this may take a while): 276 of 1000\n",
      "2021-10-18 20:30:00.359220: I tensorflow/core/kernels/data/shuffle_dataset_op.cc:175] Filling up shuffle buffer (this may take a while): 250 of 1000\n",
      "2021-10-18 20:30:01.854264: I tensorflow/core/kernels/data/shuffle_dataset_op.cc:175] Filling up shuffle buffer (this may take a while): 327 of 1000\n",
      "2021-10-18 20:30:09.441573: I tensorflow/core/kernels/data/shuffle_dataset_op.cc:175] Filling up shuffle buffer (this may take a while): 314 of 1000\n",
      "2021-10-18 20:30:11.081667: I tensorflow/core/kernels/data/shuffle_dataset_op.cc:175] Filling up shuffle buffer (this may take a while): 386 of 1000\n",
      "2021-10-18 20:30:19.648766: I tensorflow/core/kernels/data/shuffle_dataset_op.cc:175] Filling up shuffle buffer (this may take a while): 394 of 1000\n",
      "2021-10-18 20:30:21.771429: I tensorflow/core/kernels/data/shuffle_dataset_op.cc:175] Filling up shuffle buffer (this may take a while): 463 of 1000\n",
      "2021-10-18 20:30:29.710308: I tensorflow/core/kernels/data/shuffle_dataset_op.cc:175] Filling up shuffle buffer (this may take a while): 449 of 1000\n",
      "2021-10-18 20:30:31.127833: I tensorflow/core/kernels/data/shuffle_dataset_op.cc:175] Filling up shuffle buffer (this may take a while): 519 of 1000\n",
      "2021-10-18 20:30:39.840108: I tensorflow/core/kernels/data/shuffle_dataset_op.cc:175] Filling up shuffle buffer (this may take a while): 515 of 1000\n",
      "2021-10-18 20:30:41.393534: I tensorflow/core/kernels/data/shuffle_dataset_op.cc:175] Filling up shuffle buffer (this may take a while): 588 of 1000\n",
      "2021-10-18 20:30:49.680930: I tensorflow/core/kernels/data/shuffle_dataset_op.cc:175] Filling up shuffle buffer (this may take a while): 580 of 1000\n",
      "2021-10-18 20:30:51.495330: I tensorflow/core/kernels/data/shuffle_dataset_op.cc:175] Filling up shuffle buffer (this may take a while): 651 of 1000\n",
      "2021-10-18 20:30:59.979457: I tensorflow/core/kernels/data/shuffle_dataset_op.cc:175] Filling up shuffle buffer (this may take a while): 641 of 1000\n",
      "2021-10-18 20:31:01.371387: I tensorflow/core/kernels/data/shuffle_dataset_op.cc:175] Filling up shuffle buffer (this may take a while): 714 of 1000\n",
      "2021-10-18 20:31:09.433369: I tensorflow/core/kernels/data/shuffle_dataset_op.cc:175] Filling up shuffle buffer (this may take a while): 701 of 1000\n",
      "2021-10-18 20:31:11.111520: I tensorflow/core/kernels/data/shuffle_dataset_op.cc:175] Filling up shuffle buffer (this may take a while): 790 of 1000\n",
      "2021-10-18 20:31:19.582230: I tensorflow/core/kernels/data/shuffle_dataset_op.cc:175] Filling up shuffle buffer (this may take a while): 762 of 1000\n",
      "2021-10-18 20:31:21.991316: I tensorflow/core/kernels/data/shuffle_dataset_op.cc:175] Filling up shuffle buffer (this may take a while): 864 of 1000\n",
      "2021-10-18 20:31:25.557166: W tensorflow/core/lib/png/png_io.cc:88] PNG warning: iCCP: profile 'ICC Profile': 'GRAY': Gray color space not permitted on RGB PNG\n",
      "2021-10-18 20:31:29.801840: I tensorflow/core/kernels/data/shuffle_dataset_op.cc:175] Filling up shuffle buffer (this may take a while): 827 of 1000\n",
      "2021-10-18 20:31:31.277807: I tensorflow/core/kernels/data/shuffle_dataset_op.cc:175] Filling up shuffle buffer (this may take a while): 934 of 1000\n",
      "2021-10-18 20:31:39.441122: I tensorflow/core/kernels/data/shuffle_dataset_op.cc:228] Shuffle buffer filled.\n",
      "2021-10-18 20:31:39.447536: I tensorflow/core/kernels/data/shuffle_dataset_op.cc:175] Filling up shuffle buffer (this may take a while): 892 of 1000\n",
      "2021-10-18 20:31:49.446109: I tensorflow/core/kernels/data/shuffle_dataset_op.cc:175] Filling up shuffle buffer (this may take a while): 958 of 1000\n",
      "2021-10-18 20:31:54.081011: I tensorflow/core/kernels/data/shuffle_dataset_op.cc:228] Shuffle buffer filled.\n"
     ]
    },
    {
     "name": "stdout",
     "output_type": "stream",
     "text": [
      "333/333 [==============================] - 2358s 7s/step - loss: 0.4968 - accuracy: 2.0134e-05 - precision: 0.2061 - recall: 0.1412 - categorical_accuracy: 0.1488 - val_loss: 0.3235 - val_accuracy: 0.0000e+00 - val_precision: 0.3704 - val_recall: 0.0068 - val_categorical_accuracy: 0.2014\n",
      "\n",
      "Epoch 00001: val_loss improved from inf to 0.32352, saving model to best_weights.hdf5\n",
      "Epoch 2/3\n",
      "331/333 [============================>.] - ETA: 9s - loss: 0.3390 - accuracy: 0.0000e+00 - precision: 0.3058 - recall: 0.0751 - categorical_accuracy: 0.1835 "
     ]
    },
    {
     "name": "stderr",
     "output_type": "stream",
     "text": [
      "2021-10-18 21:05:41.398501: I tensorflow/core/kernels/data/shuffle_dataset_op.cc:175] Filling up shuffle buffer (this may take a while): 80 of 1000\n"
     ]
    },
    {
     "name": "stdout",
     "output_type": "stream",
     "text": [
      "333/333 [==============================] - ETA: 0s - loss: 0.3390 - accuracy: 0.0000e+00 - precision: 0.3056 - recall: 0.0752 - categorical_accuracy: 0.1837"
     ]
    },
    {
     "name": "stderr",
     "output_type": "stream",
     "text": [
      "2021-10-18 21:05:51.639747: I tensorflow/core/kernels/data/shuffle_dataset_op.cc:175] Filling up shuffle buffer (this may take a while): 178 of 1000\n",
      "2021-10-18 21:05:59.878201: I tensorflow/core/kernels/data/shuffle_dataset_op.cc:175] Filling up shuffle buffer (this may take a while): 51 of 1000\n",
      "2021-10-18 21:06:01.637736: I tensorflow/core/kernels/data/shuffle_dataset_op.cc:175] Filling up shuffle buffer (this may take a while): 256 of 1000\n",
      "2021-10-18 21:06:09.758097: I tensorflow/core/kernels/data/shuffle_dataset_op.cc:175] Filling up shuffle buffer (this may take a while): 115 of 1000\n",
      "2021-10-18 21:06:11.447331: I tensorflow/core/kernels/data/shuffle_dataset_op.cc:175] Filling up shuffle buffer (this may take a while): 338 of 1000\n",
      "2021-10-18 21:06:19.831302: I tensorflow/core/kernels/data/shuffle_dataset_op.cc:175] Filling up shuffle buffer (this may take a while): 170 of 1000\n",
      "2021-10-18 21:06:21.395414: I tensorflow/core/kernels/data/shuffle_dataset_op.cc:175] Filling up shuffle buffer (this may take a while): 428 of 1000\n",
      "2021-10-18 21:06:29.603490: I tensorflow/core/kernels/data/shuffle_dataset_op.cc:175] Filling up shuffle buffer (this may take a while): 236 of 1000\n",
      "2021-10-18 21:06:32.353965: I tensorflow/core/kernels/data/shuffle_dataset_op.cc:175] Filling up shuffle buffer (this may take a while): 503 of 1000\n",
      "2021-10-18 21:06:39.583078: I tensorflow/core/kernels/data/shuffle_dataset_op.cc:175] Filling up shuffle buffer (this may take a while): 298 of 1000\n",
      "2021-10-18 21:06:41.760369: I tensorflow/core/kernels/data/shuffle_dataset_op.cc:175] Filling up shuffle buffer (this may take a while): 577 of 1000\n",
      "2021-10-18 21:06:49.589155: I tensorflow/core/kernels/data/shuffle_dataset_op.cc:175] Filling up shuffle buffer (this may take a while): 353 of 1000\n",
      "2021-10-18 21:06:51.472314: I tensorflow/core/kernels/data/shuffle_dataset_op.cc:175] Filling up shuffle buffer (this may take a while): 645 of 1000\n",
      "2021-10-18 21:06:59.445257: I tensorflow/core/kernels/data/shuffle_dataset_op.cc:175] Filling up shuffle buffer (this may take a while): 415 of 1000\n",
      "2021-10-18 21:07:01.581294: I tensorflow/core/kernels/data/shuffle_dataset_op.cc:175] Filling up shuffle buffer (this may take a while): 733 of 1000\n",
      "2021-10-18 21:07:09.739243: I tensorflow/core/kernels/data/shuffle_dataset_op.cc:175] Filling up shuffle buffer (this may take a while): 476 of 1000\n",
      "2021-10-18 21:07:11.547717: I tensorflow/core/kernels/data/shuffle_dataset_op.cc:175] Filling up shuffle buffer (this may take a while): 808 of 1000\n",
      "2021-10-18 21:07:20.486253: I tensorflow/core/kernels/data/shuffle_dataset_op.cc:175] Filling up shuffle buffer (this may take a while): 536 of 1000\n",
      "2021-10-18 21:07:21.426899: I tensorflow/core/kernels/data/shuffle_dataset_op.cc:175] Filling up shuffle buffer (this may take a while): 888 of 1000\n",
      "2021-10-18 21:07:21.965298: W tensorflow/core/lib/png/png_io.cc:88] PNG warning: iCCP: profile 'ICC Profile': 'GRAY': Gray color space not permitted on RGB PNG\n",
      "2021-10-18 21:07:29.374658: I tensorflow/core/kernels/data/shuffle_dataset_op.cc:175] Filling up shuffle buffer (this may take a while): 587 of 1000\n",
      "2021-10-18 21:07:31.480727: I tensorflow/core/kernels/data/shuffle_dataset_op.cc:175] Filling up shuffle buffer (this may take a while): 974 of 1000\n",
      "2021-10-18 21:07:34.308533: I tensorflow/core/kernels/data/shuffle_dataset_op.cc:228] Shuffle buffer filled.\n",
      "2021-10-18 21:07:40.208248: I tensorflow/core/kernels/data/shuffle_dataset_op.cc:175] Filling up shuffle buffer (this may take a while): 652 of 1000\n",
      "2021-10-18 21:07:49.521466: I tensorflow/core/kernels/data/shuffle_dataset_op.cc:175] Filling up shuffle buffer (this may take a while): 722 of 1000\n",
      "2021-10-18 21:07:59.546026: I tensorflow/core/kernels/data/shuffle_dataset_op.cc:175] Filling up shuffle buffer (this may take a while): 817 of 1000\n",
      "2021-10-18 21:08:10.008706: I tensorflow/core/kernels/data/shuffle_dataset_op.cc:175] Filling up shuffle buffer (this may take a while): 913 of 1000\n",
      "2021-10-18 21:08:18.354200: I tensorflow/core/kernels/data/shuffle_dataset_op.cc:228] Shuffle buffer filled.\n"
     ]
    },
    {
     "name": "stdout",
     "output_type": "stream",
     "text": [
      "333/333 [==============================] - 2180s 7s/step - loss: 0.3390 - accuracy: 0.0000e+00 - precision: 0.3056 - recall: 0.0752 - categorical_accuracy: 0.1837 - val_loss: 0.3231 - val_accuracy: 0.0000e+00 - val_precision: 0.3824 - val_recall: 0.0059 - val_categorical_accuracy: 0.2162\n",
      "\n",
      "Epoch 00002: val_loss improved from 0.32352 to 0.32309, saving model to best_weights.hdf5\n",
      "Epoch 3/3\n",
      "331/333 [============================>.] - ETA: 9s - loss: 0.3279 - accuracy: 0.0000e+00 - precision: 0.3438 - recall: 0.0614 - categorical_accuracy: 0.2013 "
     ]
    },
    {
     "name": "stderr",
     "output_type": "stream",
     "text": [
      "2021-10-18 21:41:46.984734: I tensorflow/core/kernels/data/shuffle_dataset_op.cc:175] Filling up shuffle buffer (this may take a while): 34 of 1000\n"
     ]
    },
    {
     "name": "stdout",
     "output_type": "stream",
     "text": [
      "333/333 [==============================] - ETA: 0s - loss: 0.3279 - accuracy: 0.0000e+00 - precision: 0.3440 - recall: 0.0615 - categorical_accuracy: 0.2018"
     ]
    },
    {
     "name": "stderr",
     "output_type": "stream",
     "text": [
      "2021-10-18 21:41:56.953676: I tensorflow/core/kernels/data/shuffle_dataset_op.cc:175] Filling up shuffle buffer (this may take a while): 100 of 1000\n",
      "2021-10-18 21:42:03.515674: I tensorflow/core/kernels/data/shuffle_dataset_op.cc:175] Filling up shuffle buffer (this may take a while): 65 of 1000\n",
      "2021-10-18 21:42:06.744100: I tensorflow/core/kernels/data/shuffle_dataset_op.cc:175] Filling up shuffle buffer (this may take a while): 167 of 1000\n",
      "2021-10-18 21:42:14.274939: I tensorflow/core/kernels/data/shuffle_dataset_op.cc:175] Filling up shuffle buffer (this may take a while): 135 of 1000\n",
      "2021-10-18 21:42:21.468417: I tensorflow/core/kernels/data/shuffle_dataset_op.cc:175] Filling up shuffle buffer (this may take a while): 224 of 1000\n",
      "2021-10-18 21:42:23.593744: I tensorflow/core/kernels/data/shuffle_dataset_op.cc:175] Filling up shuffle buffer (this may take a while): 157 of 1000\n",
      "2021-10-18 21:42:26.851076: I tensorflow/core/kernels/data/shuffle_dataset_op.cc:175] Filling up shuffle buffer (this may take a while): 277 of 1000\n",
      "2021-10-18 21:42:34.152635: I tensorflow/core/kernels/data/shuffle_dataset_op.cc:175] Filling up shuffle buffer (this may take a while): 227 of 1000\n",
      "2021-10-18 21:42:37.003073: I tensorflow/core/kernels/data/shuffle_dataset_op.cc:175] Filling up shuffle buffer (this may take a while): 351 of 1000\n",
      "2021-10-18 21:42:43.118920: I tensorflow/core/kernels/data/shuffle_dataset_op.cc:175] Filling up shuffle buffer (this may take a while): 283 of 1000\n",
      "2021-10-18 21:42:47.767720: I tensorflow/core/kernels/data/shuffle_dataset_op.cc:175] Filling up shuffle buffer (this may take a while): 432 of 1000\n",
      "2021-10-18 21:42:53.316614: I tensorflow/core/kernels/data/shuffle_dataset_op.cc:175] Filling up shuffle buffer (this may take a while): 363 of 1000\n",
      "2021-10-18 21:42:57.333877: I tensorflow/core/kernels/data/shuffle_dataset_op.cc:175] Filling up shuffle buffer (this may take a while): 496 of 1000\n",
      "2021-10-18 21:43:03.230467: I tensorflow/core/kernels/data/shuffle_dataset_op.cc:175] Filling up shuffle buffer (this may take a while): 433 of 1000\n",
      "2021-10-18 21:43:07.247169: I tensorflow/core/kernels/data/shuffle_dataset_op.cc:175] Filling up shuffle buffer (this may take a while): 567 of 1000\n",
      "2021-10-18 21:43:13.082561: I tensorflow/core/kernels/data/shuffle_dataset_op.cc:175] Filling up shuffle buffer (this may take a while): 517 of 1000\n",
      "2021-10-18 21:43:17.034474: I tensorflow/core/kernels/data/shuffle_dataset_op.cc:175] Filling up shuffle buffer (this may take a while): 636 of 1000\n",
      "2021-10-18 21:43:22.981809: I tensorflow/core/kernels/data/shuffle_dataset_op.cc:175] Filling up shuffle buffer (this may take a while): 591 of 1000\n",
      "2021-10-18 21:43:26.921909: I tensorflow/core/kernels/data/shuffle_dataset_op.cc:175] Filling up shuffle buffer (this may take a while): 704 of 1000\n",
      "2021-10-18 21:43:33.046240: I tensorflow/core/kernels/data/shuffle_dataset_op.cc:175] Filling up shuffle buffer (this may take a while): 664 of 1000\n",
      "2021-10-18 21:43:36.909797: I tensorflow/core/kernels/data/shuffle_dataset_op.cc:175] Filling up shuffle buffer (this may take a while): 774 of 1000\n",
      "2021-10-18 21:43:43.895319: I tensorflow/core/kernels/data/shuffle_dataset_op.cc:175] Filling up shuffle buffer (this may take a while): 728 of 1000\n",
      "2021-10-18 21:43:46.822621: I tensorflow/core/kernels/data/shuffle_dataset_op.cc:175] Filling up shuffle buffer (this may take a while): 835 of 1000\n",
      "2021-10-18 21:43:53.162211: I tensorflow/core/kernels/data/shuffle_dataset_op.cc:175] Filling up shuffle buffer (this may take a while): 786 of 1000\n",
      "2021-10-18 21:43:56.296905: W tensorflow/core/lib/png/png_io.cc:88] PNG warning: iCCP: profile 'ICC Profile': 'GRAY': Gray color space not permitted on RGB PNG\n",
      "2021-10-18 21:43:57.056524: I tensorflow/core/kernels/data/shuffle_dataset_op.cc:175] Filling up shuffle buffer (this may take a while): 901 of 1000\n",
      "2021-10-18 21:44:04.228142: I tensorflow/core/kernels/data/shuffle_dataset_op.cc:175] Filling up shuffle buffer (this may take a while): 853 of 1000\n",
      "2021-10-18 21:44:07.287496: I tensorflow/core/kernels/data/shuffle_dataset_op.cc:175] Filling up shuffle buffer (this may take a while): 958 of 1000\n",
      "2021-10-18 21:44:13.274827: I tensorflow/core/kernels/data/shuffle_dataset_op.cc:175] Filling up shuffle buffer (this may take a while): 916 of 1000\n",
      "2021-10-18 21:44:13.290905: I tensorflow/core/kernels/data/shuffle_dataset_op.cc:228] Shuffle buffer filled.\n",
      "2021-10-18 21:44:23.855976: I tensorflow/core/kernels/data/shuffle_dataset_op.cc:175] Filling up shuffle buffer (this may take a while): 978 of 1000\n",
      "2021-10-18 21:44:27.222523: I tensorflow/core/kernels/data/shuffle_dataset_op.cc:228] Shuffle buffer filled.\n",
      "2021-10-18 21:51:25.139966: I tensorflow/core/kernels/data/shuffle_dataset_op.cc:175] Filling up shuffle buffer (this may take a while): 100 of 1000\n"
     ]
    },
    {
     "name": "stdout",
     "output_type": "stream",
     "text": [
      "333/333 [==============================] - 2171s 7s/step - loss: 0.3279 - accuracy: 0.0000e+00 - precision: 0.3440 - recall: 0.0615 - categorical_accuracy: 0.2018 - val_loss: 0.3173 - val_accuracy: 0.0000e+00 - val_precision: 0.2000 - val_recall: 6.7904e-04 - val_categorical_accuracy: 0.2186\n",
      "\n",
      "Epoch 00003: val_loss improved from 0.32309 to 0.31725, saving model to best_weights.hdf5\n"
     ]
    },
    {
     "data": {
      "text/plain": [
       "<keras.callbacks.History at 0x7fd844323610>"
      ]
     },
     "execution_count": 52,
     "metadata": {},
     "output_type": "execute_result"
    }
   ],
   "source": [
    "model.fit_model(\n",
    "    epochs=epochs,\n",
    "    batch_size=batch_size,\n",
    "    steps_per_epoch=steps_per_epoch,\n",
    "    validation_steps=validation_steps,\n",
    ")"
   ]
  },
  {
   "cell_type": "markdown",
   "id": "708907e2-a727-427e-9793-a5a5c84fd817",
   "metadata": {
    "jp-MarkdownHeadingCollapsed": true,
    "tags": []
   },
   "source": [
    "# Aux"
   ]
  },
  {
   "cell_type": "code",
   "execution_count": null,
   "id": "14903172-1c41-4a90-8545-e5fe4abf0890",
   "metadata": {},
   "outputs": [],
   "source": [
    "filenames[0:10]"
   ]
  },
  {
   "cell_type": "code",
   "execution_count": null,
   "id": "7c1cb15f-024e-4a34-ba97-42b129a20208",
   "metadata": {},
   "outputs": [],
   "source": [
    "df[df[\"Image Index\"] == \"00010162_000.png\"].index[0]"
   ]
  },
  {
   "cell_type": "code",
   "execution_count": null,
   "id": "ffff8536-992a-429c-b904-680647a9220c",
   "metadata": {},
   "outputs": [],
   "source": [
    "for path in filenames[0:10]:\n",
    "    name = path.split(\"/\")[-1]\n",
    "    idx = df[df[\"Image Index\"] == name].index[0]\n",
    "    label = y[idx]\n",
    "    print(idx)\n",
    "    print(label)"
   ]
  },
  {
   "cell_type": "code",
   "execution_count": null,
   "id": "93df2690-784a-44b6-806e-34f2f34563f6",
   "metadata": {},
   "outputs": [],
   "source": [
    "labels = [df[df[\"Image Index\"] == path.split(\"/\")[-1]].index[0] for path in filenames]"
   ]
  },
  {
   "cell_type": "code",
   "execution_count": null,
   "id": "3c562977-1025-4f36-93d5-4b28b6d62c6c",
   "metadata": {},
   "outputs": [],
   "source": [
    "len(df[\"Image Index\"])"
   ]
  },
  {
   "cell_type": "code",
   "execution_count": null,
   "id": "d1a596d2-185a-4b9f-b494-7c905b92b7bf",
   "metadata": {},
   "outputs": [],
   "source": [
    "y.shape"
   ]
  },
  {
   "cell_type": "code",
   "execution_count": null,
   "id": "5f53ecb0-8dba-467b-86f4-86aae8a33e46",
   "metadata": {},
   "outputs": [],
   "source": []
  },
  {
   "cell_type": "code",
   "execution_count": null,
   "id": "c7b89c3e-4cfe-47b4-91e7-533554bd6bb6",
   "metadata": {},
   "outputs": [],
   "source": []
  },
  {
   "cell_type": "code",
   "execution_count": null,
   "id": "07231ee2-f102-48c2-8bd9-599338a2a0c6",
   "metadata": {},
   "outputs": [],
   "source": [
    "IMG_SIZE = 224"
   ]
  },
  {
   "cell_type": "code",
   "execution_count": null,
   "id": "54953d78-dc82-4de7-8278-d10860cbbc63",
   "metadata": {},
   "outputs": [],
   "source": [
    "os.listdir(path_to_png)"
   ]
  },
  {
   "cell_type": "code",
   "execution_count": null,
   "id": "ff536b53-ca05-4212-a70a-4537f86423dd",
   "metadata": {},
   "outputs": [],
   "source": []
  },
  {
   "cell_type": "code",
   "execution_count": null,
   "id": "6ea426cf-55d2-4754-b1ab-4b6345134f05",
   "metadata": {},
   "outputs": [],
   "source": [
    "df.drop(\n",
    "    columns=[\n",
    "        \"Follow-up #\",\n",
    "        \"Patient Age\",\n",
    "        \"Patient Gender\",\n",
    "        \"View Position\",\n",
    "        \"OriginalImagePixelSpacing_x\",\n",
    "        \"OriginalImagePixelSpacing_y\",\n",
    "        \"OriginalImageWidth\",\n",
    "        \"OriginalImageHeight\",\n",
    "        \"OriginalImage[Width\",\n",
    "        \"Height]\",\n",
    "        \"OriginalImagePixelSpacing[x\",\n",
    "        \"y]\",\n",
    "        \"Count_diseases\",\n",
    "    ],\n",
    "    inplace=True,\n",
    "    errors=\"ignore\",\n",
    ")\n",
    "df.head(3)"
   ]
  }
 ],
 "metadata": {
  "kernelspec": {
   "display_name": "Python 3 (ipykernel)",
   "language": "python",
   "name": "python3"
  },
  "language_info": {
   "codemirror_mode": {
    "name": "ipython",
    "version": 3
   },
   "file_extension": ".py",
   "mimetype": "text/x-python",
   "name": "python",
   "nbconvert_exporter": "python",
   "pygments_lexer": "ipython3",
   "version": "3.8.6"
  }
 },
 "nbformat": 4,
 "nbformat_minor": 5
}
