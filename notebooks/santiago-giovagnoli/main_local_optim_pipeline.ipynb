{
 "cells": [
  {
   "cell_type": "code",
   "execution_count": 2,
   "id": "0725f491-cde4-43cc-9d25-efb3133192f5",
   "metadata": {},
   "outputs": [],
   "source": [
    "%load_ext autoreload\n",
    "%autoreload 2"
   ]
  },
  {
   "cell_type": "code",
   "execution_count": 40,
   "id": "12e4bfe7-924a-4bc6-814b-4f8ae563a5fa",
   "metadata": {},
   "outputs": [],
   "source": [
    "import math\n",
    "import os\n",
    "from glob import glob\n",
    "\n",
    "import numpy as np\n",
    "import pandas as pd"
   ]
  },
  {
   "cell_type": "code",
   "execution_count": 4,
   "id": "1c85b6df-f0fa-4903-b6b8-d01d697f5543",
   "metadata": {},
   "outputs": [],
   "source": [
    "from xray import data, params, trainer, utils"
   ]
  },
  {
   "cell_type": "code",
   "execution_count": 5,
   "id": "a83a65b7-4113-4312-ae49-26b7cd12c315",
   "metadata": {},
   "outputs": [],
   "source": [
    "csv_labels = \"sample_labels.csv\"\n",
    "path_to_csv = os.path.join(\"../../raw_data/sample-data/\", csv_labels)"
   ]
  },
  {
   "cell_type": "code",
   "execution_count": 6,
   "id": "c02f6430-9904-4562-977d-bd7a215d96e8",
   "metadata": {},
   "outputs": [
    {
     "data": {
      "text/html": [
       "<div>\n",
       "<style scoped>\n",
       "    .dataframe tbody tr th:only-of-type {\n",
       "        vertical-align: middle;\n",
       "    }\n",
       "\n",
       "    .dataframe tbody tr th {\n",
       "        vertical-align: top;\n",
       "    }\n",
       "\n",
       "    .dataframe thead th {\n",
       "        text-align: right;\n",
       "    }\n",
       "</style>\n",
       "<table border=\"1\" class=\"dataframe\">\n",
       "  <thead>\n",
       "    <tr style=\"text-align: right;\">\n",
       "      <th></th>\n",
       "      <th>Image Index</th>\n",
       "      <th>Finding Labels</th>\n",
       "      <th>Follow-up #</th>\n",
       "      <th>Patient ID</th>\n",
       "      <th>Patient Age</th>\n",
       "      <th>Patient Gender</th>\n",
       "      <th>View Position</th>\n",
       "      <th>OriginalImageWidth</th>\n",
       "      <th>OriginalImageHeight</th>\n",
       "      <th>OriginalImagePixelSpacing_x</th>\n",
       "      <th>OriginalImagePixelSpacing_y</th>\n",
       "    </tr>\n",
       "  </thead>\n",
       "  <tbody>\n",
       "    <tr>\n",
       "      <th>0</th>\n",
       "      <td>00000013_005.png</td>\n",
       "      <td>Emphysema|Infiltration|Pleural_Thickening|Pneu...</td>\n",
       "      <td>5</td>\n",
       "      <td>13</td>\n",
       "      <td>060Y</td>\n",
       "      <td>M</td>\n",
       "      <td>AP</td>\n",
       "      <td>3056</td>\n",
       "      <td>2544</td>\n",
       "      <td>0.139</td>\n",
       "      <td>0.139</td>\n",
       "    </tr>\n",
       "    <tr>\n",
       "      <th>1</th>\n",
       "      <td>00000013_026.png</td>\n",
       "      <td>Cardiomegaly|Emphysema</td>\n",
       "      <td>26</td>\n",
       "      <td>13</td>\n",
       "      <td>057Y</td>\n",
       "      <td>M</td>\n",
       "      <td>AP</td>\n",
       "      <td>2500</td>\n",
       "      <td>2048</td>\n",
       "      <td>0.168</td>\n",
       "      <td>0.168</td>\n",
       "    </tr>\n",
       "    <tr>\n",
       "      <th>2</th>\n",
       "      <td>00000017_001.png</td>\n",
       "      <td>No Finding</td>\n",
       "      <td>1</td>\n",
       "      <td>17</td>\n",
       "      <td>077Y</td>\n",
       "      <td>M</td>\n",
       "      <td>AP</td>\n",
       "      <td>2500</td>\n",
       "      <td>2048</td>\n",
       "      <td>0.168</td>\n",
       "      <td>0.168</td>\n",
       "    </tr>\n",
       "  </tbody>\n",
       "</table>\n",
       "</div>"
      ],
      "text/plain": [
       "        Image Index                                     Finding Labels  \\\n",
       "0  00000013_005.png  Emphysema|Infiltration|Pleural_Thickening|Pneu...   \n",
       "1  00000013_026.png                             Cardiomegaly|Emphysema   \n",
       "2  00000017_001.png                                         No Finding   \n",
       "\n",
       "   Follow-up #  Patient ID Patient Age Patient Gender View Position  \\\n",
       "0            5          13        060Y              M            AP   \n",
       "1           26          13        057Y              M            AP   \n",
       "2            1          17        077Y              M            AP   \n",
       "\n",
       "   OriginalImageWidth  OriginalImageHeight  OriginalImagePixelSpacing_x  \\\n",
       "0                3056                 2544                        0.139   \n",
       "1                2500                 2048                        0.168   \n",
       "2                2500                 2048                        0.168   \n",
       "\n",
       "   OriginalImagePixelSpacing_y  \n",
       "0                        0.139  \n",
       "1                        0.168  \n",
       "2                        0.168  "
      ]
     },
     "execution_count": 6,
     "metadata": {},
     "output_type": "execute_result"
    }
   ],
   "source": [
    "df = data.get_data(\n",
    "    path_to_csv,\n",
    ")\n",
    "df.head(3)"
   ]
  },
  {
   "cell_type": "code",
   "execution_count": 7,
   "id": "b51b844c-2972-4af0-88e9-e40cb2126c0c",
   "metadata": {},
   "outputs": [
    {
     "data": {
      "text/html": [
       "<div>\n",
       "<style scoped>\n",
       "    .dataframe tbody tr th:only-of-type {\n",
       "        vertical-align: middle;\n",
       "    }\n",
       "\n",
       "    .dataframe tbody tr th {\n",
       "        vertical-align: top;\n",
       "    }\n",
       "\n",
       "    .dataframe thead th {\n",
       "        text-align: right;\n",
       "    }\n",
       "</style>\n",
       "<table border=\"1\" class=\"dataframe\">\n",
       "  <thead>\n",
       "    <tr style=\"text-align: right;\">\n",
       "      <th></th>\n",
       "      <th>Image Index</th>\n",
       "      <th>Finding Labels</th>\n",
       "      <th>Follow-up #</th>\n",
       "      <th>Patient ID</th>\n",
       "      <th>Patient Age</th>\n",
       "      <th>Patient Gender</th>\n",
       "      <th>View Position</th>\n",
       "      <th>OriginalImageWidth</th>\n",
       "      <th>OriginalImageHeight</th>\n",
       "      <th>OriginalImagePixelSpacing_x</th>\n",
       "      <th>OriginalImagePixelSpacing_y</th>\n",
       "      <th>labels</th>\n",
       "    </tr>\n",
       "  </thead>\n",
       "  <tbody>\n",
       "    <tr>\n",
       "      <th>0</th>\n",
       "      <td>00000013_005.png</td>\n",
       "      <td>Emphysema|Infiltration|Pleural_Thickening|Pneu...</td>\n",
       "      <td>5</td>\n",
       "      <td>13</td>\n",
       "      <td>060Y</td>\n",
       "      <td>M</td>\n",
       "      <td>AP</td>\n",
       "      <td>3056</td>\n",
       "      <td>2544</td>\n",
       "      <td>0.139</td>\n",
       "      <td>0.139</td>\n",
       "      <td>[Emphysema, Infiltration, Pleural_Thickening, ...</td>\n",
       "    </tr>\n",
       "    <tr>\n",
       "      <th>1</th>\n",
       "      <td>00000013_026.png</td>\n",
       "      <td>Cardiomegaly|Emphysema</td>\n",
       "      <td>26</td>\n",
       "      <td>13</td>\n",
       "      <td>057Y</td>\n",
       "      <td>M</td>\n",
       "      <td>AP</td>\n",
       "      <td>2500</td>\n",
       "      <td>2048</td>\n",
       "      <td>0.168</td>\n",
       "      <td>0.168</td>\n",
       "      <td>[Cardiomegaly, Emphysema]</td>\n",
       "    </tr>\n",
       "    <tr>\n",
       "      <th>2</th>\n",
       "      <td>00000017_001.png</td>\n",
       "      <td>No Finding</td>\n",
       "      <td>1</td>\n",
       "      <td>17</td>\n",
       "      <td>077Y</td>\n",
       "      <td>M</td>\n",
       "      <td>AP</td>\n",
       "      <td>2500</td>\n",
       "      <td>2048</td>\n",
       "      <td>0.168</td>\n",
       "      <td>0.168</td>\n",
       "      <td>[No Finding]</td>\n",
       "    </tr>\n",
       "  </tbody>\n",
       "</table>\n",
       "</div>"
      ],
      "text/plain": [
       "        Image Index                                     Finding Labels  \\\n",
       "0  00000013_005.png  Emphysema|Infiltration|Pleural_Thickening|Pneu...   \n",
       "1  00000013_026.png                             Cardiomegaly|Emphysema   \n",
       "2  00000017_001.png                                         No Finding   \n",
       "\n",
       "   Follow-up #  Patient ID Patient Age Patient Gender View Position  \\\n",
       "0            5          13        060Y              M            AP   \n",
       "1           26          13        057Y              M            AP   \n",
       "2            1          17        077Y              M            AP   \n",
       "\n",
       "   OriginalImageWidth  OriginalImageHeight  OriginalImagePixelSpacing_x  \\\n",
       "0                3056                 2544                        0.139   \n",
       "1                2500                 2048                        0.168   \n",
       "2                2500                 2048                        0.168   \n",
       "\n",
       "   OriginalImagePixelSpacing_y  \\\n",
       "0                        0.139   \n",
       "1                        0.168   \n",
       "2                        0.168   \n",
       "\n",
       "                                              labels  \n",
       "0  [Emphysema, Infiltration, Pleural_Thickening, ...  \n",
       "1                          [Cardiomegaly, Emphysema]  \n",
       "2                                       [No Finding]  "
      ]
     },
     "execution_count": 7,
     "metadata": {},
     "output_type": "execute_result"
    }
   ],
   "source": [
    "df[\"labels\"] = df[\"Finding Labels\"].map(lambda x: x.split(\"|\"))\n",
    "df.head(3)"
   ]
  },
  {
   "cell_type": "code",
   "execution_count": 8,
   "id": "08cbee7d-1253-4fa0-b3b0-b735dbbef19f",
   "metadata": {},
   "outputs": [],
   "source": [
    "df = df[df[\"Finding Labels\"] != \"No Finding\"]"
   ]
  },
  {
   "cell_type": "code",
   "execution_count": 10,
   "id": "5db3fc1e-20b3-4547-a708-8d4957e8ae40",
   "metadata": {},
   "outputs": [],
   "source": [
    "path_to_png = \"../../raw_data/sample-data/images\""
   ]
  },
  {
   "cell_type": "code",
   "execution_count": 11,
   "id": "e257d223-5dc2-4e1d-af6d-a6874ab0e88e",
   "metadata": {},
   "outputs": [],
   "source": [
    "utils.get_paths(df, path_to_png, return_relative=False)"
   ]
  },
  {
   "cell_type": "code",
   "execution_count": 12,
   "id": "78e56eaa-6d91-4406-930c-68478fd5b84a",
   "metadata": {},
   "outputs": [],
   "source": [
    "from sklearn.preprocessing import MultiLabelBinarizer"
   ]
  },
  {
   "cell_type": "code",
   "execution_count": 13,
   "id": "6e3d3efc-f319-42cf-a09f-f28eb742fa36",
   "metadata": {},
   "outputs": [
    {
     "data": {
      "text/plain": [
       "(14,)"
      ]
     },
     "execution_count": 13,
     "metadata": {},
     "output_type": "execute_result"
    }
   ],
   "source": [
    "mlb = MultiLabelBinarizer().fit(df.labels)\n",
    "mlb_classes = mlb.classes_\n",
    "mlb_classes.shape"
   ]
  },
  {
   "cell_type": "code",
   "execution_count": 14,
   "id": "1d10a0f9-0e35-4abb-9fe5-9873ba25a618",
   "metadata": {},
   "outputs": [],
   "source": [
    "y = mlb.transform(df.labels).astype(\"int16\")"
   ]
  },
  {
   "cell_type": "code",
   "execution_count": 15,
   "id": "a24f17e3-ef94-4ef1-9012-ea7cbc44d96e",
   "metadata": {},
   "outputs": [],
   "source": [
    "df_train, df_val, df_test = data.split_df(\n",
    "    df, \"Patient ID\", (0.65, 0.175, 0.175), total_filter=0.3\n",
    ")"
   ]
  },
  {
   "cell_type": "markdown",
   "id": "ae84c73b-484a-4620-b8c4-4803dc3c13aa",
   "metadata": {},
   "source": [
    "## `tf.data.Dataset`"
   ]
  },
  {
   "cell_type": "code",
   "execution_count": 19,
   "id": "2b664549-e34b-4440-ab10-adea1d453f3f",
   "metadata": {},
   "outputs": [],
   "source": [
    "import random\n",
    "from glob import glob\n",
    "\n",
    "import tensorflow as tf\n",
    "\n",
    "\n",
    "def make_dataset(\n",
    "    path, batch_size, filenames, label_array, img_size: tuple = (224, 224)\n",
    "):\n",
    "    \"\"\"\n",
    "    - path: root to image folders\n",
    "    - batch_size: to iterate\n",
    "    - filenames: nd.array with list of absolute paths (filenames), in same order as label_array\n",
    "    - label_array: matching index as filenames\n",
    "    \"\"\"\n",
    "\n",
    "    def parse_image(filename):\n",
    "        image = tf.io.read_file(filename)\n",
    "        image = tf.image.decode_jpeg(image, channels=3)\n",
    "        image = tf.image.resize(image, img_size)\n",
    "        return image\n",
    "\n",
    "    def configure_for_performance(ds):\n",
    "        ds = ds.shuffle(buffer_size=1000)\n",
    "        ds = ds.batch(batch_size)\n",
    "        ds = ds.repeat()\n",
    "        ds = ds.prefetch(buffer_size=tf.data.experimental.AUTOTUNE)\n",
    "        return ds\n",
    "\n",
    "    # classes = os.listdir(path)\n",
    "    # filenames = glob(path + \"/*/*\")\n",
    "    filenames = filenames.unique()\n",
    "    random.shuffle(filenames)\n",
    "    # it = np.nditer(filenames, flags=['refs_ok', 'c_index'], )\n",
    "    # for file in it:\n",
    "    #     labels =\n",
    "    # labels = [classes.index(name.split(\"/\")[-2]) for name in filenames]\n",
    "    labels = y\n",
    "\n",
    "    filenames_ds = tf.data.Dataset.from_tensor_slices(filenames)\n",
    "    images_ds = filenames_ds.map(\n",
    "        parse_image, num_parallel_calls=tf.data.experimental.AUTOTUNE\n",
    "    )\n",
    "    labels_ds = tf.data.Dataset.from_tensor_slices(labels)\n",
    "    ds = tf.data.Dataset.zip((images_ds, labels_ds))\n",
    "    ds = configure_for_performance(ds)\n",
    "\n",
    "    return ds"
   ]
  },
  {
   "cell_type": "code",
   "execution_count": 27,
   "id": "cfc3e6c5-bd83-4403-bef8-9e0b3bee486c",
   "metadata": {},
   "outputs": [],
   "source": [
    "ds_train = make_dataset(path_to_png, 32, df_train.path, y)\n",
    "ds_val = make_dataset(path_to_png, 32, df_val.path, y)"
   ]
  },
  {
   "cell_type": "code",
   "execution_count": 23,
   "id": "dd7ee966-3d6f-46e4-982c-d179a800fc30",
   "metadata": {},
   "outputs": [],
   "source": [
    "classes_dict = pd.DataFrame(mlb.classes_).to_dict()[0]\n",
    "classes = mlb.classes_\n",
    "num_images = df.shape[0]"
   ]
  },
  {
   "cell_type": "code",
   "execution_count": 28,
   "id": "68aabd23-c62d-4531-a30c-b2d3c109ba7f",
   "metadata": {},
   "outputs": [
    {
     "name": "stderr",
     "output_type": "stream",
     "text": [
      "2021-10-18 00:31:59.810600: W tensorflow/core/framework/cpu_allocator_impl.cc:80] Allocation of 411041792 exceeds 10% of free system memory.\n",
      "2021-10-18 00:31:59.961941: W tensorflow/core/framework/cpu_allocator_impl.cc:80] Allocation of 411041792 exceeds 10% of free system memory.\n",
      "2021-10-18 00:32:00.022862: W tensorflow/core/framework/cpu_allocator_impl.cc:80] Allocation of 411041792 exceeds 10% of free system memory.\n",
      "2021-10-18 00:32:00.135648: W tensorflow/core/framework/cpu_allocator_impl.cc:80] Allocation of 67108864 exceeds 10% of free system memory.\n",
      "2021-10-18 00:32:00.165154: W tensorflow/core/framework/cpu_allocator_impl.cc:80] Allocation of 67108864 exceeds 10% of free system memory.\n"
     ]
    },
    {
     "name": "stdout",
     "output_type": "stream",
     "text": [
      "Downloading data from https://storage.googleapis.com/tensorflow/keras-applications/vgg16/vgg16_weights_tf_dim_ordering_tf_kernels.h5\n",
      "553467904/553467096 [==============================] - 90s 0us/step\n",
      "553476096/553467096 [==============================] - 90s 0us/step\n"
     ]
    }
   ],
   "source": [
    "model = trainer.Trainer(ds_train, ds_val, \"multilabel\")"
   ]
  },
  {
   "cell_type": "code",
   "execution_count": 29,
   "id": "cd6f9e09-f01a-42d4-8124-d548e8297de0",
   "metadata": {},
   "outputs": [],
   "source": [
    "img_size = (224, 224)"
   ]
  },
  {
   "cell_type": "code",
   "execution_count": 31,
   "id": "dcb05275-32f3-4ee2-8b92-807623adc1b2",
   "metadata": {},
   "outputs": [],
   "source": [
    "model.build_cnn(\n",
    "    input_shape=img_size,\n",
    "    output_shape=len(classes),\n",
    "    dense_layer_geometry=(1024, 512, 256),\n",
    "    dropout_layers=True,\n",
    "    dropout_rate=0.25,\n",
    ")"
   ]
  },
  {
   "cell_type": "code",
   "execution_count": 33,
   "id": "670bbe5a-5773-4551-a241-a8647bdab03e",
   "metadata": {
    "collapsed": true,
    "jupyter": {
     "outputs_hidden": true
    },
    "tags": []
   },
   "outputs": [
    {
     "name": "stdout",
     "output_type": "stream",
     "text": [
      "Model: \"sequential_1\"\n",
      "_________________________________________________________________\n",
      "Layer (type)                 Output Shape              Param #   \n",
      "=================================================================\n",
      "vgg16 (Functional)           (None, 7, 7, 512)         14714688  \n",
      "_________________________________________________________________\n",
      "flatten_1 (Flatten)          (None, 25088)             0         \n",
      "_________________________________________________________________\n",
      "dense_4 (Dense)              (None, 1024)              25691136  \n",
      "_________________________________________________________________\n",
      "dropout_3 (Dropout)          (None, 1024)              0         \n",
      "_________________________________________________________________\n",
      "dense_5 (Dense)              (None, 512)               524800    \n",
      "_________________________________________________________________\n",
      "dropout_4 (Dropout)          (None, 512)               0         \n",
      "_________________________________________________________________\n",
      "dense_6 (Dense)              (None, 256)               131328    \n",
      "_________________________________________________________________\n",
      "dropout_5 (Dropout)          (None, 256)               0         \n",
      "_________________________________________________________________\n",
      "dense_7 (Dense)              (None, 14)                3598      \n",
      "=================================================================\n",
      "Total params: 41,065,550\n",
      "Trainable params: 26,350,862\n",
      "Non-trainable params: 14,714,688\n",
      "_________________________________________________________________\n"
     ]
    }
   ],
   "source": [
    "model.pipeline.summary()"
   ]
  },
  {
   "cell_type": "code",
   "execution_count": 38,
   "id": "3cfc10d6-4dfb-45f4-a2cd-4787a625fb22",
   "metadata": {},
   "outputs": [],
   "source": [
    "model.compile_model()"
   ]
  },
  {
   "cell_type": "code",
   "execution_count": 48,
   "id": "8d771689-15b2-4759-8e2c-cd5fdecb9044",
   "metadata": {},
   "outputs": [],
   "source": [
    "# model.fit(dataset, batch_size=32, epochs=5, steps_per_epoch=math.ceil(num_images/32))\n",
    "batch_size = 32\n",
    "epochs = 5\n",
    "training_images = df_train.shape[0]\n",
    "steps_per_epoch = math.ceil(training_images / 32)\n",
    "\n",
    "validation_images = df_train.shape[0]\n",
    "validation_steps = math.ceil(validation_images / 32)"
   ]
  },
  {
   "cell_type": "code",
   "execution_count": 49,
   "id": "86f855ae-5bea-45f9-aeb6-89c0499d5b2a",
   "metadata": {},
   "outputs": [
    {
     "data": {
      "text/plain": [
       "16"
      ]
     },
     "execution_count": 49,
     "metadata": {},
     "output_type": "execute_result"
    }
   ],
   "source": [
    "steps_per_epoch"
   ]
  },
  {
   "cell_type": "code",
   "execution_count": 50,
   "id": "836e140f-f8ff-45e7-8aa1-2c842f1f9890",
   "metadata": {},
   "outputs": [
    {
     "name": "stdout",
     "output_type": "stream",
     "text": [
      "Epoch 1/5\n",
      "16/16 [==============================] - 118s 8s/step - loss: 0.2691 - accuracy: 2.8686e-04 - precision_4: 0.5359 - recall_4: 0.5173 - categorical_accuracy: 0.4699 - val_loss: 0.3925 - val_accuracy: 0.0000e+00 - val_precision_4: 0.3318 - val_recall_4: 0.1085 - val_categorical_accuracy: 0.1624\n",
      "\n",
      "Epoch 00001: val_loss improved from inf to 0.39249, saving model to best_weights.hdf5\n",
      "Epoch 2/5\n",
      "16/16 [==============================] - 118s 8s/step - loss: 0.2339 - accuracy: 1.4343e-04 - precision_4: 0.5896 - recall_4: 0.5479 - categorical_accuracy: 0.4679 - val_loss: 0.3961 - val_accuracy: 0.0000e+00 - val_precision_4: 0.3632 - val_recall_4: 0.1113 - val_categorical_accuracy: 0.1694\n",
      "\n",
      "Epoch 00002: val_loss did not improve from 0.39249\n",
      "Epoch 3/5\n",
      "16/16 [==============================] - 117s 8s/step - loss: 0.2172 - accuracy: 1.4343e-04 - precision_4: 0.6217 - recall_4: 0.5631 - categorical_accuracy: 0.5281 - val_loss: 0.3834 - val_accuracy: 0.0000e+00 - val_precision_4: 0.3485 - val_recall_4: 0.1066 - val_categorical_accuracy: 0.1624\n",
      "\n",
      "Epoch 00003: val_loss improved from 0.39249 to 0.38338, saving model to best_weights.hdf5\n",
      "Epoch 4/5\n",
      "16/16 [==============================] - 116s 7s/step - loss: 0.2086 - accuracy: 4.3029e-04 - precision_4: 0.6250 - recall_4: 0.5895 - categorical_accuracy: 0.5482 - val_loss: 0.4056 - val_accuracy: 0.0000e+00 - val_precision_4: 0.3352 - val_recall_4: 0.0908 - val_categorical_accuracy: 0.1529\n",
      "\n",
      "Epoch 00004: val_loss did not improve from 0.38338\n",
      "Epoch 5/5\n",
      "16/16 [==============================] - 117s 8s/step - loss: 0.1838 - accuracy: 1.4343e-04 - precision_4: 0.6760 - recall_4: 0.6394 - categorical_accuracy: 0.5683 - val_loss: 0.3973 - val_accuracy: 0.0000e+00 - val_precision_4: 0.2691 - val_recall_4: 0.1031 - val_categorical_accuracy: 0.1365\n",
      "\n",
      "Epoch 00005: val_loss did not improve from 0.38338\n"
     ]
    },
    {
     "data": {
      "text/plain": [
       "<keras.callbacks.History at 0x7f4a6dcb3c70>"
      ]
     },
     "execution_count": 50,
     "metadata": {},
     "output_type": "execute_result"
    }
   ],
   "source": [
    "model.fit_model(\n",
    "    epochs=epochs,\n",
    "    batch_size=batch_size,\n",
    "    steps_per_epoch=steps_per_epoch,\n",
    "    validation_steps=validation_steps,\n",
    ")"
   ]
  },
  {
   "cell_type": "markdown",
   "id": "708907e2-a727-427e-9793-a5a5c84fd817",
   "metadata": {
    "jp-MarkdownHeadingCollapsed": true,
    "tags": []
   },
   "source": [
    "# Aux"
   ]
  },
  {
   "cell_type": "code",
   "execution_count": null,
   "id": "14903172-1c41-4a90-8545-e5fe4abf0890",
   "metadata": {},
   "outputs": [],
   "source": [
    "filenames[0:10]"
   ]
  },
  {
   "cell_type": "code",
   "execution_count": null,
   "id": "7c1cb15f-024e-4a34-ba97-42b129a20208",
   "metadata": {},
   "outputs": [],
   "source": [
    "df[df[\"Image Index\"] == \"00010162_000.png\"].index[0]"
   ]
  },
  {
   "cell_type": "code",
   "execution_count": null,
   "id": "ffff8536-992a-429c-b904-680647a9220c",
   "metadata": {},
   "outputs": [],
   "source": [
    "for path in filenames[0:10]:\n",
    "    name = path.split(\"/\")[-1]\n",
    "    idx = df[df[\"Image Index\"] == name].index[0]\n",
    "    label = y[idx]\n",
    "    print(idx)\n",
    "    print(label)"
   ]
  },
  {
   "cell_type": "code",
   "execution_count": null,
   "id": "93df2690-784a-44b6-806e-34f2f34563f6",
   "metadata": {},
   "outputs": [],
   "source": [
    "labels = [df[df[\"Image Index\"] == path.split(\"/\")[-1]].index[0] for path in filenames]"
   ]
  },
  {
   "cell_type": "code",
   "execution_count": null,
   "id": "3c562977-1025-4f36-93d5-4b28b6d62c6c",
   "metadata": {},
   "outputs": [],
   "source": [
    "len(df[\"Image Index\"])"
   ]
  },
  {
   "cell_type": "code",
   "execution_count": null,
   "id": "d1a596d2-185a-4b9f-b494-7c905b92b7bf",
   "metadata": {},
   "outputs": [],
   "source": [
    "y.shape"
   ]
  },
  {
   "cell_type": "code",
   "execution_count": null,
   "id": "5f53ecb0-8dba-467b-86f4-86aae8a33e46",
   "metadata": {},
   "outputs": [],
   "source": []
  },
  {
   "cell_type": "code",
   "execution_count": null,
   "id": "c7b89c3e-4cfe-47b4-91e7-533554bd6bb6",
   "metadata": {},
   "outputs": [],
   "source": []
  },
  {
   "cell_type": "code",
   "execution_count": null,
   "id": "07231ee2-f102-48c2-8bd9-599338a2a0c6",
   "metadata": {},
   "outputs": [],
   "source": [
    "IMG_SIZE = 224"
   ]
  },
  {
   "cell_type": "code",
   "execution_count": null,
   "id": "54953d78-dc82-4de7-8278-d10860cbbc63",
   "metadata": {},
   "outputs": [],
   "source": [
    "os.listdir(path_to_png)"
   ]
  },
  {
   "cell_type": "code",
   "execution_count": null,
   "id": "ff536b53-ca05-4212-a70a-4537f86423dd",
   "metadata": {},
   "outputs": [],
   "source": []
  },
  {
   "cell_type": "code",
   "execution_count": null,
   "id": "6ea426cf-55d2-4754-b1ab-4b6345134f05",
   "metadata": {},
   "outputs": [],
   "source": [
    "df.drop(\n",
    "    columns=[\n",
    "        \"Follow-up #\",\n",
    "        \"Patient Age\",\n",
    "        \"Patient Gender\",\n",
    "        \"View Position\",\n",
    "        \"OriginalImagePixelSpacing_x\",\n",
    "        \"OriginalImagePixelSpacing_y\",\n",
    "        \"OriginalImageWidth\",\n",
    "        \"OriginalImageHeight\",\n",
    "        \"OriginalImage[Width\",\n",
    "        \"Height]\",\n",
    "        \"OriginalImagePixelSpacing[x\",\n",
    "        \"y]\",\n",
    "        \"Count_diseases\",\n",
    "    ],\n",
    "    inplace=True,\n",
    "    errors=\"ignore\",\n",
    ")\n",
    "df.head(3)"
   ]
  }
 ],
 "metadata": {
  "kernelspec": {
   "display_name": "Python 3 (ipykernel)",
   "language": "python",
   "name": "python3"
  },
  "language_info": {
   "codemirror_mode": {
    "name": "ipython",
    "version": 3
   },
   "file_extension": ".py",
   "mimetype": "text/x-python",
   "name": "python",
   "nbconvert_exporter": "python",
   "pygments_lexer": "ipython3",
   "version": "3.8.6"
  }
 },
 "nbformat": 4,
 "nbformat_minor": 5
}
