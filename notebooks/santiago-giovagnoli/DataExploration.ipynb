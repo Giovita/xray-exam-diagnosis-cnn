{
 "cells": [
  {
   "cell_type": "code",
   "execution_count": 1,
   "id": "575b6c7a-3328-4297-a8db-7424a293df26",
   "metadata": {},
   "outputs": [],
   "source": [
    "import matplotlib.pyplot as plt\n",
    "import numpy as np\n",
    "import pandas as pd\n",
    "import seaborn as sns"
   ]
  },
  {
   "cell_type": "code",
   "execution_count": 2,
   "id": "33ce2f14-6977-44a1-9eaf-4a8b0dab8c2e",
   "metadata": {},
   "outputs": [],
   "source": [
    "sns.set_theme(style=\"darkgrid\")"
   ]
  },
  {
   "cell_type": "code",
   "execution_count": 3,
   "id": "07e8a237-eeaa-41ed-816f-77a8a3f7111e",
   "metadata": {
    "jupyter": {
     "source_hidden": true
    },
    "tags": []
   },
   "outputs": [],
   "source": [
    "import os\n",
    "\n",
    "from PIL import Image\n",
    "from tensorflow.keras.utils import to_categorical\n",
    "from tqdm import tqdm"
   ]
  },
  {
   "cell_type": "markdown",
   "id": "933b8c1a-9d76-4326-9bfd-e1dda1855756",
   "metadata": {},
   "source": [
    "#### Define load parameters and paths"
   ]
  },
  {
   "cell_type": "code",
   "execution_count": 4,
   "id": "4f00bfd1-9d4f-4982-afe2-28f99d9a239c",
   "metadata": {},
   "outputs": [],
   "source": [
    "path_from_root = \"raw_data/sample-data/\"\n",
    "path_to_root = \"../..\"\n",
    "labels_path = os.path.join(path_to_root, path_from_root)\n",
    "img_path = os.path.join(path_to_root, path_from_root, \"images\")\n",
    "# labels = 'Data_Entry_2017.csv'  # FUll dataset labels\n",
    "labels = \"sample_labels.csv\""
   ]
  },
  {
   "cell_type": "code",
   "execution_count": 5,
   "id": "9e63c9a0-5517-459e-bdb5-5a35a742d9c8",
   "metadata": {},
   "outputs": [
    {
     "data": {
      "text/plain": [
       "'../../raw_data/sample-data/images'"
      ]
     },
     "execution_count": 5,
     "metadata": {},
     "output_type": "execute_result"
    }
   ],
   "source": [
    "img_path"
   ]
  },
  {
   "cell_type": "code",
   "execution_count": 6,
   "id": "4e55947a-9d0b-4075-9964-7132de38f711",
   "metadata": {},
   "outputs": [
    {
     "data": {
      "text/plain": [
       "'/home/santiago/code/Giovita/xray-exam-diagnosis-cnn/notebooks/santiago-giovagnoli'"
      ]
     },
     "execution_count": 6,
     "metadata": {},
     "output_type": "execute_result"
    }
   ],
   "source": [
    "os.getcwd()"
   ]
  },
  {
   "cell_type": "code",
   "execution_count": 7,
   "id": "8c0c40f2-0ef9-4bf2-857c-81b439251584",
   "metadata": {},
   "outputs": [
    {
     "name": "stdout",
     "output_type": "stream",
     "text": [
      "images\tsample_labels.csv\n"
     ]
    }
   ],
   "source": [
    "! ls ../../raw_data/sample-data"
   ]
  },
  {
   "cell_type": "code",
   "execution_count": 8,
   "id": "196ca51b-375a-4af1-a701-62eaeb017849",
   "metadata": {},
   "outputs": [],
   "source": [
    "y = pd.read_csv(os.path.join(labels_path, labels))"
   ]
  },
  {
   "cell_type": "code",
   "execution_count": 9,
   "id": "f8367f8a-afba-44e8-ae95-bd306fc40a7a",
   "metadata": {},
   "outputs": [
    {
     "data": {
      "text/html": [
       "<div>\n",
       "<style scoped>\n",
       "    .dataframe tbody tr th:only-of-type {\n",
       "        vertical-align: middle;\n",
       "    }\n",
       "\n",
       "    .dataframe tbody tr th {\n",
       "        vertical-align: top;\n",
       "    }\n",
       "\n",
       "    .dataframe thead th {\n",
       "        text-align: right;\n",
       "    }\n",
       "</style>\n",
       "<table border=\"1\" class=\"dataframe\">\n",
       "  <thead>\n",
       "    <tr style=\"text-align: right;\">\n",
       "      <th></th>\n",
       "      <th>Follow-up #</th>\n",
       "      <th>Patient ID</th>\n",
       "      <th>OriginalImageWidth</th>\n",
       "      <th>OriginalImageHeight</th>\n",
       "      <th>OriginalImagePixelSpacing_x</th>\n",
       "      <th>OriginalImagePixelSpacing_y</th>\n",
       "    </tr>\n",
       "  </thead>\n",
       "  <tbody>\n",
       "    <tr>\n",
       "      <th>count</th>\n",
       "      <td>5606.000000</td>\n",
       "      <td>5606.000000</td>\n",
       "      <td>5606.000000</td>\n",
       "      <td>5606.000000</td>\n",
       "      <td>5606.000000</td>\n",
       "      <td>5606.000000</td>\n",
       "    </tr>\n",
       "    <tr>\n",
       "      <th>mean</th>\n",
       "      <td>8.616661</td>\n",
       "      <td>14330.617017</td>\n",
       "      <td>2644.795755</td>\n",
       "      <td>2491.087406</td>\n",
       "      <td>0.155467</td>\n",
       "      <td>0.155467</td>\n",
       "    </tr>\n",
       "    <tr>\n",
       "      <th>std</th>\n",
       "      <td>15.565815</td>\n",
       "      <td>8411.477789</td>\n",
       "      <td>347.188754</td>\n",
       "      <td>399.119063</td>\n",
       "      <td>0.016201</td>\n",
       "      <td>0.016201</td>\n",
       "    </tr>\n",
       "    <tr>\n",
       "      <th>min</th>\n",
       "      <td>0.000000</td>\n",
       "      <td>13.000000</td>\n",
       "      <td>1362.000000</td>\n",
       "      <td>966.000000</td>\n",
       "      <td>0.115000</td>\n",
       "      <td>0.115000</td>\n",
       "    </tr>\n",
       "    <tr>\n",
       "      <th>25%</th>\n",
       "      <td>0.000000</td>\n",
       "      <td>7289.000000</td>\n",
       "      <td>2500.000000</td>\n",
       "      <td>2048.000000</td>\n",
       "      <td>0.143000</td>\n",
       "      <td>0.143000</td>\n",
       "    </tr>\n",
       "    <tr>\n",
       "      <th>50%</th>\n",
       "      <td>3.000000</td>\n",
       "      <td>13993.000000</td>\n",
       "      <td>2542.000000</td>\n",
       "      <td>2544.000000</td>\n",
       "      <td>0.143000</td>\n",
       "      <td>0.143000</td>\n",
       "    </tr>\n",
       "    <tr>\n",
       "      <th>75%</th>\n",
       "      <td>10.000000</td>\n",
       "      <td>20655.500000</td>\n",
       "      <td>2992.000000</td>\n",
       "      <td>2991.000000</td>\n",
       "      <td>0.168000</td>\n",
       "      <td>0.168000</td>\n",
       "    </tr>\n",
       "    <tr>\n",
       "      <th>max</th>\n",
       "      <td>177.000000</td>\n",
       "      <td>30797.000000</td>\n",
       "      <td>3266.000000</td>\n",
       "      <td>3056.000000</td>\n",
       "      <td>0.198800</td>\n",
       "      <td>0.198800</td>\n",
       "    </tr>\n",
       "  </tbody>\n",
       "</table>\n",
       "</div>"
      ],
      "text/plain": [
       "       Follow-up #    Patient ID  OriginalImageWidth  OriginalImageHeight  \\\n",
       "count  5606.000000   5606.000000         5606.000000          5606.000000   \n",
       "mean      8.616661  14330.617017         2644.795755          2491.087406   \n",
       "std      15.565815   8411.477789          347.188754           399.119063   \n",
       "min       0.000000     13.000000         1362.000000           966.000000   \n",
       "25%       0.000000   7289.000000         2500.000000          2048.000000   \n",
       "50%       3.000000  13993.000000         2542.000000          2544.000000   \n",
       "75%      10.000000  20655.500000         2992.000000          2991.000000   \n",
       "max     177.000000  30797.000000         3266.000000          3056.000000   \n",
       "\n",
       "       OriginalImagePixelSpacing_x  OriginalImagePixelSpacing_y  \n",
       "count                  5606.000000                  5606.000000  \n",
       "mean                      0.155467                     0.155467  \n",
       "std                       0.016201                     0.016201  \n",
       "min                       0.115000                     0.115000  \n",
       "25%                       0.143000                     0.143000  \n",
       "50%                       0.143000                     0.143000  \n",
       "75%                       0.168000                     0.168000  \n",
       "max                       0.198800                     0.198800  "
      ]
     },
     "execution_count": 9,
     "metadata": {},
     "output_type": "execute_result"
    }
   ],
   "source": [
    "y.describe()"
   ]
  },
  {
   "cell_type": "code",
   "execution_count": 10,
   "id": "7543dd82-3ce8-42bf-bf5e-02aaedad9cb3",
   "metadata": {},
   "outputs": [
    {
     "name": "stdout",
     "output_type": "stream",
     "text": [
      "<class 'pandas.core.frame.DataFrame'>\n",
      "RangeIndex: 5606 entries, 0 to 5605\n",
      "Data columns (total 11 columns):\n",
      " #   Column                       Non-Null Count  Dtype  \n",
      "---  ------                       --------------  -----  \n",
      " 0   Image Index                  5606 non-null   object \n",
      " 1   Finding Labels               5606 non-null   object \n",
      " 2   Follow-up #                  5606 non-null   int64  \n",
      " 3   Patient ID                   5606 non-null   int64  \n",
      " 4   Patient Age                  5606 non-null   object \n",
      " 5   Patient Gender               5606 non-null   object \n",
      " 6   View Position                5606 non-null   object \n",
      " 7   OriginalImageWidth           5606 non-null   int64  \n",
      " 8   OriginalImageHeight          5606 non-null   int64  \n",
      " 9   OriginalImagePixelSpacing_x  5606 non-null   float64\n",
      " 10  OriginalImagePixelSpacing_y  5606 non-null   float64\n",
      "dtypes: float64(2), int64(4), object(5)\n",
      "memory usage: 481.9+ KB\n"
     ]
    }
   ],
   "source": [
    "y.info()"
   ]
  },
  {
   "cell_type": "code",
   "execution_count": 11,
   "id": "dea3e5cc-3e0f-4b72-b979-ea451c4a2041",
   "metadata": {},
   "outputs": [
    {
     "data": {
      "text/plain": [
       "No Finding                                                3044\n",
       "Infiltration                                               503\n",
       "Effusion                                                   203\n",
       "Atelectasis                                                192\n",
       "Nodule                                                     144\n",
       "                                                          ... \n",
       "Atelectasis|Edema|Effusion|Infiltration|Pneumonia            1\n",
       "Atelectasis|Consolidation|Edema|Infiltration|Pneumonia       1\n",
       "Atelectasis|Effusion|Hernia                                  1\n",
       "Atelectasis|Hernia|Pneumothorax                              1\n",
       "Cardiomegaly|Effusion|Emphysema                              1\n",
       "Name: Finding Labels, Length: 244, dtype: int64"
      ]
     },
     "execution_count": 11,
     "metadata": {},
     "output_type": "execute_result"
    }
   ],
   "source": [
    "y[\"Finding Labels\"].value_counts()"
   ]
  },
  {
   "cell_type": "code",
   "execution_count": 12,
   "id": "3928b28f-0547-4170-94f9-08dcab6a9905",
   "metadata": {},
   "outputs": [
    {
     "data": {
      "text/html": [
       "<div>\n",
       "<style scoped>\n",
       "    .dataframe tbody tr th:only-of-type {\n",
       "        vertical-align: middle;\n",
       "    }\n",
       "\n",
       "    .dataframe tbody tr th {\n",
       "        vertical-align: top;\n",
       "    }\n",
       "\n",
       "    .dataframe thead th {\n",
       "        text-align: right;\n",
       "    }\n",
       "</style>\n",
       "<table border=\"1\" class=\"dataframe\">\n",
       "  <thead>\n",
       "    <tr style=\"text-align: right;\">\n",
       "      <th></th>\n",
       "      <th>Image Index</th>\n",
       "      <th>Finding Labels</th>\n",
       "      <th>Follow-up #</th>\n",
       "      <th>Patient ID</th>\n",
       "      <th>Patient Age</th>\n",
       "      <th>Patient Gender</th>\n",
       "      <th>View Position</th>\n",
       "      <th>OriginalImageWidth</th>\n",
       "      <th>OriginalImageHeight</th>\n",
       "      <th>OriginalImagePixelSpacing_x</th>\n",
       "      <th>OriginalImagePixelSpacing_y</th>\n",
       "    </tr>\n",
       "  </thead>\n",
       "  <tbody>\n",
       "    <tr>\n",
       "      <th>0</th>\n",
       "      <td>00000013_005.png</td>\n",
       "      <td>Emphysema|Infiltration|Pleural_Thickening|Pneu...</td>\n",
       "      <td>5</td>\n",
       "      <td>13</td>\n",
       "      <td>060Y</td>\n",
       "      <td>M</td>\n",
       "      <td>AP</td>\n",
       "      <td>3056</td>\n",
       "      <td>2544</td>\n",
       "      <td>0.139000</td>\n",
       "      <td>0.139000</td>\n",
       "    </tr>\n",
       "    <tr>\n",
       "      <th>1</th>\n",
       "      <td>00000013_026.png</td>\n",
       "      <td>Cardiomegaly|Emphysema</td>\n",
       "      <td>26</td>\n",
       "      <td>13</td>\n",
       "      <td>057Y</td>\n",
       "      <td>M</td>\n",
       "      <td>AP</td>\n",
       "      <td>2500</td>\n",
       "      <td>2048</td>\n",
       "      <td>0.168000</td>\n",
       "      <td>0.168000</td>\n",
       "    </tr>\n",
       "    <tr>\n",
       "      <th>2</th>\n",
       "      <td>00000017_001.png</td>\n",
       "      <td>No Finding</td>\n",
       "      <td>1</td>\n",
       "      <td>17</td>\n",
       "      <td>077Y</td>\n",
       "      <td>M</td>\n",
       "      <td>AP</td>\n",
       "      <td>2500</td>\n",
       "      <td>2048</td>\n",
       "      <td>0.168000</td>\n",
       "      <td>0.168000</td>\n",
       "    </tr>\n",
       "    <tr>\n",
       "      <th>3</th>\n",
       "      <td>00000030_001.png</td>\n",
       "      <td>Atelectasis</td>\n",
       "      <td>1</td>\n",
       "      <td>30</td>\n",
       "      <td>079Y</td>\n",
       "      <td>M</td>\n",
       "      <td>PA</td>\n",
       "      <td>2992</td>\n",
       "      <td>2991</td>\n",
       "      <td>0.143000</td>\n",
       "      <td>0.143000</td>\n",
       "    </tr>\n",
       "    <tr>\n",
       "      <th>4</th>\n",
       "      <td>00000032_001.png</td>\n",
       "      <td>Cardiomegaly|Edema|Effusion</td>\n",
       "      <td>1</td>\n",
       "      <td>32</td>\n",
       "      <td>055Y</td>\n",
       "      <td>F</td>\n",
       "      <td>AP</td>\n",
       "      <td>2500</td>\n",
       "      <td>2048</td>\n",
       "      <td>0.168000</td>\n",
       "      <td>0.168000</td>\n",
       "    </tr>\n",
       "    <tr>\n",
       "      <th>5</th>\n",
       "      <td>00000040_003.png</td>\n",
       "      <td>Consolidation|Mass</td>\n",
       "      <td>3</td>\n",
       "      <td>40</td>\n",
       "      <td>068Y</td>\n",
       "      <td>M</td>\n",
       "      <td>PA</td>\n",
       "      <td>2500</td>\n",
       "      <td>2048</td>\n",
       "      <td>0.168000</td>\n",
       "      <td>0.168000</td>\n",
       "    </tr>\n",
       "    <tr>\n",
       "      <th>6</th>\n",
       "      <td>00000042_002.png</td>\n",
       "      <td>No Finding</td>\n",
       "      <td>2</td>\n",
       "      <td>42</td>\n",
       "      <td>071Y</td>\n",
       "      <td>M</td>\n",
       "      <td>AP</td>\n",
       "      <td>3056</td>\n",
       "      <td>2544</td>\n",
       "      <td>0.139000</td>\n",
       "      <td>0.139000</td>\n",
       "    </tr>\n",
       "    <tr>\n",
       "      <th>7</th>\n",
       "      <td>00000057_001.png</td>\n",
       "      <td>No Finding</td>\n",
       "      <td>1</td>\n",
       "      <td>57</td>\n",
       "      <td>071Y</td>\n",
       "      <td>M</td>\n",
       "      <td>AP</td>\n",
       "      <td>3056</td>\n",
       "      <td>2544</td>\n",
       "      <td>0.139000</td>\n",
       "      <td>0.139000</td>\n",
       "    </tr>\n",
       "    <tr>\n",
       "      <th>8</th>\n",
       "      <td>00000061_002.png</td>\n",
       "      <td>Effusion</td>\n",
       "      <td>2</td>\n",
       "      <td>61</td>\n",
       "      <td>077Y</td>\n",
       "      <td>M</td>\n",
       "      <td>PA</td>\n",
       "      <td>2992</td>\n",
       "      <td>2991</td>\n",
       "      <td>0.143000</td>\n",
       "      <td>0.143000</td>\n",
       "    </tr>\n",
       "    <tr>\n",
       "      <th>9</th>\n",
       "      <td>00000061_019.png</td>\n",
       "      <td>No Finding</td>\n",
       "      <td>19</td>\n",
       "      <td>61</td>\n",
       "      <td>077Y</td>\n",
       "      <td>M</td>\n",
       "      <td>AP</td>\n",
       "      <td>3056</td>\n",
       "      <td>2544</td>\n",
       "      <td>0.139000</td>\n",
       "      <td>0.139000</td>\n",
       "    </tr>\n",
       "    <tr>\n",
       "      <th>10</th>\n",
       "      <td>00000061_025.png</td>\n",
       "      <td>Consolidation|Effusion|Infiltration|Nodule</td>\n",
       "      <td>25</td>\n",
       "      <td>61</td>\n",
       "      <td>077Y</td>\n",
       "      <td>M</td>\n",
       "      <td>AP</td>\n",
       "      <td>3056</td>\n",
       "      <td>2544</td>\n",
       "      <td>0.139000</td>\n",
       "      <td>0.139000</td>\n",
       "    </tr>\n",
       "    <tr>\n",
       "      <th>11</th>\n",
       "      <td>00000079_000.png</td>\n",
       "      <td>Mass</td>\n",
       "      <td>0</td>\n",
       "      <td>79</td>\n",
       "      <td>063Y</td>\n",
       "      <td>M</td>\n",
       "      <td>PA</td>\n",
       "      <td>2500</td>\n",
       "      <td>2048</td>\n",
       "      <td>0.168000</td>\n",
       "      <td>0.168000</td>\n",
       "    </tr>\n",
       "    <tr>\n",
       "      <th>12</th>\n",
       "      <td>00000080_005.png</td>\n",
       "      <td>No Finding</td>\n",
       "      <td>5</td>\n",
       "      <td>80</td>\n",
       "      <td>067Y</td>\n",
       "      <td>F</td>\n",
       "      <td>PA</td>\n",
       "      <td>1884</td>\n",
       "      <td>2021</td>\n",
       "      <td>0.194311</td>\n",
       "      <td>0.194311</td>\n",
       "    </tr>\n",
       "    <tr>\n",
       "      <th>13</th>\n",
       "      <td>00000083_000.png</td>\n",
       "      <td>No Finding</td>\n",
       "      <td>0</td>\n",
       "      <td>83</td>\n",
       "      <td>056Y</td>\n",
       "      <td>F</td>\n",
       "      <td>PA</td>\n",
       "      <td>2048</td>\n",
       "      <td>2500</td>\n",
       "      <td>0.171000</td>\n",
       "      <td>0.171000</td>\n",
       "    </tr>\n",
       "    <tr>\n",
       "      <th>14</th>\n",
       "      <td>00000084_000.png</td>\n",
       "      <td>Effusion</td>\n",
       "      <td>0</td>\n",
       "      <td>84</td>\n",
       "      <td>057Y</td>\n",
       "      <td>F</td>\n",
       "      <td>PA</td>\n",
       "      <td>2048</td>\n",
       "      <td>2500</td>\n",
       "      <td>0.171000</td>\n",
       "      <td>0.171000</td>\n",
       "    </tr>\n",
       "  </tbody>\n",
       "</table>\n",
       "</div>"
      ],
      "text/plain": [
       "         Image Index                                     Finding Labels  \\\n",
       "0   00000013_005.png  Emphysema|Infiltration|Pleural_Thickening|Pneu...   \n",
       "1   00000013_026.png                             Cardiomegaly|Emphysema   \n",
       "2   00000017_001.png                                         No Finding   \n",
       "3   00000030_001.png                                        Atelectasis   \n",
       "4   00000032_001.png                        Cardiomegaly|Edema|Effusion   \n",
       "5   00000040_003.png                                 Consolidation|Mass   \n",
       "6   00000042_002.png                                         No Finding   \n",
       "7   00000057_001.png                                         No Finding   \n",
       "8   00000061_002.png                                           Effusion   \n",
       "9   00000061_019.png                                         No Finding   \n",
       "10  00000061_025.png         Consolidation|Effusion|Infiltration|Nodule   \n",
       "11  00000079_000.png                                               Mass   \n",
       "12  00000080_005.png                                         No Finding   \n",
       "13  00000083_000.png                                         No Finding   \n",
       "14  00000084_000.png                                           Effusion   \n",
       "\n",
       "    Follow-up #  Patient ID Patient Age Patient Gender View Position  \\\n",
       "0             5          13        060Y              M            AP   \n",
       "1            26          13        057Y              M            AP   \n",
       "2             1          17        077Y              M            AP   \n",
       "3             1          30        079Y              M            PA   \n",
       "4             1          32        055Y              F            AP   \n",
       "5             3          40        068Y              M            PA   \n",
       "6             2          42        071Y              M            AP   \n",
       "7             1          57        071Y              M            AP   \n",
       "8             2          61        077Y              M            PA   \n",
       "9            19          61        077Y              M            AP   \n",
       "10           25          61        077Y              M            AP   \n",
       "11            0          79        063Y              M            PA   \n",
       "12            5          80        067Y              F            PA   \n",
       "13            0          83        056Y              F            PA   \n",
       "14            0          84        057Y              F            PA   \n",
       "\n",
       "    OriginalImageWidth  OriginalImageHeight  OriginalImagePixelSpacing_x  \\\n",
       "0                 3056                 2544                     0.139000   \n",
       "1                 2500                 2048                     0.168000   \n",
       "2                 2500                 2048                     0.168000   \n",
       "3                 2992                 2991                     0.143000   \n",
       "4                 2500                 2048                     0.168000   \n",
       "5                 2500                 2048                     0.168000   \n",
       "6                 3056                 2544                     0.139000   \n",
       "7                 3056                 2544                     0.139000   \n",
       "8                 2992                 2991                     0.143000   \n",
       "9                 3056                 2544                     0.139000   \n",
       "10                3056                 2544                     0.139000   \n",
       "11                2500                 2048                     0.168000   \n",
       "12                1884                 2021                     0.194311   \n",
       "13                2048                 2500                     0.171000   \n",
       "14                2048                 2500                     0.171000   \n",
       "\n",
       "    OriginalImagePixelSpacing_y  \n",
       "0                      0.139000  \n",
       "1                      0.168000  \n",
       "2                      0.168000  \n",
       "3                      0.143000  \n",
       "4                      0.168000  \n",
       "5                      0.168000  \n",
       "6                      0.139000  \n",
       "7                      0.139000  \n",
       "8                      0.143000  \n",
       "9                      0.139000  \n",
       "10                     0.139000  \n",
       "11                     0.168000  \n",
       "12                     0.194311  \n",
       "13                     0.171000  \n",
       "14                     0.171000  "
      ]
     },
     "execution_count": 12,
     "metadata": {},
     "output_type": "execute_result"
    }
   ],
   "source": [
    "y.head(15)"
   ]
  },
  {
   "cell_type": "code",
   "execution_count": 13,
   "id": "5c38e61c-6776-4880-9a98-00a2be0ea8d7",
   "metadata": {},
   "outputs": [],
   "source": [
    "# def load_xray_data_test(path):\n",
    "#     # adapted from challenge 4 CNN\n",
    "\n",
    "#     # data_path = 'raw_data/sample/data'\n",
    "#     # classes = {'No Findings':0, 'Atelectasis':1, 'Consolidation':2}  # No need for loading data.\n",
    "#     imgs = []\n",
    "#     labels = []\n",
    "#     for (cl, i) in classes.items():\n",
    "#         images_path = [elt for elt in os.listdir(os.path.join(data_path, cl)) if elt.find('.png')>0]\n",
    "#         for img in tqdm(images_path[:300]):\n",
    "#             path = os.path.join(data_path, cl, img)\n",
    "#             if os.path.exists(path):\n",
    "#                 image = Image.open(path)\n",
    "#                 # image = image.resize((256, 256))  # No image resizing.\n",
    "#                 imgs.append(np.array(image))\n",
    "#                 labels.append(i)\n",
    "\n",
    "#     return imgs"
   ]
  },
  {
   "cell_type": "code",
   "execution_count": 14,
   "id": "73168468-ba3f-44a3-8199-1eb349dc9d63",
   "metadata": {
    "tags": []
   },
   "outputs": [],
   "source": [
    "# ! ls ../../raw_data/full-dataset\n",
    "# ! ls ../../raw_data/sample-data/"
   ]
  },
  {
   "cell_type": "code",
   "execution_count": 15,
   "id": "da2817b3-7ffb-4cb8-b972-0691bf3bfca6",
   "metadata": {},
   "outputs": [
    {
     "data": {
      "text/plain": [
       "'../../raw_data/sample-data/'"
      ]
     },
     "execution_count": 15,
     "metadata": {},
     "output_type": "execute_result"
    }
   ],
   "source": [
    "path_to_sample_img = os.path.join(path_to_root, path_from_root)\n",
    "path_to_sample_img"
   ]
  },
  {
   "cell_type": "code",
   "execution_count": 16,
   "id": "08089e66-47c6-493a-ba52-8699b8d666a7",
   "metadata": {},
   "outputs": [],
   "source": [
    "sample_img = Image.open(os.path.join(img_path, \"00014015_001.png\"))"
   ]
  },
  {
   "cell_type": "code",
   "execution_count": 17,
   "id": "75485058-e7dc-4607-8fb2-72f5920b2278",
   "metadata": {},
   "outputs": [
    {
     "data": {
      "text/plain": [
       "(1024, 1024)"
      ]
     },
     "execution_count": 17,
     "metadata": {},
     "output_type": "execute_result"
    }
   ],
   "source": [
    "img_array = np.array(sample_img)\n",
    "img_array.shape"
   ]
  },
  {
   "cell_type": "code",
   "execution_count": 18,
   "id": "b5188056-b492-4d09-bded-1db459debd01",
   "metadata": {
    "tags": []
   },
   "outputs": [],
   "source": [
    "def load_xray_data(img_folder, n_images=0):\n",
    "\n",
    "    # High memory consumption\n",
    "\n",
    "    imgs = []\n",
    "\n",
    "    images_path = [elt for elt in os.listdir(img_folder) if elt.find(\".png\") > 0]\n",
    "    if n_images:\n",
    "        images = images_path[:n_images]\n",
    "    else:\n",
    "        images = images_path\n",
    "\n",
    "    for img in tqdm(images):\n",
    "\n",
    "        #     for img in img_folder:\n",
    "        path = os.path.join(img_folder, img)\n",
    "        # print(path)\n",
    "        if os.path.exists(path):\n",
    "            image = Image.open(path)\n",
    "            image_np = np.array(image)\n",
    "            if len(image_np.shape) != 2:\n",
    "                # print(img, image_np.shape, np.min(image_np[:,:,3]))\n",
    "                # image_np =\n",
    "                imgs.append(image_np[:, :, 0])\n",
    "            else:\n",
    "                imgs.append(image_np)\n",
    "\n",
    "    return np.array(imgs)"
   ]
  },
  {
   "cell_type": "code",
   "execution_count": 19,
   "id": "c14254ba-b5f7-4c7d-bd01-2de33360c4f9",
   "metadata": {},
   "outputs": [],
   "source": [
    "# imgs = load_xray_data(img_path)\n",
    "\n",
    "# imgs.shape"
   ]
  },
  {
   "cell_type": "markdown",
   "id": "c4036e04-6cbc-4e13-a57f-80402803b1b8",
   "metadata": {},
   "source": [
    "# Load with Tensorflow"
   ]
  },
  {
   "cell_type": "code",
   "execution_count": 9,
   "id": "a92df699-9f06-4989-8604-1a7da93e3a53",
   "metadata": {},
   "outputs": [],
   "source": [
    "import tensorflow as tf\n",
    "from tensorflow.keras.utils import image_dataset_from_directory"
   ]
  },
  {
   "cell_type": "code",
   "execution_count": 21,
   "id": "36c34ad9-9a65-4ab4-92a5-9d15e3a972a6",
   "metadata": {},
   "outputs": [
    {
     "name": "stdout",
     "output_type": "stream",
     "text": [
      "Variable                       Type            Data/Info\n",
      "--------------------------------------------------------\n",
      "Image                          module          <module 'PIL.Image' from <...>e-packages/PIL/Image.py'>\n",
      "image_dataset_from_directory   function        <function image_dataset_f<...>ectory at 0x7f7612993040>\n",
      "img_array                      ndarray         1024x1024: 1048576 elems, type `uint8`, 1048576 bytes (1.0 Mb)\n",
      "img_path                       str             ../../raw_data/sample-data/images\n",
      "labels                         str             sample_labels.csv\n",
      "labels_path                    str             ../../raw_data/sample-data/\n",
      "load_xray_data                 function        <function load_xray_data at 0x7f76a8dd8040>\n",
      "np                             module          <module 'numpy' from '/ho<...>kages/numpy/__init__.py'>\n",
      "os                             module          <module 'os' from '/home/<...>8.6/lib/python3.8/os.py'>\n",
      "path_from_root                 str             raw_data/sample-data/\n",
      "path_to_root                   str             ../..\n",
      "path_to_sample_img             str             ../../raw_data/sample-data/\n",
      "pd                             module          <module 'pandas' from '/h<...>ages/pandas/__init__.py'>\n",
      "plt                            module          <module 'matplotlib.pyplo<...>es/matplotlib/pyplot.py'>\n",
      "sample_img                     PngImageFile    <PIL.PngImagePlugin.PngIm<...>4x1024 at 0x7F76A8EBEBB0>\n",
      "sns                            module          <module 'seaborn' from '/<...>ges/seaborn/__init__.py'>\n",
      "tf                             module          <module 'tensorflow' from<...>/tensorflow/__init__.py'>\n",
      "to_categorical                 function        <function to_categorical at 0x7f761291a280>\n",
      "tqdm                           type            <class 'tqdm.std.tqdm'>\n",
      "y                              DataFrame                  Image Index   <...>n[5606 rows x 11 columns]\n"
     ]
    }
   ],
   "source": [
    "whos"
   ]
  },
  {
   "cell_type": "code",
   "execution_count": 21,
   "id": "8bbd0ef4-e3df-4a75-ac85-f560dfc8b2a8",
   "metadata": {},
   "outputs": [
    {
     "data": {
      "text/plain": [
       "'../../raw_data/sample-data/images'"
      ]
     },
     "execution_count": 21,
     "metadata": {},
     "output_type": "execute_result"
    }
   ],
   "source": [
    "img_path"
   ]
  },
  {
   "cell_type": "code",
   "execution_count": null,
   "id": "b909a972-0023-4895-868f-74b685933ded",
   "metadata": {},
   "outputs": [],
   "source": []
  },
  {
   "cell_type": "code",
   "execution_count": 23,
   "id": "908a7a71-c844-43a7-a573-6d2d9c8d16c1",
   "metadata": {},
   "outputs": [],
   "source": [
    "# img_ds.map(lambda x: (tf.cast(x, tf.uint8)))"
   ]
  },
  {
   "cell_type": "code",
   "execution_count": 10,
   "id": "3af1ce7d-49a7-4975-a85e-a87ee08f2ab0",
   "metadata": {},
   "outputs": [
    {
     "name": "stdout",
     "output_type": "stream",
     "text": [
      "Found 5606 files belonging to 1 classes.\n"
     ]
    },
    {
     "name": "stderr",
     "output_type": "stream",
     "text": [
      "2021-10-14 16:38:26.850681: E tensorflow/stream_executor/cuda/cuda_driver.cc:271] failed call to cuInit: CUDA_ERROR_NO_DEVICE: no CUDA-capable device is detected\n",
      "2021-10-14 16:38:26.850711: I tensorflow/stream_executor/cuda/cuda_diagnostics.cc:156] kernel driver does not appear to be running on this host (alienware): /proc/driver/nvidia/version does not exist\n",
      "2021-10-14 16:38:26.852667: I tensorflow/core/platform/cpu_feature_guard.cc:142] This TensorFlow binary is optimized with oneAPI Deep Neural Network Library (oneDNN) to use the following CPU instructions in performance-critical operations:  AVX2 FMA\n",
      "To enable them in other operations, rebuild TensorFlow with the appropriate compiler flags.\n"
     ]
    }
   ],
   "source": [
    "img_ds = image_dataset_from_directory(\n",
    "    img_path, labels=None, color_mode=\"grayscale\", image_size=(1028, 1028)\n",
    ")"
   ]
  },
  {
   "cell_type": "code",
   "execution_count": 22,
   "id": "3e9134f6-c191-4c9b-b71a-c47025a8a7f8",
   "metadata": {},
   "outputs": [],
   "source": [
    "from pprint import pprint"
   ]
  },
  {
   "cell_type": "code",
   "execution_count": 23,
   "id": "cdb451e7-7118-49f7-9619-cbf108f507bf",
   "metadata": {},
   "outputs": [
    {
     "ename": "NameError",
     "evalue": "name 'img_ds' is not defined",
     "output_type": "error",
     "traceback": [
      "\u001b[0;31m---------------------------------------------------------------------------\u001b[0m",
      "\u001b[0;31mNameError\u001b[0m                                 Traceback (most recent call last)",
      "\u001b[0;32m/tmp/ipykernel_7710/1544859774.py\u001b[0m in \u001b[0;36m<module>\u001b[0;34m\u001b[0m\n\u001b[0;32m----> 1\u001b[0;31m \u001b[0;32mfor\u001b[0m \u001b[0midx\u001b[0m\u001b[0;34m,\u001b[0m \u001b[0mpicture\u001b[0m \u001b[0;32min\u001b[0m \u001b[0menumerate\u001b[0m\u001b[0;34m(\u001b[0m\u001b[0mimg_ds\u001b[0m\u001b[0;34m.\u001b[0m\u001b[0mas_numpy_iterator\u001b[0m\u001b[0;34m(\u001b[0m\u001b[0;34m)\u001b[0m\u001b[0;34m)\u001b[0m\u001b[0;34m:\u001b[0m\u001b[0;34m\u001b[0m\u001b[0;34m\u001b[0m\u001b[0m\n\u001b[0m\u001b[1;32m      2\u001b[0m     \u001b[0;32mif\u001b[0m \u001b[0midx\u001b[0m \u001b[0;34m>\u001b[0m \u001b[0;36m2\u001b[0m\u001b[0;34m:\u001b[0m\u001b[0;34m\u001b[0m\u001b[0;34m\u001b[0m\u001b[0m\n\u001b[1;32m      3\u001b[0m         \u001b[0;32mbreak\u001b[0m\u001b[0;34m\u001b[0m\u001b[0;34m\u001b[0m\u001b[0m\n\u001b[1;32m      4\u001b[0m \u001b[0;34m\u001b[0m\u001b[0m\n\u001b[1;32m      5\u001b[0m     \u001b[0mplt\u001b[0m\u001b[0;34m.\u001b[0m\u001b[0mimshow\u001b[0m\u001b[0;34m(\u001b[0m\u001b[0mpicture\u001b[0m\u001b[0;34m[\u001b[0m\u001b[0;36m3\u001b[0m\u001b[0;34m,\u001b[0m\u001b[0;34m:\u001b[0m\u001b[0;34m,\u001b[0m\u001b[0;34m:\u001b[0m\u001b[0;34m,\u001b[0m\u001b[0;34m:\u001b[0m\u001b[0;34m]\u001b[0m\u001b[0;34m)\u001b[0m\u001b[0;34m\u001b[0m\u001b[0;34m\u001b[0m\u001b[0m\n",
      "\u001b[0;31mNameError\u001b[0m: name 'img_ds' is not defined"
     ]
    }
   ],
   "source": [
    "for idx, picture in enumerate(img_ds.as_numpy_iterator()):\n",
    "    if idx > 2:\n",
    "        break\n",
    "\n",
    "    plt.imshow(picture[3, :, :, :])\n",
    "    # pprint(picture[3,:,:,:])"
   ]
  },
  {
   "cell_type": "code",
   "execution_count": 26,
   "id": "1e453b37-decc-46fd-b359-faceb2e18e63",
   "metadata": {
    "tags": []
   },
   "outputs": [],
   "source": [
    "y.rename(\n",
    "    columns={\"Image Index\": \"image_index\", \"Finding Labels\": \"labels\"}, inplace=True\n",
    ")"
   ]
  },
  {
   "cell_type": "code",
   "execution_count": 57,
   "id": "8d9db303-49ca-4dc0-876c-2c6741b28fc8",
   "metadata": {},
   "outputs": [],
   "source": [
    "y['labels_binary'] = np.where(y['labels'] !='No Finding', 'Disease', y['labels'])"
   ]
  },
  {
   "cell_type": "code",
   "execution_count": 58,
   "id": "a31ed522-d1bc-45c4-9012-5e390cb8ebd7",
   "metadata": {},
   "outputs": [
    {
     "data": {
      "text/html": [
       "<div>\n",
       "<style scoped>\n",
       "    .dataframe tbody tr th:only-of-type {\n",
       "        vertical-align: middle;\n",
       "    }\n",
       "\n",
       "    .dataframe tbody tr th {\n",
       "        vertical-align: top;\n",
       "    }\n",
       "\n",
       "    .dataframe thead th {\n",
       "        text-align: right;\n",
       "    }\n",
       "</style>\n",
       "<table border=\"1\" class=\"dataframe\">\n",
       "  <thead>\n",
       "    <tr style=\"text-align: right;\">\n",
       "      <th></th>\n",
       "      <th>image_index</th>\n",
       "      <th>labels</th>\n",
       "      <th>Follow-up #</th>\n",
       "      <th>Patient ID</th>\n",
       "      <th>Patient Age</th>\n",
       "      <th>Patient Gender</th>\n",
       "      <th>View Position</th>\n",
       "      <th>OriginalImageWidth</th>\n",
       "      <th>OriginalImageHeight</th>\n",
       "      <th>OriginalImagePixelSpacing_x</th>\n",
       "      <th>OriginalImagePixelSpacing_y</th>\n",
       "      <th>labels_binary</th>\n",
       "    </tr>\n",
       "  </thead>\n",
       "  <tbody>\n",
       "    <tr>\n",
       "      <th>0</th>\n",
       "      <td>00000013_005.png</td>\n",
       "      <td>Emphysema|Infiltration|Pleural_Thickening|Pneu...</td>\n",
       "      <td>5</td>\n",
       "      <td>13</td>\n",
       "      <td>060Y</td>\n",
       "      <td>M</td>\n",
       "      <td>AP</td>\n",
       "      <td>3056</td>\n",
       "      <td>2544</td>\n",
       "      <td>0.139000</td>\n",
       "      <td>0.139000</td>\n",
       "      <td>Disease</td>\n",
       "    </tr>\n",
       "    <tr>\n",
       "      <th>1</th>\n",
       "      <td>00000013_026.png</td>\n",
       "      <td>Cardiomegaly|Emphysema</td>\n",
       "      <td>26</td>\n",
       "      <td>13</td>\n",
       "      <td>057Y</td>\n",
       "      <td>M</td>\n",
       "      <td>AP</td>\n",
       "      <td>2500</td>\n",
       "      <td>2048</td>\n",
       "      <td>0.168000</td>\n",
       "      <td>0.168000</td>\n",
       "      <td>Disease</td>\n",
       "    </tr>\n",
       "    <tr>\n",
       "      <th>2</th>\n",
       "      <td>00000017_001.png</td>\n",
       "      <td>No Finding</td>\n",
       "      <td>1</td>\n",
       "      <td>17</td>\n",
       "      <td>077Y</td>\n",
       "      <td>M</td>\n",
       "      <td>AP</td>\n",
       "      <td>2500</td>\n",
       "      <td>2048</td>\n",
       "      <td>0.168000</td>\n",
       "      <td>0.168000</td>\n",
       "      <td>No Finding</td>\n",
       "    </tr>\n",
       "    <tr>\n",
       "      <th>3</th>\n",
       "      <td>00000030_001.png</td>\n",
       "      <td>Atelectasis</td>\n",
       "      <td>1</td>\n",
       "      <td>30</td>\n",
       "      <td>079Y</td>\n",
       "      <td>M</td>\n",
       "      <td>PA</td>\n",
       "      <td>2992</td>\n",
       "      <td>2991</td>\n",
       "      <td>0.143000</td>\n",
       "      <td>0.143000</td>\n",
       "      <td>Disease</td>\n",
       "    </tr>\n",
       "    <tr>\n",
       "      <th>4</th>\n",
       "      <td>00000032_001.png</td>\n",
       "      <td>Cardiomegaly|Edema|Effusion</td>\n",
       "      <td>1</td>\n",
       "      <td>32</td>\n",
       "      <td>055Y</td>\n",
       "      <td>F</td>\n",
       "      <td>AP</td>\n",
       "      <td>2500</td>\n",
       "      <td>2048</td>\n",
       "      <td>0.168000</td>\n",
       "      <td>0.168000</td>\n",
       "      <td>Disease</td>\n",
       "    </tr>\n",
       "    <tr>\n",
       "      <th>...</th>\n",
       "      <td>...</td>\n",
       "      <td>...</td>\n",
       "      <td>...</td>\n",
       "      <td>...</td>\n",
       "      <td>...</td>\n",
       "      <td>...</td>\n",
       "      <td>...</td>\n",
       "      <td>...</td>\n",
       "      <td>...</td>\n",
       "      <td>...</td>\n",
       "      <td>...</td>\n",
       "      <td>...</td>\n",
       "    </tr>\n",
       "    <tr>\n",
       "      <th>5601</th>\n",
       "      <td>00030712_000.png</td>\n",
       "      <td>No Finding</td>\n",
       "      <td>0</td>\n",
       "      <td>30712</td>\n",
       "      <td>058Y</td>\n",
       "      <td>M</td>\n",
       "      <td>PA</td>\n",
       "      <td>2021</td>\n",
       "      <td>2021</td>\n",
       "      <td>0.194311</td>\n",
       "      <td>0.194311</td>\n",
       "      <td>No Finding</td>\n",
       "    </tr>\n",
       "    <tr>\n",
       "      <th>5602</th>\n",
       "      <td>00030786_005.png</td>\n",
       "      <td>Cardiomegaly|Effusion|Emphysema</td>\n",
       "      <td>5</td>\n",
       "      <td>30786</td>\n",
       "      <td>061Y</td>\n",
       "      <td>F</td>\n",
       "      <td>AP</td>\n",
       "      <td>3056</td>\n",
       "      <td>2544</td>\n",
       "      <td>0.139000</td>\n",
       "      <td>0.139000</td>\n",
       "      <td>Disease</td>\n",
       "    </tr>\n",
       "    <tr>\n",
       "      <th>5603</th>\n",
       "      <td>00030789_000.png</td>\n",
       "      <td>Infiltration</td>\n",
       "      <td>0</td>\n",
       "      <td>30789</td>\n",
       "      <td>052Y</td>\n",
       "      <td>F</td>\n",
       "      <td>PA</td>\n",
       "      <td>2021</td>\n",
       "      <td>2021</td>\n",
       "      <td>0.194311</td>\n",
       "      <td>0.194311</td>\n",
       "      <td>Disease</td>\n",
       "    </tr>\n",
       "    <tr>\n",
       "      <th>5604</th>\n",
       "      <td>00030792_000.png</td>\n",
       "      <td>No Finding</td>\n",
       "      <td>0</td>\n",
       "      <td>30792</td>\n",
       "      <td>010Y</td>\n",
       "      <td>F</td>\n",
       "      <td>PA</td>\n",
       "      <td>1775</td>\n",
       "      <td>1712</td>\n",
       "      <td>0.194311</td>\n",
       "      <td>0.194311</td>\n",
       "      <td>No Finding</td>\n",
       "    </tr>\n",
       "    <tr>\n",
       "      <th>5605</th>\n",
       "      <td>00030797_000.png</td>\n",
       "      <td>No Finding</td>\n",
       "      <td>0</td>\n",
       "      <td>30797</td>\n",
       "      <td>024Y</td>\n",
       "      <td>M</td>\n",
       "      <td>PA</td>\n",
       "      <td>2021</td>\n",
       "      <td>2021</td>\n",
       "      <td>0.194311</td>\n",
       "      <td>0.194311</td>\n",
       "      <td>No Finding</td>\n",
       "    </tr>\n",
       "  </tbody>\n",
       "</table>\n",
       "<p>5606 rows × 12 columns</p>\n",
       "</div>"
      ],
      "text/plain": [
       "           image_index                                             labels  \\\n",
       "0     00000013_005.png  Emphysema|Infiltration|Pleural_Thickening|Pneu...   \n",
       "1     00000013_026.png                             Cardiomegaly|Emphysema   \n",
       "2     00000017_001.png                                         No Finding   \n",
       "3     00000030_001.png                                        Atelectasis   \n",
       "4     00000032_001.png                        Cardiomegaly|Edema|Effusion   \n",
       "...                ...                                                ...   \n",
       "5601  00030712_000.png                                         No Finding   \n",
       "5602  00030786_005.png                    Cardiomegaly|Effusion|Emphysema   \n",
       "5603  00030789_000.png                                       Infiltration   \n",
       "5604  00030792_000.png                                         No Finding   \n",
       "5605  00030797_000.png                                         No Finding   \n",
       "\n",
       "      Follow-up #  Patient ID Patient Age Patient Gender View Position  \\\n",
       "0               5          13        060Y              M            AP   \n",
       "1              26          13        057Y              M            AP   \n",
       "2               1          17        077Y              M            AP   \n",
       "3               1          30        079Y              M            PA   \n",
       "4               1          32        055Y              F            AP   \n",
       "...           ...         ...         ...            ...           ...   \n",
       "5601            0       30712        058Y              M            PA   \n",
       "5602            5       30786        061Y              F            AP   \n",
       "5603            0       30789        052Y              F            PA   \n",
       "5604            0       30792        010Y              F            PA   \n",
       "5605            0       30797        024Y              M            PA   \n",
       "\n",
       "      OriginalImageWidth  OriginalImageHeight  OriginalImagePixelSpacing_x  \\\n",
       "0                   3056                 2544                     0.139000   \n",
       "1                   2500                 2048                     0.168000   \n",
       "2                   2500                 2048                     0.168000   \n",
       "3                   2992                 2991                     0.143000   \n",
       "4                   2500                 2048                     0.168000   \n",
       "...                  ...                  ...                          ...   \n",
       "5601                2021                 2021                     0.194311   \n",
       "5602                3056                 2544                     0.139000   \n",
       "5603                2021                 2021                     0.194311   \n",
       "5604                1775                 1712                     0.194311   \n",
       "5605                2021                 2021                     0.194311   \n",
       "\n",
       "      OriginalImagePixelSpacing_y labels_binary  \n",
       "0                        0.139000       Disease  \n",
       "1                        0.168000       Disease  \n",
       "2                        0.168000    No Finding  \n",
       "3                        0.143000       Disease  \n",
       "4                        0.168000       Disease  \n",
       "...                           ...           ...  \n",
       "5601                     0.194311    No Finding  \n",
       "5602                     0.139000       Disease  \n",
       "5603                     0.194311       Disease  \n",
       "5604                     0.194311    No Finding  \n",
       "5605                     0.194311    No Finding  \n",
       "\n",
       "[5606 rows x 12 columns]"
      ]
     },
     "execution_count": 58,
     "metadata": {},
     "output_type": "execute_result"
    }
   ],
   "source": [
    "y"
   ]
  },
  {
   "cell_type": "code",
   "execution_count": 27,
   "id": "a224e891-9738-4177-b3f4-f1fcd731062f",
   "metadata": {},
   "outputs": [
    {
     "data": {
      "text/plain": [
       "No Finding                                                3044\n",
       "Infiltration                                               503\n",
       "Effusion                                                   203\n",
       "Atelectasis                                                192\n",
       "Nodule                                                     144\n",
       "                                                          ... \n",
       "Atelectasis|Edema|Effusion|Infiltration|Pneumonia            1\n",
       "Atelectasis|Consolidation|Edema|Infiltration|Pneumonia       1\n",
       "Atelectasis|Effusion|Hernia                                  1\n",
       "Atelectasis|Hernia|Pneumothorax                              1\n",
       "Cardiomegaly|Effusion|Emphysema                              1\n",
       "Name: labels, Length: 244, dtype: int64"
      ]
     },
     "execution_count": 27,
     "metadata": {},
     "output_type": "execute_result"
    }
   ],
   "source": [
    "y.labels.value_counts()"
   ]
  },
  {
   "cell_type": "code",
   "execution_count": 44,
   "id": "86372251-4fbc-4119-9a2b-eb04ccc3572d",
   "metadata": {},
   "outputs": [],
   "source": [
    "from itertools import chain"
   ]
  },
  {
   "cell_type": "code",
   "execution_count": 46,
   "id": "07ae6e87-fa55-4e49-bb86-7a67b5678f63",
   "metadata": {},
   "outputs": [
    {
     "data": {
      "text/plain": [
       "{'Atelectasis': 1,\n",
       " 'Cardiomegaly': 2,\n",
       " 'Consolidation': 3,\n",
       " 'Edema': 4,\n",
       " 'Effusion': 5,\n",
       " 'Emphysema': 6,\n",
       " 'Fibrosis': 7,\n",
       " 'Hernia': 8,\n",
       " 'Infiltration': 9,\n",
       " 'Mass': 10,\n",
       " 'No Finding': 11,\n",
       " 'Nodule': 12,\n",
       " 'Pleural_Thickening': 13,\n",
       " 'Pneumonia': 14,\n",
       " 'No Findings': 0}"
      ]
     },
     "execution_count": 46,
     "metadata": {},
     "output_type": "execute_result"
    }
   ],
   "source": [
    "all_labels = np.unique(list(chain(*y[\"labels\"].map(lambda x: x.split(\"|\")).tolist())))\n",
    "all_labels_dict = {\n",
    "    x[1]: x[0]\n",
    "    for x in zip(range(1, len(all_labels)), all_labels)\n",
    "    if len(x) > 0 and x != \"No Finding\"\n",
    "}\n",
    "all_labels_dict[\"No Findings\"] = 0\n",
    "all_labels_dict"
   ]
  },
  {
   "cell_type": "markdown",
   "id": "429e6c58-adc4-444e-836e-3ee81164e1ff",
   "metadata": {},
   "source": [
    "Load using `image_dataset_from_directory`"
   ]
  },
  {
   "cell_type": "code",
   "execution_count": 1,
   "id": "4cba0c92-c37b-4047-84a3-bc2cf2a607ea",
   "metadata": {
    "tags": []
   },
   "outputs": [
    {
     "ename": "NameError",
     "evalue": "name 'os' is not defined",
     "output_type": "error",
     "traceback": [
      "\u001b[0;31m---------------------------------------------------------------------------\u001b[0m",
      "\u001b[0;31mNameError\u001b[0m                                 Traceback (most recent call last)",
      "\u001b[0;32m/tmp/ipykernel_7710/1552715597.py\u001b[0m in \u001b[0;36m<module>\u001b[0;34m\u001b[0m\n\u001b[1;32m      1\u001b[0m \u001b[0;31m#  order for data loading. Order for loading labels\u001b[0m\u001b[0;34m\u001b[0m\u001b[0;34m\u001b[0m\u001b[0;34m\u001b[0m\u001b[0m\n\u001b[0;32m----> 2\u001b[0;31m \u001b[0;32mfor\u001b[0m \u001b[0mel\u001b[0m \u001b[0;32min\u001b[0m \u001b[0mos\u001b[0m\u001b[0;34m.\u001b[0m\u001b[0mwalk\u001b[0m\u001b[0;34m(\u001b[0m\u001b[0mimg_path\u001b[0m\u001b[0;34m)\u001b[0m\u001b[0;34m:\u001b[0m\u001b[0;34m\u001b[0m\u001b[0;34m\u001b[0m\u001b[0m\n\u001b[0m\u001b[1;32m      3\u001b[0m     \u001b[0mprint\u001b[0m\u001b[0;34m(\u001b[0m\u001b[0mel\u001b[0m\u001b[0;34m)\u001b[0m\u001b[0;34m\u001b[0m\u001b[0;34m\u001b[0m\u001b[0m\n",
      "\u001b[0;31mNameError\u001b[0m: name 'os' is not defined"
     ]
    }
   ],
   "source": [
    "#  order for data loading. Order for loading labels\n",
    "for el in os.walk(img_path):\n",
    "    print(el)"
   ]
  },
  {
   "attachments": {
    "d96192c9-bcc2-47ba-88f9-121e12645a23.png": {
     "image/png": "[encoded data removed]"
    }
   },
   "cell_type": "markdown",
   "id": "c80ced96-28dc-4c52-8e7d-eb151daa6f00",
   "metadata": {},
   "source": [
    "#### Load with `image_data_generator`\n",
    "![image.png](attachment:d96192c9-bcc2-47ba-88f9-121e12645a23.png)!\n",
    "\n",
    "Less optimized than from_directory, but easy access to labels-in-df"
   ]
  },
  {
   "cell_type": "code",
   "execution_count": 12,
   "id": "862b5321-131f-4203-9caf-d637a56776f3",
   "metadata": {},
   "outputs": [],
   "source": [
    "from tensorflow.keras.preprocessing.image import ImageDataGenerator"
   ]
  },
  {
   "cell_type": "code",
   "execution_count": 13,
   "id": "b21d49cc-2f24-42ab-9309-08787d169a36",
   "metadata": {},
   "outputs": [
    {
     "ename": "KeyError",
     "evalue": "\"None of [Index(['image_index', 'labels'], dtype='object')] are in the [columns]\"",
     "output_type": "error",
     "traceback": [
      "\u001b[0;31m---------------------------------------------------------------------------\u001b[0m",
      "\u001b[0;31mKeyError\u001b[0m                                  Traceback (most recent call last)",
      "\u001b[0;32m/tmp/ipykernel_34803/3124138839.py\u001b[0m in \u001b[0;36m<module>\u001b[0;34m\u001b[0m\n\u001b[0;32m----> 1\u001b[0;31m y_flow_from_df = y[\n\u001b[0m\u001b[1;32m      2\u001b[0m     \u001b[0;34m[\u001b[0m\u001b[0;34m\"image_index\"\u001b[0m\u001b[0;34m,\u001b[0m \u001b[0;34m\"labels\"\u001b[0m\u001b[0;34m]\u001b[0m\u001b[0;34m\u001b[0m\u001b[0;34m\u001b[0m\u001b[0m\n\u001b[1;32m      3\u001b[0m ]  # Create y to use in \"flow from dataset\" to alaign images with their labels.\n\u001b[1;32m      4\u001b[0m \u001b[0my_flow_from_df\u001b[0m\u001b[0;34m.\u001b[0m\u001b[0mhead\u001b[0m\u001b[0;34m(\u001b[0m\u001b[0;36m3\u001b[0m\u001b[0;34m)\u001b[0m\u001b[0;34m\u001b[0m\u001b[0;34m\u001b[0m\u001b[0m\n",
      "\u001b[0;32m~/.pyenv/versions/3.8.6/envs/lewagon/lib/python3.8/site-packages/pandas/core/frame.py\u001b[0m in \u001b[0;36m__getitem__\u001b[0;34m(self, key)\u001b[0m\n\u001b[1;32m   3459\u001b[0m             \u001b[0;32mif\u001b[0m \u001b[0mis_iterator\u001b[0m\u001b[0;34m(\u001b[0m\u001b[0mkey\u001b[0m\u001b[0;34m)\u001b[0m\u001b[0;34m:\u001b[0m\u001b[0;34m\u001b[0m\u001b[0;34m\u001b[0m\u001b[0m\n\u001b[1;32m   3460\u001b[0m                 \u001b[0mkey\u001b[0m \u001b[0;34m=\u001b[0m \u001b[0mlist\u001b[0m\u001b[0;34m(\u001b[0m\u001b[0mkey\u001b[0m\u001b[0;34m)\u001b[0m\u001b[0;34m\u001b[0m\u001b[0;34m\u001b[0m\u001b[0m\n\u001b[0;32m-> 3461\u001b[0;31m             \u001b[0mindexer\u001b[0m \u001b[0;34m=\u001b[0m \u001b[0mself\u001b[0m\u001b[0;34m.\u001b[0m\u001b[0mloc\u001b[0m\u001b[0;34m.\u001b[0m\u001b[0m_get_listlike_indexer\u001b[0m\u001b[0;34m(\u001b[0m\u001b[0mkey\u001b[0m\u001b[0;34m,\u001b[0m \u001b[0maxis\u001b[0m\u001b[0;34m=\u001b[0m\u001b[0;36m1\u001b[0m\u001b[0;34m)\u001b[0m\u001b[0;34m[\u001b[0m\u001b[0;36m1\u001b[0m\u001b[0;34m]\u001b[0m\u001b[0;34m\u001b[0m\u001b[0;34m\u001b[0m\u001b[0m\n\u001b[0m\u001b[1;32m   3462\u001b[0m \u001b[0;34m\u001b[0m\u001b[0m\n\u001b[1;32m   3463\u001b[0m         \u001b[0;31m# take() does not accept boolean indexers\u001b[0m\u001b[0;34m\u001b[0m\u001b[0;34m\u001b[0m\u001b[0;34m\u001b[0m\u001b[0m\n",
      "\u001b[0;32m~/.pyenv/versions/3.8.6/envs/lewagon/lib/python3.8/site-packages/pandas/core/indexing.py\u001b[0m in \u001b[0;36m_get_listlike_indexer\u001b[0;34m(self, key, axis)\u001b[0m\n\u001b[1;32m   1312\u001b[0m             \u001b[0mkeyarr\u001b[0m\u001b[0;34m,\u001b[0m \u001b[0mindexer\u001b[0m\u001b[0;34m,\u001b[0m \u001b[0mnew_indexer\u001b[0m \u001b[0;34m=\u001b[0m \u001b[0max\u001b[0m\u001b[0;34m.\u001b[0m\u001b[0m_reindex_non_unique\u001b[0m\u001b[0;34m(\u001b[0m\u001b[0mkeyarr\u001b[0m\u001b[0;34m)\u001b[0m\u001b[0;34m\u001b[0m\u001b[0;34m\u001b[0m\u001b[0m\n\u001b[1;32m   1313\u001b[0m \u001b[0;34m\u001b[0m\u001b[0m\n\u001b[0;32m-> 1314\u001b[0;31m         \u001b[0mself\u001b[0m\u001b[0;34m.\u001b[0m\u001b[0m_validate_read_indexer\u001b[0m\u001b[0;34m(\u001b[0m\u001b[0mkeyarr\u001b[0m\u001b[0;34m,\u001b[0m \u001b[0mindexer\u001b[0m\u001b[0;34m,\u001b[0m \u001b[0maxis\u001b[0m\u001b[0;34m)\u001b[0m\u001b[0;34m\u001b[0m\u001b[0;34m\u001b[0m\u001b[0m\n\u001b[0m\u001b[1;32m   1315\u001b[0m \u001b[0;34m\u001b[0m\u001b[0m\n\u001b[1;32m   1316\u001b[0m         if needs_i8_conversion(ax.dtype) or isinstance(\n",
      "\u001b[0;32m~/.pyenv/versions/3.8.6/envs/lewagon/lib/python3.8/site-packages/pandas/core/indexing.py\u001b[0m in \u001b[0;36m_validate_read_indexer\u001b[0;34m(self, key, indexer, axis)\u001b[0m\n\u001b[1;32m   1372\u001b[0m                 \u001b[0;32mif\u001b[0m \u001b[0muse_interval_msg\u001b[0m\u001b[0;34m:\u001b[0m\u001b[0;34m\u001b[0m\u001b[0;34m\u001b[0m\u001b[0m\n\u001b[1;32m   1373\u001b[0m                     \u001b[0mkey\u001b[0m \u001b[0;34m=\u001b[0m \u001b[0mlist\u001b[0m\u001b[0;34m(\u001b[0m\u001b[0mkey\u001b[0m\u001b[0;34m)\u001b[0m\u001b[0;34m\u001b[0m\u001b[0;34m\u001b[0m\u001b[0m\n\u001b[0;32m-> 1374\u001b[0;31m                 \u001b[0;32mraise\u001b[0m \u001b[0mKeyError\u001b[0m\u001b[0;34m(\u001b[0m\u001b[0;34mf\"None of [{key}] are in the [{axis_name}]\"\u001b[0m\u001b[0;34m)\u001b[0m\u001b[0;34m\u001b[0m\u001b[0;34m\u001b[0m\u001b[0m\n\u001b[0m\u001b[1;32m   1375\u001b[0m \u001b[0;34m\u001b[0m\u001b[0m\n\u001b[1;32m   1376\u001b[0m             \u001b[0mnot_found\u001b[0m \u001b[0;34m=\u001b[0m \u001b[0mlist\u001b[0m\u001b[0;34m(\u001b[0m\u001b[0mensure_index\u001b[0m\u001b[0;34m(\u001b[0m\u001b[0mkey\u001b[0m\u001b[0;34m)\u001b[0m\u001b[0;34m[\u001b[0m\u001b[0mmissing_mask\u001b[0m\u001b[0;34m.\u001b[0m\u001b[0mnonzero\u001b[0m\u001b[0;34m(\u001b[0m\u001b[0;34m)\u001b[0m\u001b[0;34m[\u001b[0m\u001b[0;36m0\u001b[0m\u001b[0;34m]\u001b[0m\u001b[0;34m]\u001b[0m\u001b[0;34m.\u001b[0m\u001b[0munique\u001b[0m\u001b[0;34m(\u001b[0m\u001b[0;34m)\u001b[0m\u001b[0;34m)\u001b[0m\u001b[0;34m\u001b[0m\u001b[0;34m\u001b[0m\u001b[0m\n",
      "\u001b[0;31mKeyError\u001b[0m: \"None of [Index(['image_index', 'labels'], dtype='object')] are in the [columns]\""
     ]
    }
   ],
   "source": [
    "y_flow_from_df = y[\n",
    "    [\"image_index\", \"labels\"]\n",
    "]  # Create y to use in \"flow from dataset\" to alaign images with their labels.\n",
    "y_flow_from_df.head(3)"
   ]
  },
  {
   "cell_type": "code",
   "execution_count": 50,
   "id": "ce9fb906-f682-4d69-bff6-3b8aa50af2be",
   "metadata": {},
   "outputs": [
    {
     "data": {
      "text/plain": [
       "Index(['image_index', 'labels', 'Follow-up #', 'Patient ID', 'Patient Age',\n",
       "       'Patient Gender', 'View Position', 'OriginalImageWidth',\n",
       "       'OriginalImageHeight', 'OriginalImagePixelSpacing_x',\n",
       "       'OriginalImagePixelSpacing_y'],\n",
       "      dtype='object')"
      ]
     },
     "execution_count": 50,
     "metadata": {},
     "output_type": "execute_result"
    }
   ],
   "source": [
    "y.columns"
   ]
  },
  {
   "cell_type": "code",
   "execution_count": 47,
   "id": "650c5a59-3dfe-40a2-93aa-c34f8ad5f4d6",
   "metadata": {},
   "outputs": [
    {
     "name": "stdout",
     "output_type": "stream",
     "text": [
      "Variable                       Type                  Data/Info\n",
      "--------------------------------------------------------------\n",
      "Image                          module                <module 'PIL.Image' from <...>e-packages/PIL/Image.py'>\n",
      "ImageDataGenerator             type                  <class 'keras.preprocessi<...>mage.ImageDataGenerator'>\n",
      "all_labels                     ndarray               15: 15 elems, type `<U18`, 1080 bytes\n",
      "all_labels_dict                dict                  n=15\n",
      "chain                          type                  <class 'itertools.chain'>\n",
      "datagen                        ImageDataGenerator    <keras.preprocessing.imag<...>object at 0x7f766a97efd0>\n",
      "image_dataset_from_directory   function              <function image_dataset_f<...>ectory at 0x7f7612993040>\n",
      "img_array                      ndarray               1024x1024: 1048576 elems, type `uint8`, 1048576 bytes (1.0 Mb)\n",
      "img_path                       str                   ../../raw_data/sample-data/images\n",
      "labels                         str                   sample_labels.csv\n",
      "labels_path                    str                   ../../raw_data/sample-data/\n",
      "load_xray_data                 function              <function load_xray_data at 0x7f76a8dd8040>\n",
      "np                             module                <module 'numpy' from '/ho<...>kages/numpy/__init__.py'>\n",
      "os                             module                <module 'os' from '/home/<...>8.6/lib/python3.8/os.py'>\n",
      "path_from_root                 str                   raw_data/sample-data/\n",
      "path_to_root                   str                   ../..\n",
      "path_to_sample_img             str                   ../../raw_data/sample-data/\n",
      "pd                             module                <module 'pandas' from '/h<...>ages/pandas/__init__.py'>\n",
      "plt                            module                <module 'matplotlib.pyplo<...>es/matplotlib/pyplot.py'>\n",
      "pprint                         function              <function pprint at 0x7f76bc864040>\n",
      "sample_img                     PngImageFile          <PIL.PngImagePlugin.PngIm<...>4x1024 at 0x7F76A8EBEBB0>\n",
      "sns                            module                <module 'seaborn' from '/<...>ges/seaborn/__init__.py'>\n",
      "tf                             module                <module 'tensorflow' from<...>/tensorflow/__init__.py'>\n",
      "to_categorical                 function              <function to_categorical at 0x7f761291a280>\n",
      "tqdm                           type                  <class 'tqdm.std.tqdm'>\n",
      "train_generator                DataFrameIterator     <keras.preprocessing.imag<...>object at 0x7f766a97e940>\n",
      "y                              DataFrame                        image_index   <...>n[5606 rows x 11 columns]\n",
      "y_flow_from_df                 DataFrame                        image_index   <...>\\n[5606 rows x 2 columns]\n"
     ]
    }
   ],
   "source": [
    "whos"
   ]
  },
  {
   "cell_type": "code",
   "execution_count": 11,
   "id": "519e3ba8-8c2f-4268-bd2e-7b53cf33042d",
   "metadata": {},
   "outputs": [
    {
     "ename": "NameError",
     "evalue": "name 'ImageDataGenerator' is not defined",
     "output_type": "error",
     "traceback": [
      "\u001b[0;31m---------------------------------------------------------------------------\u001b[0m",
      "\u001b[0;31mNameError\u001b[0m                                 Traceback (most recent call last)",
      "\u001b[0;32m/tmp/ipykernel_34803/3931478638.py\u001b[0m in \u001b[0;36m<module>\u001b[0;34m\u001b[0m\n\u001b[1;32m      4\u001b[0m \u001b[0;31m# Should provide numerical classes to dictate what each class is called\u001b[0m\u001b[0;34m\u001b[0m\u001b[0;34m\u001b[0m\u001b[0;34m\u001b[0m\u001b[0m\n\u001b[1;32m      5\u001b[0m \u001b[0;34m\u001b[0m\u001b[0m\n\u001b[0;32m----> 6\u001b[0;31m datagen = ImageDataGenerator(\n\u001b[0m\u001b[1;32m      7\u001b[0m     \u001b[0mrescale\u001b[0m\u001b[0;34m=\u001b[0m\u001b[0;36m1\u001b[0m \u001b[0;34m/\u001b[0m \u001b[0;36m255\u001b[0m\u001b[0;34m,\u001b[0m\u001b[0;34m\u001b[0m\u001b[0;34m\u001b[0m\u001b[0m\n\u001b[1;32m      8\u001b[0m )\n",
      "\u001b[0;31mNameError\u001b[0m: name 'ImageDataGenerator' is not defined"
     ]
    }
   ],
   "source": [
    "# Instantiate generator to load a dataset from directory, keeping an order given in a DataFrame.\n",
    "# Will not use (for now) img augmentation techinques\n",
    "\n",
    "# Should provide numerical classes to dictate what each class is called\n",
    "\n",
    "datagen = ImageDataGenerator(\n",
    "    rescale=1 / 255,\n",
    ")\n",
    "\n",
    "train_generator = datagen.flow_from_dataframe(\n",
    "    dataframe=y_flow_from_df,\n",
    "    directory=img_path,\n",
    "    x_col=\"image_index\",\n",
    "    y_col=\"labels\",\n",
    "    batch_size=32,\n",
    "    shuffle=True,\n",
    "    class_mode=\"categorical\",\n",
    "    target_size=(228, 228),  # according to multiclass classification algorithm\n",
    "    classes= list(all_labels)  # Filters files that don't belong to these classes \n",
    ")"
   ]
  },
  {
   "cell_type": "code",
   "execution_count": 65,
   "id": "f3b92452-9cf8-4861-b557-9691a34aab3d",
   "metadata": {},
   "outputs": [
    {
     "data": {
      "text/plain": [
       "{'Atelectasis': 0,\n",
       " 'Cardiomegaly': 1,\n",
       " 'Consolidation': 2,\n",
       " 'Edema': 3,\n",
       " 'Effusion': 4,\n",
       " 'Emphysema': 5,\n",
       " 'Fibrosis': 6,\n",
       " 'Hernia': 7,\n",
       " 'Infiltration': 8,\n",
       " 'Mass': 9,\n",
       " 'No Finding': 10,\n",
       " 'Nodule': 11,\n",
       " 'Pleural_Thickening': 12,\n",
       " 'Pneumonia': 13,\n",
       " 'Pneumothorax': 14}"
      ]
     },
     "execution_count": 65,
     "metadata": {},
     "output_type": "execute_result"
    }
   ],
   "source": [
    "train_generator.class_indices"
   ]
  },
  {
   "cell_type": "code",
   "execution_count": 76,
   "id": "269f0f82-faf1-4f8f-8358-a86b0b56227f",
   "metadata": {},
   "outputs": [],
   "source": [
    "x, y = train_generator.next()"
   ]
  },
  {
   "cell_type": "code",
   "execution_count": 81,
   "id": "2e1f1d40-b91c-4c0d-9b69-778db4805537",
   "metadata": {},
   "outputs": [
    {
     "data": {
      "text/plain": [
       "4626"
      ]
     },
     "execution_count": 81,
     "metadata": {},
     "output_type": "execute_result"
    }
   ],
   "source": [
    "train_generator"
   ]
  },
  {
   "cell_type": "code",
   "execution_count": 80,
   "id": "055d7a3a-2b12-479c-a4d5-dad58b53a5ea",
   "metadata": {},
   "outputs": [
    {
     "data": {
      "text/plain": [
       "(32, 228, 228, 3)"
      ]
     },
     "execution_count": 80,
     "metadata": {},
     "output_type": "execute_result"
    }
   ],
   "source": [
    "x.shape"
   ]
  },
  {
   "cell_type": "code",
   "execution_count": 79,
   "id": "51edabee-4566-4550-be75-e006fba0edc4",
   "metadata": {},
   "outputs": [
    {
     "data": {
      "text/plain": [
       "(32, 15)"
      ]
     },
     "execution_count": 79,
     "metadata": {},
     "output_type": "execute_result"
    }
   ],
   "source": [
    "y.shape"
   ]
  },
  {
   "cell_type": "markdown",
   "id": "84f514bf-aefa-4897-b750-4d9447270a3f",
   "metadata": {
    "tags": []
   },
   "source": [
    "# To Do\n",
    "\n",
    "1. Load images into one dataset/Tensor\n",
    "2. tf.keras.datasets how do they work?\n",
    "3. Define multiclass detection.\n",
    "4. Define link between tables to join x and y ( make sure that every X has a y)\n",
    "5. Build X_test, X_train, X_val, y_train, y_test, y_val\n",
    "6. Image resizing? What size do they all have?"
   ]
  }
 ],
 "metadata": {
  "kernelspec": {
   "display_name": "Python 3 (ipykernel)",
   "language": "python",
   "name": "python3"
  },
  "language_info": {
   "codemirror_mode": {
    "name": "ipython",
    "version": 3
   },
   "file_extension": ".py",
   "mimetype": "text/x-python",
   "name": "python",
   "nbconvert_exporter": "python",
   "pygments_lexer": "ipython3",
   "version": "3.8.6"
  }
 },
 "nbformat": 4,
 "nbformat_minor": 5
}
