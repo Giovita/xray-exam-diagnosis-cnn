{
 "cells": [
  {
   "cell_type": "code",
   "execution_count": null,
   "id": "3fcd925b-a1f7-47f4-ab6b-491b9ec93443",
   "metadata": {},
   "outputs": [],
   "source": [
    "%load_ext autoreload\n",
    "%autoreload 2"
   ]
  },
  {
   "cell_type": "code",
   "execution_count": null,
   "id": "ae3eeba8-b4db-4c56-bf39-4d3f3978ccf5",
   "metadata": {},
   "outputs": [],
   "source": [
    "import os\n",
    "from glob import glob\n",
    "\n",
    "import numpy as np\n",
    "import pandas as pd"
   ]
  },
  {
   "cell_type": "code",
   "execution_count": null,
   "id": "f68767a1-8725-4bce-ab45-831914b2d342",
   "metadata": {},
   "outputs": [],
   "source": [
    "from xray import data, params, trainer, utils"
   ]
  },
  {
   "cell_type": "code",
   "execution_count": null,
   "id": "97b52502-070f-464e-8111-a872af69b4ad",
   "metadata": {},
   "outputs": [],
   "source": [
    "# source = gcp\n",
    "filename = \"xray_df.csv\""
   ]
  },
  {
   "cell_type": "code",
   "execution_count": null,
   "id": "213c4efe-0027-49c0-8fc2-4a7365b6c622",
   "metadata": {},
   "outputs": [],
   "source": [
    "df = data.get_data_from_gcp(filename)\n",
    "df.head(3)"
   ]
  },
  {
   "cell_type": "code",
   "execution_count": null,
   "id": "cdcb2a3a-8148-4cf9-bb7a-e07fdb311dff",
   "metadata": {},
   "outputs": [],
   "source": [
    "df.drop(\n",
    "    columns=[\n",
    "        \"Follow-up #\",\n",
    "        \"Patient Age\",\n",
    "        \"Patient Gender\",\n",
    "        \"View Position\",\n",
    "        \"OriginalImagePixelSpacing_x\",\n",
    "        \"OriginalImagePixelSpacing_y\",\n",
    "        \"OriginalImageWidth\",\n",
    "        \"OriginalImageHeight\",\n",
    "        \"OriginalImage[Width\",\n",
    "        \"Height]\",\n",
    "        \"OriginalImagePixelSpacing[x\",\n",
    "        \"y]\",\n",
    "        \"Count_diseases\",\n",
    "    ],\n",
    "    inplace=True,\n",
    "    errors=\"ignore\",\n",
    ")"
   ]
  },
  {
   "cell_type": "code",
   "execution_count": null,
   "id": "943c3efc-f9f1-4b74-8f5b-d7ac6125b024",
   "metadata": {},
   "outputs": [],
   "source": [
    "df['path'] = df.path.map(lambda x: \"/\".join(x.split(\"/\")[-3:]))"
   ]
  },
  {
   "cell_type": "code",
   "execution_count": null,
   "id": "0a3688f5-66a8-4a03-9ca7-a7bfb2b22325",
   "metadata": {},
   "outputs": [],
   "source": [
    "df.head(3)"
   ]
  },
  {
   "cell_type": "code",
   "execution_count": null,
   "id": "f51ed3b2-e60b-4232-a7d9-6765770490b9",
   "metadata": {},
   "outputs": [],
   "source": [
    "df_sick = df[df[\"Enfermo\"] != False]\n",
    "df_sick.shape"
   ]
  },
  {
   "cell_type": "code",
   "execution_count": null,
   "id": "dcc60fa5-1602-4523-93f4-2ecc8e135787",
   "metadata": {},
   "outputs": [],
   "source": [
    "ds_train, ds_val, ds_test = data.split_df(\n",
    "    dataset=df_sick,\n",
    "    column_to_filter_by=\"Patient ID\",\n",
    "    train_val_test=(0.65, 0.15, 0.15),\n",
    "    total_filter=1,\n",
    ")\n",
    "print(\"train :\", ds_train.shape)\n",
    "print(\"val :\", ds_val.shape)\n",
    "print(\"test :\", ds_test.shape)"
   ]
  },
  {
   "cell_type": "code",
   "execution_count": null,
   "id": "8576c98a-d2ba-46ae-8412-bc65ae3b74b3",
   "metadata": {},
   "outputs": [],
   "source": [
    "input_shape = (224, 224)"
   ]
  },
  {
   "cell_type": "code",
   "execution_count": null,
   "id": "f547fecb-fef1-48cc-b916-e47327181dfc",
   "metadata": {},
   "outputs": [],
   "source": [
    "filename"
   ]
  },
  {
   "cell_type": "code",
   "execution_count": null,
   "id": "27408ba6-a64d-41b8-8ab8-7e0d2f264e61",
   "metadata": {},
   "outputs": [],
   "source": [
    "path_to_csv = params.GCP_IMAGE_BUCKET\n",
    "path_to_csv"
   ]
  },
  {
   "cell_type": "code",
   "execution_count": null,
   "id": "f5325850-b43b-4883-931f-d131da79d4a4",
   "metadata": {},
   "outputs": [],
   "source": [
    "gen_train = data.build_generator(\n",
    "    img_path=path_to_csv,\n",
    "    labels_df=ds_train,\n",
    "    index_col=\"path\",\n",
    "    labels_col=\"Fixed_Labels\",\n",
    "    train_set_batch_size=32,\n",
    "    target_size=(input_shape[0], input_shape[1]),\n",
    "    binary_class=False,\n",
    "    test_set=False,\n",
    "    data_augment=False,\n",
    ")\n",
    "\n",
    "gen_val = data.build_generator(\n",
    "    img_path=path_to_csv,\n",
    "    labels_df=ds_val,\n",
    "    index_col=\"path\",\n",
    "    labels_col=\"Fixed_Labels\",\n",
    "    train_set_batch_size=32,\n",
    "    target_size=(input_shape[0], input_shape[1]),\n",
    "    binary_class=False,\n",
    "    test_set=False,\n",
    "    data_augment=False,\n",
    ")\n",
    "\n",
    "gen_test = data.build_generator(\n",
    "    img_path=path_to_csv,\n",
    "    labels_df=ds_test,\n",
    "    index_col=\"path\",\n",
    "    labels_col=\"Fixed_Labels\",\n",
    "    train_set_batch_size=1,\n",
    "    target_size=(input_shape[0], input_shape[1]),\n",
    "    binary_class=False,\n",
    "    test_set=True,\n",
    "    data_augment=False,\n",
    ")\n"
   ]
  },
  {
   "cell_type": "code",
   "execution_count": null,
   "id": "26479f77-6051-4eb1-8417-130c051360ec",
   "metadata": {},
   "outputs": [],
   "source": []
  }
 ],
 "metadata": {
  "kernelspec": {
   "display_name": "Python 3 (ipykernel)",
   "language": "python",
   "name": "python3"
  },
  "language_info": {
   "codemirror_mode": {
    "name": "ipython",
    "version": 3
   },
   "file_extension": ".py",
   "mimetype": "text/x-python",
   "name": "python",
   "nbconvert_exporter": "python",
   "pygments_lexer": "ipython3",
   "version": "3.8.6"
  }
 },
 "nbformat": 4,
 "nbformat_minor": 5
}
