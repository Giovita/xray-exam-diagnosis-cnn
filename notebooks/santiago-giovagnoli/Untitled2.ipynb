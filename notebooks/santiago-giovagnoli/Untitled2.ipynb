{
 "cells": [
  {
   "cell_type": "code",
   "execution_count": 1,
   "id": "bd1cb5ba-e11f-4547-bfc3-c43c8de6deff",
   "metadata": {},
   "outputs": [],
   "source": [
    "%load_ext autoreload\n",
    "%autoreload 2"
   ]
  },
  {
   "cell_type": "code",
   "execution_count": 2,
   "id": "11c883fd-15ee-40de-9099-686a74468495",
   "metadata": {},
   "outputs": [],
   "source": [
    "import os\n",
    "from glob import glob\n",
    "\n",
    "import numpy as np\n",
    "import pandas as pd"
   ]
  },
  {
   "cell_type": "code",
   "execution_count": 3,
   "id": "6a25fddf-487c-4fc1-86e8-1e0041e15968",
   "metadata": {},
   "outputs": [],
   "source": [
    "from xray import data, trainer, utils"
   ]
  },
  {
   "cell_type": "code",
   "execution_count": 5,
   "id": "df867397-34c4-4e16-b185-1855b30cea2c",
   "metadata": {},
   "outputs": [],
   "source": [
    "path_to_csv = \"../../raw_data/sample-data/\"\n",
    "csv_file = \"sample_labels.csv\""
   ]
  },
  {
   "cell_type": "code",
   "execution_count": 11,
   "id": "44263791-1a94-4a35-98ce-e52d870738a5",
   "metadata": {},
   "outputs": [],
   "source": [
    "df = data.get_data(os.path.join(path_to_csv, csv_file))"
   ]
  },
  {
   "cell_type": "code",
   "execution_count": 12,
   "id": "f67b4e08-0a4c-4d3e-a399-031d1eb5fe13",
   "metadata": {},
   "outputs": [],
   "source": [
    "df.drop(\n",
    "    columns=[\n",
    "        \"Follow-up #\",\n",
    "        \"Patient Age\",\n",
    "        \"Patient Gender\",\n",
    "        \"View Position\",\n",
    "        \"OriginalImagePixelSpacing_x\",\n",
    "        \"OriginalImagePixelSpacing_y\",\n",
    "        \"OriginalImageWidth\",\n",
    "        \"OriginalImageHeight\",\n",
    "    ],\n",
    "    inplace=True,\n",
    "    errors=\"ignore\",\n",
    ")"
   ]
  },
  {
   "cell_type": "code",
   "execution_count": 13,
   "id": "62b06a23-5ef9-4eef-bd09-f476371eaccd",
   "metadata": {},
   "outputs": [],
   "source": [
    "utils.get_paths(df, path_to_csv, verbose=0)"
   ]
  },
  {
   "cell_type": "code",
   "execution_count": 15,
   "id": "51ff7398-275f-41d9-8a18-a660ed97908f",
   "metadata": {},
   "outputs": [
    {
     "data": {
      "text/html": [
       "<div>\n",
       "<style scoped>\n",
       "    .dataframe tbody tr th:only-of-type {\n",
       "        vertical-align: middle;\n",
       "    }\n",
       "\n",
       "    .dataframe tbody tr th {\n",
       "        vertical-align: top;\n",
       "    }\n",
       "\n",
       "    .dataframe thead th {\n",
       "        text-align: right;\n",
       "    }\n",
       "</style>\n",
       "<table border=\"1\" class=\"dataframe\">\n",
       "  <thead>\n",
       "    <tr style=\"text-align: right;\">\n",
       "      <th></th>\n",
       "      <th>Image Index</th>\n",
       "      <th>Finding Labels</th>\n",
       "      <th>Patient ID</th>\n",
       "      <th>path</th>\n",
       "      <th>Fixed_Labels</th>\n",
       "    </tr>\n",
       "  </thead>\n",
       "  <tbody>\n",
       "    <tr>\n",
       "      <th>0</th>\n",
       "      <td>00000013_005.png</td>\n",
       "      <td>Emphysema|Infiltration|Pleural_Thickening|Pneu...</td>\n",
       "      <td>13</td>\n",
       "      <td>../../raw_data/sample-data/images/multilabel/0...</td>\n",
       "      <td>[Emphysema, Infiltration, Pleural_Thickening, ...</td>\n",
       "    </tr>\n",
       "    <tr>\n",
       "      <th>1</th>\n",
       "      <td>00000013_026.png</td>\n",
       "      <td>Cardiomegaly|Emphysema</td>\n",
       "      <td>13</td>\n",
       "      <td>../../raw_data/sample-data/images/multilabel/0...</td>\n",
       "      <td>[Cardiomegaly, Emphysema]</td>\n",
       "    </tr>\n",
       "    <tr>\n",
       "      <th>2</th>\n",
       "      <td>00000017_001.png</td>\n",
       "      <td>No Finding</td>\n",
       "      <td>17</td>\n",
       "      <td>../../raw_data/sample-data/images/No Finding/0...</td>\n",
       "      <td>[No Finding]</td>\n",
       "    </tr>\n",
       "  </tbody>\n",
       "</table>\n",
       "</div>"
      ],
      "text/plain": [
       "        Image Index                                     Finding Labels  \\\n",
       "0  00000013_005.png  Emphysema|Infiltration|Pleural_Thickening|Pneu...   \n",
       "1  00000013_026.png                             Cardiomegaly|Emphysema   \n",
       "2  00000017_001.png                                         No Finding   \n",
       "\n",
       "   Patient ID                                               path  \\\n",
       "0          13  ../../raw_data/sample-data/images/multilabel/0...   \n",
       "1          13  ../../raw_data/sample-data/images/multilabel/0...   \n",
       "2          17  ../../raw_data/sample-data/images/No Finding/0...   \n",
       "\n",
       "                                        Fixed_Labels  \n",
       "0  [Emphysema, Infiltration, Pleural_Thickening, ...  \n",
       "1                          [Cardiomegaly, Emphysema]  \n",
       "2                                       [No Finding]  "
      ]
     },
     "execution_count": 15,
     "metadata": {},
     "output_type": "execute_result"
    }
   ],
   "source": [
    "df[\"Fixed_Labels\"] = df[\"Finding Labels\"].map(lambda x: x.split(\"|\"))\n",
    "df.head(3)"
   ]
  },
  {
   "cell_type": "code",
   "execution_count": 18,
   "id": "eb8219d4-015c-493c-831f-6519c7a4b811",
   "metadata": {},
   "outputs": [],
   "source": [
    "# Keep relative paths\n",
    "df.path = df.path.map(lambda x: \"/\".join(x.split(\"/\")[-3:]))"
   ]
  },
  {
   "cell_type": "code",
   "execution_count": 19,
   "id": "f760db68-3828-48cb-aa60-29000caf3dc2",
   "metadata": {},
   "outputs": [],
   "source": [
    "df_sick = df[df[\"Finding Labels\"] != \"No Finding\"]"
   ]
  },
  {
   "cell_type": "code",
   "execution_count": 22,
   "id": "4cca79c7-c1a8-4453-a7e4-6e21f825b164",
   "metadata": {},
   "outputs": [
    {
     "name": "stdout",
     "output_type": "stream",
     "text": [
      "train : (1670, 5)\n",
      "val : (396, 5)\n",
      "test : (374, 5)\n"
     ]
    }
   ],
   "source": [
    "ds_train, ds_val, ds_test = data.split_df(\n",
    "    dataset=df_sick,\n",
    "    column_to_filter_by=\"Patient ID\",\n",
    "    train_val_test=(0.65, 0.15, 0.15),\n",
    "    total_filter=1,\n",
    ")\n",
    "print(\"train :\", ds_train.shape)\n",
    "print(\"val :\", ds_val.shape)\n",
    "print(\"test :\", ds_test.shape)"
   ]
  },
  {
   "cell_type": "code",
   "execution_count": 24,
   "id": "5c956fb5-f58c-454e-b0b1-efe1c3148cca",
   "metadata": {},
   "outputs": [],
   "source": [
    "input_shape = (224, 224)"
   ]
  },
  {
   "cell_type": "code",
   "execution_count": 25,
   "id": "587b0bd4-2e32-45e4-88e7-92d611d7fc84",
   "metadata": {},
   "outputs": [
    {
     "name": "stdout",
     "output_type": "stream",
     "text": [
      "Found 1670 validated image filenames belonging to 14 classes.\n",
      "Found 396 validated image filenames belonging to 14 classes.\n"
     ]
    }
   ],
   "source": [
    "gen_train = data.build_generator(\n",
    "    img_path=path_to_csv,\n",
    "    labels_df=ds_train,\n",
    "    index_col=\"path\",\n",
    "    labels_col=\"Fixed_Labels\",\n",
    "    train_set_batch_size=32,\n",
    "    target_size=(input_shape[0], input_shape[1]),\n",
    "    binary_class=False,\n",
    "    test_set=False,\n",
    "    data_augment=False,\n",
    ")\n",
    "\n",
    "gen_val = data.build_generator(\n",
    "    img_path=path_to_csv,\n",
    "    labels_df=ds_val,\n",
    "    index_col=\"path\",\n",
    "    labels_col=\"Fixed_Labels\",\n",
    "    train_set_batch_size=32,\n",
    "    target_size=(input_shape[0], input_shape[1]),\n",
    "    binary_class=False,\n",
    "    test_set=False,\n",
    "    data_augment=False,\n",
    ")"
   ]
  },
  {
   "cell_type": "code",
   "execution_count": 79,
   "id": "33de9777-70f0-406b-8617-f79800ebee7a",
   "metadata": {},
   "outputs": [
    {
     "name": "stdout",
     "output_type": "stream",
     "text": [
      "Found 374 validated image filenames belonging to 14 classes.\n"
     ]
    }
   ],
   "source": [
    "gen_test = data.build_generator(\n",
    "    img_path=path_to_csv,\n",
    "    labels_df=ds_test,\n",
    "    index_col=\"path\",\n",
    "    labels_col=\"Fixed_Labels\",\n",
    "    train_set_batch_size=32,\n",
    "    target_size=(input_shape[0], input_shape[1]),\n",
    "    binary_class=False,\n",
    "    test_set=True,\n",
    "    data_augment=False,\n",
    ")\n"
   ]
  },
  {
   "cell_type": "code",
   "execution_count": 28,
   "id": "f62a23e3-dce6-44f7-aa36-6e3449edf6e7",
   "metadata": {},
   "outputs": [
    {
     "data": {
      "text/plain": [
       "14"
      ]
     },
     "execution_count": 28,
     "metadata": {},
     "output_type": "execute_result"
    }
   ],
   "source": [
    "total_classes = len(model.gen_train.class_indices)\n",
    "total_classes"
   ]
  },
  {
   "cell_type": "code",
   "execution_count": 29,
   "id": "2d29661a-f52a-4e63-b902-922a20cc4dca",
   "metadata": {},
   "outputs": [],
   "source": [
    "model = trainer.Trainer(\n",
    "    gen_train=gen_train,\n",
    "    gen_val=gen_val,\n",
    "    category_type=\"multilabel\",\n",
    ")"
   ]
  },
  {
   "cell_type": "code",
   "execution_count": 35,
   "id": "9ef2a160-14f0-4381-bdac-3c5c1c838d78",
   "metadata": {},
   "outputs": [],
   "source": [
    "cnn_arch = {\n",
    "    \"input_shape\": input_shape,\n",
    "    \"output_shape\": total_classes,\n",
    "    \"output_activation\": \"sigmoid\",\n",
    "    \"dense_layer_geometry\": (1024, 512, 256),\n",
    "    'transfer_model': 'VGG16',\n",
    "    \"dense_layer_activation\": \"relu\",\n",
    "    \"dropout_layers\": False,\n",
    "}"
   ]
  },
  {
   "cell_type": "code",
   "execution_count": 55,
   "id": "6f0cb048-01eb-42a2-9a95-b8c00fb6c851",
   "metadata": {},
   "outputs": [],
   "source": [
    "model.build_cnn(**cnn_arch)"
   ]
  },
  {
   "cell_type": "code",
   "execution_count": 60,
   "id": "91574dd1-b528-49eb-8e95-e11cad4e040d",
   "metadata": {},
   "outputs": [],
   "source": [
    "model.compile_model()"
   ]
  },
  {
   "cell_type": "code",
   "execution_count": 61,
   "id": "3554a0fb-67ab-4688-a5f0-32cf520ab0f5",
   "metadata": {},
   "outputs": [
    {
     "data": {
      "text/plain": [
       "'[AR] [BS AS] [xray-diagnosis]_vgg16_                                        2021-10-17_11:36:13.248180'"
      ]
     },
     "execution_count": 61,
     "metadata": {},
     "output_type": "execute_result"
    }
   ],
   "source": [
    "model.experiment_name"
   ]
  },
  {
   "cell_type": "code",
   "execution_count": 85,
   "id": "a652ec0f-fa80-41f6-8b1f-b7373f04ddd1",
   "metadata": {},
   "outputs": [
    {
     "name": "stdout",
     "output_type": "stream",
     "text": [
      "53/53 [==============================] - 279s 5s/step - loss: 0.2879 - accuracy: 0.0000e+00 - precision: 0.5616 - recall: 0.0644 - categorical_accuracy: 0.2814 - val_loss: 0.3029 - val_accuracy: 0.0000e+00 - val_precision: 0.4632 - val_recall: 0.1386 - val_categorical_accuracy: 0.2778\n",
      "\n",
      "Epoch 00001: val_loss improved from inf to 0.30292, saving model to best_weights.hdf5\n"
     ]
    }
   ],
   "source": [
    "history = model.fit_model(epochs=1)"
   ]
  },
  {
   "cell_type": "code",
   "execution_count": 94,
   "id": "52942988-8872-4260-adeb-b981f7fa8716",
   "metadata": {},
   "outputs": [
    {
     "ename": "TypeError",
     "evalue": "count() takes exactly one argument (0 given)",
     "output_type": "error",
     "traceback": [
      "\u001b[0;31m---------------------------------------------------------------------------\u001b[0m",
      "\u001b[0;31mTypeError\u001b[0m                                 Traceback (most recent call last)",
      "\u001b[0;32m/tmp/ipykernel_14270/3681445292.py\u001b[0m in \u001b[0;36m<module>\u001b[0;34m\u001b[0m\n\u001b[0;32m----> 1\u001b[0;31m \u001b[0mmodel\u001b[0m\u001b[0;34m.\u001b[0m\u001b[0mpipeline\u001b[0m\u001b[0;34m.\u001b[0m\u001b[0mlayers\u001b[0m\u001b[0;34m.\u001b[0m\u001b[0mcount\u001b[0m\u001b[0;34m(\u001b[0m\u001b[0;34m)\u001b[0m\u001b[0;34m\u001b[0m\u001b[0;34m\u001b[0m\u001b[0m\n\u001b[0m",
      "\u001b[0;31mTypeError\u001b[0m: count() takes exactly one argument (0 given)"
     ]
    }
   ],
   "source": []
  },
  {
   "cell_type": "code",
   "execution_count": 86,
   "id": "793559d2-442d-438c-bbc8-d954b96a7e51",
   "metadata": {},
   "outputs": [
    {
     "data": {
      "text/plain": [
       "{'loss': [0.28793010115623474],\n",
       " 'accuracy': [0.0],\n",
       " 'precision': [0.5616438388824463],\n",
       " 'recall': [0.06441476941108704],\n",
       " 'categorical_accuracy': [0.28143712878227234],\n",
       " 'val_loss': [0.3029172718524933],\n",
       " 'val_accuracy': [0.0],\n",
       " 'val_precision': [0.46315789222717285],\n",
       " 'val_recall': [0.13858267664909363],\n",
       " 'val_categorical_accuracy': [0.2777777910232544],\n",
       " 'lr': [1e-04]}"
      ]
     },
     "execution_count": 86,
     "metadata": {},
     "output_type": "execute_result"
    }
   ],
   "source": [
    "history.history"
   ]
  },
  {
   "cell_type": "code",
   "execution_count": 101,
   "id": "769d270b-493c-4438-826a-d485f696c840",
   "metadata": {},
   "outputs": [
    {
     "name": "stdout",
     "output_type": "stream",
     "text": [
      "374/374 [==============================] - 59s 157ms/step - loss: 0.3011 - accuracy: 0.0000e+00 - precision: 0.4205 - recall: 0.1276 - categorical_accuracy: 0.2513\n"
     ]
    }
   ],
   "source": [
    "evalu = model.pipeline.evaluate(gen_test, workers=4, use_multiprocessing=True)"
   ]
  },
  {
   "cell_type": "code",
   "execution_count": 102,
   "id": "598f664a-6c73-4c6c-843d-93b22b74bace",
   "metadata": {},
   "outputs": [
    {
     "data": {
      "text/plain": [
       "[0.3011270761489868,\n",
       " 0.0,\n",
       " 0.4204545319080353,\n",
       " 0.12758620083332062,\n",
       " 0.2513369023799896]"
      ]
     },
     "execution_count": 102,
     "metadata": {},
     "output_type": "execute_result"
    }
   ],
   "source": [
    "evalu"
   ]
  },
  {
   "cell_type": "code",
   "execution_count": 100,
   "id": "e50311de-548d-473b-a513-fa6379c9810c",
   "metadata": {},
   "outputs": [
    {
     "data": {
      "text/plain": [
       "[<keras.metrics.Mean at 0x7f5977ca2700>,\n",
       " <keras.metrics.Accuracy at 0x7f5977d62040>,\n",
       " <keras.metrics.Precision at 0x7f5977c92f70>,\n",
       " <keras.metrics.Recall at 0x7f5901d0cca0>,\n",
       " <keras.metrics.CategoricalAccuracy at 0x7f5977c92f10>]"
      ]
     },
     "execution_count": 100,
     "metadata": {},
     "output_type": "execute_result"
    }
   ],
   "source": [
    "model.pipeline."
   ]
  },
  {
   "cell_type": "code",
   "execution_count": 75,
   "id": "8cb64f5b-efd2-4349-9230-66d70d5ca855",
   "metadata": {},
   "outputs": [
    {
     "data": {
      "text/plain": [
       "[<keras.metrics.Accuracy at 0x7f5977d62040>,\n",
       " <keras.metrics.Precision at 0x7f5977c92f70>,\n",
       " <keras.metrics.Recall at 0x7f5901d0cca0>,\n",
       " <keras.metrics.CategoricalAccuracy at 0x7f5977c92f10>]"
      ]
     },
     "execution_count": 75,
     "metadata": {},
     "output_type": "execute_result"
    }
   ],
   "source": [
    "model.pipeline.compiled_metrics.metrics"
   ]
  },
  {
   "cell_type": "code",
   "execution_count": 77,
   "id": "2175907e-8428-45f3-8f19-6c8c149f3292",
   "metadata": {},
   "outputs": [
    {
     "data": {
      "text/plain": [
       "[<keras.metrics.Mean at 0x7f5977ca2700>]"
      ]
     },
     "execution_count": 77,
     "metadata": {},
     "output_type": "execute_result"
    }
   ],
   "source": [
    "model.pipeline.compiled_loss.metrics."
   ]
  },
  {
   "cell_type": "code",
   "execution_count": null,
   "id": "1ed57536-3f86-4c49-a78e-eb5c1806797e",
   "metadata": {},
   "outputs": [],
   "source": [
    "from tensorflow import image"
   ]
  }
 ],
 "metadata": {
  "kernelspec": {
   "display_name": "Python 3 (ipykernel)",
   "language": "python",
   "name": "python3"
  },
  "language_info": {
   "codemirror_mode": {
    "name": "ipython",
    "version": 3
   },
   "file_extension": ".py",
   "mimetype": "text/x-python",
   "name": "python",
   "nbconvert_exporter": "python",
   "pygments_lexer": "ipython3",
   "version": "3.8.6"
  }
 },
 "nbformat": 4,
 "nbformat_minor": 5
}
