{
 "cells": [
  {
   "cell_type": "code",
   "execution_count": null,
   "id": "bd1cb5ba-e11f-4547-bfc3-c43c8de6deff",
   "metadata": {},
   "outputs": [],
   "source": [
    "%load_ext autoreload\n",
    "%autoreload 2"
   ]
  },
  {
   "cell_type": "code",
   "execution_count": null,
   "id": "11c883fd-15ee-40de-9099-686a74468495",
   "metadata": {},
   "outputs": [],
   "source": [
    "import os\n",
    "from glob import glob\n",
    "\n",
    "import numpy as np\n",
    "import pandas as pd"
   ]
  },
  {
   "cell_type": "code",
   "execution_count": null,
   "id": "6a25fddf-487c-4fc1-86e8-1e0041e15968",
   "metadata": {},
   "outputs": [],
   "source": [
    "from xray import data, trainer, utils"
   ]
  },
  {
   "cell_type": "code",
   "execution_count": null,
   "id": "df867397-34c4-4e16-b185-1855b30cea2c",
   "metadata": {},
   "outputs": [],
   "source": [
    "path_to_csv = \"../../raw_data/sample-data/\"\n",
    "csv_file = \"sample_labels.csv\""
   ]
  },
  {
   "cell_type": "code",
   "execution_count": null,
   "id": "44263791-1a94-4a35-98ce-e52d870738a5",
   "metadata": {},
   "outputs": [],
   "source": [
    "df = data.get_data(os.path.join(path_to_csv, csv_file))"
   ]
  },
  {
   "cell_type": "code",
   "execution_count": null,
   "id": "f67b4e08-0a4c-4d3e-a399-031d1eb5fe13",
   "metadata": {},
   "outputs": [],
   "source": [
    "df.drop(\n",
    "    columns=[\n",
    "        \"Follow-up #\",\n",
    "        \"Patient Age\",\n",
    "        \"Patient Gender\",\n",
    "        \"View Position\",\n",
    "        \"OriginalImagePixelSpacing_x\",\n",
    "        \"OriginalImagePixelSpacing_y\",\n",
    "        \"OriginalImageWidth\",\n",
    "        \"OriginalImageHeight\",\n",
    "    ],\n",
    "    inplace=True,\n",
    "    errors=\"ignore\",\n",
    ")"
   ]
  },
  {
   "cell_type": "code",
   "execution_count": null,
   "id": "62b06a23-5ef9-4eef-bd09-f476371eaccd",
   "metadata": {},
   "outputs": [],
   "source": [
    "utils.get_paths(df, path_to_csv, verbose=0)"
   ]
  },
  {
   "cell_type": "code",
   "execution_count": null,
   "id": "51ff7398-275f-41d9-8a18-a660ed97908f",
   "metadata": {},
   "outputs": [],
   "source": [
    "df[\"Fixed_Labels\"] = df[\"Finding Labels\"].map(lambda x: x.split(\"|\"))\n",
    "df.head(3)"
   ]
  },
  {
   "cell_type": "code",
   "execution_count": null,
   "id": "eb8219d4-015c-493c-831f-6519c7a4b811",
   "metadata": {},
   "outputs": [],
   "source": [
    "# Keep relative paths\n",
    "df.path = df.path.map(lambda x: \"/\".join(x.split(\"/\")[-3:]))"
   ]
  },
  {
   "cell_type": "code",
   "execution_count": null,
   "id": "f760db68-3828-48cb-aa60-29000caf3dc2",
   "metadata": {},
   "outputs": [],
   "source": [
    "df_sick = df[df[\"Finding Labels\"] != \"No Finding\"]"
   ]
  },
  {
   "cell_type": "code",
   "execution_count": null,
   "id": "4cca79c7-c1a8-4453-a7e4-6e21f825b164",
   "metadata": {},
   "outputs": [],
   "source": [
    "ds_train, ds_val, ds_test = data.split_df(\n",
    "    dataset=df_sick,\n",
    "    column_to_filter_by=\"Patient ID\",\n",
    "    train_val_test=(0.65, 0.15, 0.15),\n",
    "    total_filter=1,\n",
    ")\n",
    "print(\"train :\", ds_train.shape)\n",
    "print(\"val :\", ds_val.shape)\n",
    "print(\"test :\", ds_test.shape)"
   ]
  },
  {
   "cell_type": "code",
   "execution_count": null,
   "id": "5c956fb5-f58c-454e-b0b1-efe1c3148cca",
   "metadata": {},
   "outputs": [],
   "source": [
    "input_shape = (224, 224)"
   ]
  },
  {
   "cell_type": "code",
   "execution_count": null,
   "id": "587b0bd4-2e32-45e4-88e7-92d611d7fc84",
   "metadata": {},
   "outputs": [],
   "source": [
    "gen_train = data.build_generator(\n",
    "    img_path=path_to_csv,\n",
    "    labels_df=ds_train,\n",
    "    index_col=\"path\",\n",
    "    labels_col=\"Fixed_Labels\",\n",
    "    train_set_batch_size=32,\n",
    "    target_size=(input_shape[0], input_shape[1]),\n",
    "    binary_class=False,\n",
    "    test_set=False,\n",
    "    data_augment=False,\n",
    ")\n",
    "\n",
    "gen_val = data.build_generator(\n",
    "    img_path=path_to_csv,\n",
    "    labels_df=ds_val,\n",
    "    index_col=\"path\",\n",
    "    labels_col=\"Fixed_Labels\",\n",
    "    train_set_batch_size=32,\n",
    "    target_size=(input_shape[0], input_shape[1]),\n",
    "    binary_class=False,\n",
    "    test_set=False,\n",
    "    data_augment=False,\n",
    ")"
   ]
  },
  {
   "cell_type": "code",
   "execution_count": null,
   "id": "33de9777-70f0-406b-8617-f79800ebee7a",
   "metadata": {},
   "outputs": [],
   "source": [
    "gen_test = data.build_generator(\n",
    "    img_path=path_to_csv,\n",
    "    labels_df=ds_test,\n",
    "    index_col=\"path\",\n",
    "    labels_col=\"Fixed_Labels\",\n",
    "    train_set_batch_size=32,\n",
    "    target_size=(input_shape[0], input_shape[1]),\n",
    "    binary_class=False,\n",
    "    test_set=True,\n",
    "    data_augment=False,\n",
    ")\n"
   ]
  },
  {
   "cell_type": "code",
   "execution_count": null,
   "id": "f62a23e3-dce6-44f7-aa36-6e3449edf6e7",
   "metadata": {},
   "outputs": [],
   "source": [
    "total_classes = len(model.gen_train.class_indices)\n",
    "total_classes"
   ]
  },
  {
   "cell_type": "code",
   "execution_count": null,
   "id": "2d29661a-f52a-4e63-b902-922a20cc4dca",
   "metadata": {},
   "outputs": [],
   "source": [
    "model = trainer.Trainer(\n",
    "    gen_train=gen_train,\n",
    "    gen_val=gen_val,\n",
    "    category_type=\"multilabel\",\n",
    ")"
   ]
  },
  {
   "cell_type": "code",
   "execution_count": null,
   "id": "9ef2a160-14f0-4381-bdac-3c5c1c838d78",
   "metadata": {},
   "outputs": [],
   "source": [
    "cnn_arch = {\n",
    "    \"input_shape\": input_shape,\n",
    "    \"output_shape\": total_classes,\n",
    "    \"output_activation\": \"sigmoid\",\n",
    "    \"dense_layer_geometry\": (1024, 512, 256),\n",
    "    'transfer_model': 'VGG16',\n",
    "    \"dense_layer_activation\": \"relu\",\n",
    "    \"dropout_layers\": False,\n",
    "}"
   ]
  },
  {
   "cell_type": "code",
   "execution_count": null,
   "id": "6f0cb048-01eb-42a2-9a95-b8c00fb6c851",
   "metadata": {},
   "outputs": [],
   "source": [
    "model.build_cnn(**cnn_arch)"
   ]
  },
  {
   "cell_type": "code",
   "execution_count": null,
   "id": "91574dd1-b528-49eb-8e95-e11cad4e040d",
   "metadata": {},
   "outputs": [],
   "source": [
    "model.compile_model()"
   ]
  },
  {
   "cell_type": "code",
   "execution_count": null,
   "id": "3554a0fb-67ab-4688-a5f0-32cf520ab0f5",
   "metadata": {},
   "outputs": [],
   "source": [
    "model.experiment_name"
   ]
  },
  {
   "cell_type": "code",
   "execution_count": null,
   "id": "a652ec0f-fa80-41f6-8b1f-b7373f04ddd1",
   "metadata": {},
   "outputs": [],
   "source": [
    "history = model.fit_model(epochs=1)"
   ]
  },
  {
   "cell_type": "code",
   "execution_count": null,
   "id": "52942988-8872-4260-adeb-b981f7fa8716",
   "metadata": {},
   "outputs": [],
   "source": []
  },
  {
   "cell_type": "code",
   "execution_count": null,
   "id": "793559d2-442d-438c-bbc8-d954b96a7e51",
   "metadata": {},
   "outputs": [],
   "source": [
    "history.history"
   ]
  },
  {
   "cell_type": "code",
   "execution_count": null,
   "id": "769d270b-493c-4438-826a-d485f696c840",
   "metadata": {},
   "outputs": [],
   "source": [
    "evalu = model.pipeline.evaluate(gen_test, workers=4, use_multiprocessing=True)"
   ]
  },
  {
   "cell_type": "code",
   "execution_count": null,
   "id": "598f664a-6c73-4c6c-843d-93b22b74bace",
   "metadata": {},
   "outputs": [],
   "source": [
    "evalu"
   ]
  },
  {
   "cell_type": "code",
   "execution_count": null,
   "id": "e50311de-548d-473b-a513-fa6379c9810c",
   "metadata": {},
   "outputs": [],
   "source": [
    "model.pipeline."
   ]
  },
  {
   "cell_type": "code",
   "execution_count": null,
   "id": "8cb64f5b-efd2-4349-9230-66d70d5ca855",
   "metadata": {},
   "outputs": [],
   "source": [
    "model.pipeline.compiled_metrics.metrics"
   ]
  },
  {
   "cell_type": "code",
   "execution_count": null,
   "id": "2175907e-8428-45f3-8f19-6c8c149f3292",
   "metadata": {},
   "outputs": [],
   "source": [
    "model.pipeline.compiled_loss.metrics."
   ]
  },
  {
   "cell_type": "code",
   "execution_count": null,
   "id": "1ed57536-3f86-4c49-a78e-eb5c1806797e",
   "metadata": {},
   "outputs": [],
   "source": [
    "from tensorflow import image"
   ]
  }
 ],
 "metadata": {
  "kernelspec": {
   "display_name": "Python 3 (ipykernel)",
   "language": "python",
   "name": "python3"
  },
  "language_info": {
   "codemirror_mode": {
    "name": "ipython",
    "version": 3
   },
   "file_extension": ".py",
   "mimetype": "text/x-python",
   "name": "python",
   "nbconvert_exporter": "python",
   "pygments_lexer": "ipython3",
   "version": "3.8.6"
  }
 },
 "nbformat": 4,
 "nbformat_minor": 5
}
