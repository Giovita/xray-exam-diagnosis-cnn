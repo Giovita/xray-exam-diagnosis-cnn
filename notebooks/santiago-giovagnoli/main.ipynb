{
 "cells": [
  {
   "cell_type": "code",
   "execution_count": 4,
   "id": "3fcd925b-a1f7-47f4-ab6b-491b9ec93443",
   "metadata": {},
   "outputs": [
    {
     "name": "stdout",
     "output_type": "stream",
     "text": [
      "The autoreload extension is already loaded. To reload it, use:\n",
      "  %reload_ext autoreload\n"
     ]
    }
   ],
   "source": [
    "%load_ext autoreload\n",
    "%autoreload 2"
   ]
  },
  {
   "cell_type": "code",
   "execution_count": 5,
   "id": "ae3eeba8-b4db-4c56-bf39-4d3f3978ccf5",
   "metadata": {},
   "outputs": [],
   "source": [
    "import os\n",
    "from glob import glob\n",
    "\n",
    "import numpy as np\n",
    "import pandas as pd"
   ]
  },
  {
   "cell_type": "code",
   "execution_count": 8,
   "id": "f68767a1-8725-4bce-ab45-831914b2d342",
   "metadata": {},
   "outputs": [],
   "source": [
    "from xray import data, params, trainer, utils"
   ]
  },
  {
   "cell_type": "code",
   "execution_count": 9,
   "id": "97b52502-070f-464e-8111-a872af69b4ad",
   "metadata": {},
   "outputs": [],
   "source": [
    "filename = \"xray_df.csv\""
   ]
  },
  {
   "cell_type": "code",
   "execution_count": 17,
   "id": "213c4efe-0027-49c0-8fc2-4a7365b6c622",
   "metadata": {},
   "outputs": [
    {
     "data": {
      "text/html": [
       "<div>\n",
       "<style scoped>\n",
       "    .dataframe tbody tr th:only-of-type {\n",
       "        vertical-align: middle;\n",
       "    }\n",
       "\n",
       "    .dataframe tbody tr th {\n",
       "        vertical-align: top;\n",
       "    }\n",
       "\n",
       "    .dataframe thead th {\n",
       "        text-align: right;\n",
       "    }\n",
       "</style>\n",
       "<table border=\"1\" class=\"dataframe\">\n",
       "  <thead>\n",
       "    <tr style=\"text-align: right;\">\n",
       "      <th></th>\n",
       "      <th>Image Index</th>\n",
       "      <th>Follow-up #</th>\n",
       "      <th>Patient ID</th>\n",
       "      <th>Patient Age</th>\n",
       "      <th>Patient Gender</th>\n",
       "      <th>View Position</th>\n",
       "      <th>OriginalImage[Width</th>\n",
       "      <th>Height]</th>\n",
       "      <th>OriginalImagePixelSpacing[x</th>\n",
       "      <th>y]</th>\n",
       "      <th>...</th>\n",
       "      <th>Infiltration</th>\n",
       "      <th>Mass</th>\n",
       "      <th>No Finding</th>\n",
       "      <th>Nodule</th>\n",
       "      <th>Pleural_Thickening</th>\n",
       "      <th>Pneumonia</th>\n",
       "      <th>Pneumothorax</th>\n",
       "      <th>Fixed_Labels</th>\n",
       "      <th>path</th>\n",
       "      <th>cat_col</th>\n",
       "    </tr>\n",
       "  </thead>\n",
       "  <tbody>\n",
       "    <tr>\n",
       "      <th>0</th>\n",
       "      <td>00000001_000.png</td>\n",
       "      <td>0</td>\n",
       "      <td>1</td>\n",
       "      <td>58</td>\n",
       "      <td>M</td>\n",
       "      <td>PA</td>\n",
       "      <td>2682</td>\n",
       "      <td>2749</td>\n",
       "      <td>0.143</td>\n",
       "      <td>0.143</td>\n",
       "      <td>...</td>\n",
       "      <td>0</td>\n",
       "      <td>0</td>\n",
       "      <td>0</td>\n",
       "      <td>0</td>\n",
       "      <td>0</td>\n",
       "      <td>0</td>\n",
       "      <td>0</td>\n",
       "      <td>Cardiomegaly</td>\n",
       "      <td>/content/drive/MyDrive/Proyecto_Lewagon_Rayos_...</td>\n",
       "      <td>['Cardiomegaly']</td>\n",
       "    </tr>\n",
       "    <tr>\n",
       "      <th>1</th>\n",
       "      <td>00000001_001.png</td>\n",
       "      <td>1</td>\n",
       "      <td>1</td>\n",
       "      <td>58</td>\n",
       "      <td>M</td>\n",
       "      <td>PA</td>\n",
       "      <td>2894</td>\n",
       "      <td>2729</td>\n",
       "      <td>0.143</td>\n",
       "      <td>0.143</td>\n",
       "      <td>...</td>\n",
       "      <td>0</td>\n",
       "      <td>0</td>\n",
       "      <td>0</td>\n",
       "      <td>0</td>\n",
       "      <td>0</td>\n",
       "      <td>0</td>\n",
       "      <td>0</td>\n",
       "      <td>Cardiomegaly|Emphysema</td>\n",
       "      <td>/content/drive/MyDrive/Proyecto_Lewagon_Rayos_...</td>\n",
       "      <td>['Cardiomegaly', 'Emphysema']</td>\n",
       "    </tr>\n",
       "    <tr>\n",
       "      <th>2</th>\n",
       "      <td>00000001_002.png</td>\n",
       "      <td>2</td>\n",
       "      <td>1</td>\n",
       "      <td>58</td>\n",
       "      <td>M</td>\n",
       "      <td>PA</td>\n",
       "      <td>2500</td>\n",
       "      <td>2048</td>\n",
       "      <td>0.168</td>\n",
       "      <td>0.168</td>\n",
       "      <td>...</td>\n",
       "      <td>0</td>\n",
       "      <td>0</td>\n",
       "      <td>0</td>\n",
       "      <td>0</td>\n",
       "      <td>0</td>\n",
       "      <td>0</td>\n",
       "      <td>0</td>\n",
       "      <td>Cardiomegaly|Effusion</td>\n",
       "      <td>/content/drive/MyDrive/Proyecto_Lewagon_Rayos_...</td>\n",
       "      <td>['Cardiomegaly', 'Effusion']</td>\n",
       "    </tr>\n",
       "  </tbody>\n",
       "</table>\n",
       "<p>3 rows × 30 columns</p>\n",
       "</div>"
      ],
      "text/plain": [
       "        Image Index  Follow-up #  Patient ID  Patient Age Patient Gender  \\\n",
       "0  00000001_000.png            0           1           58              M   \n",
       "1  00000001_001.png            1           1           58              M   \n",
       "2  00000001_002.png            2           1           58              M   \n",
       "\n",
       "  View Position  OriginalImage[Width  Height]  OriginalImagePixelSpacing[x  \\\n",
       "0            PA                 2682     2749                        0.143   \n",
       "1            PA                 2894     2729                        0.143   \n",
       "2            PA                 2500     2048                        0.168   \n",
       "\n",
       "      y]  ...  Infiltration  Mass  No Finding  Nodule  Pleural_Thickening  \\\n",
       "0  0.143  ...             0     0           0       0                   0   \n",
       "1  0.143  ...             0     0           0       0                   0   \n",
       "2  0.168  ...             0     0           0       0                   0   \n",
       "\n",
       "   Pneumonia  Pneumothorax            Fixed_Labels  \\\n",
       "0          0             0            Cardiomegaly   \n",
       "1          0             0  Cardiomegaly|Emphysema   \n",
       "2          0             0   Cardiomegaly|Effusion   \n",
       "\n",
       "                                                path  \\\n",
       "0  /content/drive/MyDrive/Proyecto_Lewagon_Rayos_...   \n",
       "1  /content/drive/MyDrive/Proyecto_Lewagon_Rayos_...   \n",
       "2  /content/drive/MyDrive/Proyecto_Lewagon_Rayos_...   \n",
       "\n",
       "                         cat_col  \n",
       "0               ['Cardiomegaly']  \n",
       "1  ['Cardiomegaly', 'Emphysema']  \n",
       "2   ['Cardiomegaly', 'Effusion']  \n",
       "\n",
       "[3 rows x 30 columns]"
      ]
     },
     "execution_count": 17,
     "metadata": {},
     "output_type": "execute_result"
    }
   ],
   "source": [
    "df = data.get_data_from_gcp(filename)\n",
    "df.head(3)"
   ]
  },
  {
   "cell_type": "code",
   "execution_count": 22,
   "id": "cdcb2a3a-8148-4cf9-bb7a-e07fdb311dff",
   "metadata": {},
   "outputs": [],
   "source": [
    "df.drop(\n",
    "    columns=[\n",
    "        \"Follow-up #\",\n",
    "        \"Patient Age\",\n",
    "        \"Patient Gender\",\n",
    "        \"View Position\",\n",
    "        \"OriginalImagePixelSpacing_x\",\n",
    "        \"OriginalImagePixelSpacing_y\",\n",
    "        \"OriginalImageWidth\",\n",
    "        \"OriginalImageHeight\",\n",
    "        \"OriginalImage[Width\",\n",
    "        \"Height]\",\n",
    "        \"OriginalImagePixelSpacing[x\",\n",
    "        \"y]\",\n",
    "        \"Count_diseases\",\n",
    "    ],\n",
    "    inplace=True,\n",
    "    errors=\"ignore\",\n",
    ")"
   ]
  },
  {
   "cell_type": "code",
   "execution_count": 24,
   "id": "943c3efc-f9f1-4b74-8f5b-d7ac6125b024",
   "metadata": {},
   "outputs": [],
   "source": [
    "df['path'] = df.path.map(lambda x: \"/\".join(x.split(\"/\")[-3:]))"
   ]
  }
 ],
 "metadata": {
  "kernelspec": {
   "display_name": "Python 3 (ipykernel)",
   "language": "python",
   "name": "python3"
  },
  "language_info": {
   "codemirror_mode": {
    "name": "ipython",
    "version": 3
   },
   "file_extension": ".py",
   "mimetype": "text/x-python",
   "name": "python",
   "nbconvert_exporter": "python",
   "pygments_lexer": "ipython3",
   "version": "3.8.6"
  }
 },
 "nbformat": 4,
 "nbformat_minor": 5
}
