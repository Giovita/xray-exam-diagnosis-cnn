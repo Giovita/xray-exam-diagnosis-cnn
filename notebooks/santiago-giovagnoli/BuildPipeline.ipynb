{
 "cells": [
  {
   "cell_type": "code",
   "execution_count": 2,
   "id": "b4dcc498-81a1-41fb-83c2-37fa961d416f",
   "metadata": {},
   "outputs": [],
   "source": [
    "%load_ext autoreload\n",
    "%autoreload 2"
   ]
  },
  {
   "cell_type": "code",
   "execution_count": 3,
   "id": "0c048f6c-8566-4daf-807a-655391d3a767",
   "metadata": {},
   "outputs": [],
   "source": [
    "import os\n",
    "from glob import glob\n",
    "\n",
    "import numpy as np\n",
    "import pandas as pd"
   ]
  },
  {
   "cell_type": "code",
   "execution_count": 6,
   "id": "4dea7415-3916-49a4-8d58-95064cdbbfdc",
   "metadata": {},
   "outputs": [],
   "source": [
    "from xray import data"
   ]
  },
  {
   "cell_type": "code",
   "execution_count": 11,
   "id": "da9bba8e-e8bb-413d-88e7-74c82b0864b2",
   "metadata": {},
   "outputs": [],
   "source": [
    "path_to_csv = \"../../raw_data/full-dataset/\"\n",
    "csv_file = \"xray_df.csv\""
   ]
  },
  {
   "cell_type": "code",
   "execution_count": 10,
   "id": "9e5e3daa-de30-48e6-8346-22a491b13b1a",
   "metadata": {},
   "outputs": [
    {
     "data": {
      "text/plain": [
       "['BBox_List_2017.csv',\n",
       " 'val_list.csv',\n",
       " 'Data_Entry_2017.csv',\n",
       " 'santiago_test.csv',\n",
       " 'LOG_CHESTXRAY.pdf',\n",
       " 'xray_df.csv',\n",
       " 'FAQ_CHESTXRAY.pdf',\n",
       " 'ARXIV_V5_CHESTXRAY.pdf',\n",
       " 'test_list.csv']"
      ]
     },
     "execution_count": 10,
     "metadata": {},
     "output_type": "execute_result"
    }
   ],
   "source": [
    "os.listdir(path_to_csv)"
   ]
  },
  {
   "cell_type": "code",
   "execution_count": 22,
   "id": "8ba6ab64-153f-4f1e-8a71-afea80997fba",
   "metadata": {},
   "outputs": [
    {
     "data": {
      "text/html": [
       "<div>\n",
       "<style scoped>\n",
       "    .dataframe tbody tr th:only-of-type {\n",
       "        vertical-align: middle;\n",
       "    }\n",
       "\n",
       "    .dataframe tbody tr th {\n",
       "        vertical-align: top;\n",
       "    }\n",
       "\n",
       "    .dataframe thead th {\n",
       "        text-align: right;\n",
       "    }\n",
       "</style>\n",
       "<table border=\"1\" class=\"dataframe\">\n",
       "  <thead>\n",
       "    <tr style=\"text-align: right;\">\n",
       "      <th></th>\n",
       "      <th>Image Index</th>\n",
       "      <th>Follow-up #</th>\n",
       "      <th>Patient ID</th>\n",
       "      <th>Patient Age</th>\n",
       "      <th>Patient Gender</th>\n",
       "      <th>View Position</th>\n",
       "      <th>OriginalImage[Width</th>\n",
       "      <th>Height]</th>\n",
       "      <th>OriginalImagePixelSpacing[x</th>\n",
       "      <th>y]</th>\n",
       "      <th>...</th>\n",
       "      <th>Infiltration</th>\n",
       "      <th>Mass</th>\n",
       "      <th>No Finding</th>\n",
       "      <th>Nodule</th>\n",
       "      <th>Pleural_Thickening</th>\n",
       "      <th>Pneumonia</th>\n",
       "      <th>Pneumothorax</th>\n",
       "      <th>Fixed_Labels</th>\n",
       "      <th>path</th>\n",
       "      <th>cat_col</th>\n",
       "    </tr>\n",
       "  </thead>\n",
       "  <tbody>\n",
       "    <tr>\n",
       "      <th>0</th>\n",
       "      <td>00000001_000.png</td>\n",
       "      <td>0</td>\n",
       "      <td>1</td>\n",
       "      <td>58</td>\n",
       "      <td>M</td>\n",
       "      <td>PA</td>\n",
       "      <td>2682</td>\n",
       "      <td>2749</td>\n",
       "      <td>0.143</td>\n",
       "      <td>0.143</td>\n",
       "      <td>...</td>\n",
       "      <td>0</td>\n",
       "      <td>0</td>\n",
       "      <td>0</td>\n",
       "      <td>0</td>\n",
       "      <td>0</td>\n",
       "      <td>0</td>\n",
       "      <td>0</td>\n",
       "      <td>Cardiomegaly</td>\n",
       "      <td>/content/drive/MyDrive/Proyecto_Lewagon_Rayos_...</td>\n",
       "      <td>['Cardiomegaly']</td>\n",
       "    </tr>\n",
       "    <tr>\n",
       "      <th>1</th>\n",
       "      <td>00000001_001.png</td>\n",
       "      <td>1</td>\n",
       "      <td>1</td>\n",
       "      <td>58</td>\n",
       "      <td>M</td>\n",
       "      <td>PA</td>\n",
       "      <td>2894</td>\n",
       "      <td>2729</td>\n",
       "      <td>0.143</td>\n",
       "      <td>0.143</td>\n",
       "      <td>...</td>\n",
       "      <td>0</td>\n",
       "      <td>0</td>\n",
       "      <td>0</td>\n",
       "      <td>0</td>\n",
       "      <td>0</td>\n",
       "      <td>0</td>\n",
       "      <td>0</td>\n",
       "      <td>Cardiomegaly|Emphysema</td>\n",
       "      <td>/content/drive/MyDrive/Proyecto_Lewagon_Rayos_...</td>\n",
       "      <td>['Cardiomegaly', 'Emphysema']</td>\n",
       "    </tr>\n",
       "    <tr>\n",
       "      <th>2</th>\n",
       "      <td>00000001_002.png</td>\n",
       "      <td>2</td>\n",
       "      <td>1</td>\n",
       "      <td>58</td>\n",
       "      <td>M</td>\n",
       "      <td>PA</td>\n",
       "      <td>2500</td>\n",
       "      <td>2048</td>\n",
       "      <td>0.168</td>\n",
       "      <td>0.168</td>\n",
       "      <td>...</td>\n",
       "      <td>0</td>\n",
       "      <td>0</td>\n",
       "      <td>0</td>\n",
       "      <td>0</td>\n",
       "      <td>0</td>\n",
       "      <td>0</td>\n",
       "      <td>0</td>\n",
       "      <td>Cardiomegaly|Effusion</td>\n",
       "      <td>/content/drive/MyDrive/Proyecto_Lewagon_Rayos_...</td>\n",
       "      <td>['Cardiomegaly', 'Effusion']</td>\n",
       "    </tr>\n",
       "  </tbody>\n",
       "</table>\n",
       "<p>3 rows × 30 columns</p>\n",
       "</div>"
      ],
      "text/plain": [
       "        Image Index  Follow-up #  Patient ID  Patient Age Patient Gender  \\\n",
       "0  00000001_000.png            0           1           58              M   \n",
       "1  00000001_001.png            1           1           58              M   \n",
       "2  00000001_002.png            2           1           58              M   \n",
       "\n",
       "  View Position  OriginalImage[Width  Height]  OriginalImagePixelSpacing[x  \\\n",
       "0            PA                 2682     2749                        0.143   \n",
       "1            PA                 2894     2729                        0.143   \n",
       "2            PA                 2500     2048                        0.168   \n",
       "\n",
       "      y]  ...  Infiltration  Mass  No Finding  Nodule  Pleural_Thickening  \\\n",
       "0  0.143  ...             0     0           0       0                   0   \n",
       "1  0.143  ...             0     0           0       0                   0   \n",
       "2  0.168  ...             0     0           0       0                   0   \n",
       "\n",
       "   Pneumonia  Pneumothorax            Fixed_Labels  \\\n",
       "0          0             0            Cardiomegaly   \n",
       "1          0             0  Cardiomegaly|Emphysema   \n",
       "2          0             0   Cardiomegaly|Effusion   \n",
       "\n",
       "                                                path  \\\n",
       "0  /content/drive/MyDrive/Proyecto_Lewagon_Rayos_...   \n",
       "1  /content/drive/MyDrive/Proyecto_Lewagon_Rayos_...   \n",
       "2  /content/drive/MyDrive/Proyecto_Lewagon_Rayos_...   \n",
       "\n",
       "                         cat_col  \n",
       "0               ['Cardiomegaly']  \n",
       "1  ['Cardiomegaly', 'Emphysema']  \n",
       "2   ['Cardiomegaly', 'Effusion']  \n",
       "\n",
       "[3 rows x 30 columns]"
      ]
     },
     "execution_count": 22,
     "metadata": {},
     "output_type": "execute_result"
    }
   ],
   "source": [
    "df = pd.read_csv(os.path.join(path_to_csv, csv_file))\n",
    "df.head(3)"
   ]
  },
  {
   "cell_type": "code",
   "execution_count": 23,
   "id": "a00971fc-329a-4775-a396-52ba5a364c70",
   "metadata": {},
   "outputs": [
    {
     "data": {
      "text/plain": [
       "Index(['Image Index', 'Follow-up #', 'Patient ID', 'Patient Age',\n",
       "       'Patient Gender', 'View Position', 'OriginalImage[Width', 'Height]',\n",
       "       'OriginalImagePixelSpacing[x', 'y]', 'Count_diseases', 'Enfermo',\n",
       "       'Atelectasis', 'Cardiomegaly', 'Consolidation', 'Edema', 'Effusion',\n",
       "       'Emphysema', 'Fibrosis', 'Hernia', 'Infiltration', 'Mass', 'No Finding',\n",
       "       'Nodule', 'Pleural_Thickening', 'Pneumonia', 'Pneumothorax',\n",
       "       'Fixed_Labels', 'path', 'cat_col'],\n",
       "      dtype='object')"
      ]
     },
     "execution_count": 23,
     "metadata": {},
     "output_type": "execute_result"
    }
   ],
   "source": [
    "df.columns"
   ]
  },
  {
   "cell_type": "code",
   "execution_count": 24,
   "id": "55f1b3d6-59c9-4222-a713-988893e6b97b",
   "metadata": {},
   "outputs": [],
   "source": [
    "df = df[\n",
    "    [\n",
    "        \"Image Index\",\n",
    "        \"Fixed_Labels\",\n",
    "        \"cat_col\",\n",
    "        \"path\",\n",
    "        \"Enfermo\",\n",
    "        \"Atelectasis\",\n",
    "        \"Cardiomegaly\",\n",
    "        \"Consolidation\",\n",
    "        \"Edema\",\n",
    "        \"Effusion\",\n",
    "        \"Emphysema\",\n",
    "        \"Fibrosis\",\n",
    "        \"Hernia\",\n",
    "        \"Infiltration\",\n",
    "        \"Mass\",\n",
    "        \"No Finding\",\n",
    "        \"Nodule\",\n",
    "        \"Pleural_Thickening\",\n",
    "        \"Pneumonia\",\n",
    "        \"Pneumothorax\",\n",
    "    ]\n",
    "]"
   ]
  },
  {
   "cell_type": "code",
   "execution_count": 29,
   "id": "55a11f2f-0074-490a-b950-fc0e4c94d452",
   "metadata": {},
   "outputs": [],
   "source": [
    "# y = data.get_data(os.path.join(path_to_csv, 'Data_Entry_2017.csv'))"
   ]
  },
  {
   "cell_type": "code",
   "execution_count": null,
   "id": "42c5d81b-25c8-4f16-a59b-e58db2b751bb",
   "metadata": {},
   "outputs": [],
   "source": [
    "# data.process_df(y, )"
   ]
  },
  {
   "cell_type": "markdown",
   "id": "8a59e196-9a23-4729-a9a3-fb41a91d0d06",
   "metadata": {},
   "source": [
    "# Actual pipeline"
   ]
  },
  {
   "cell_type": "code",
   "execution_count": 30,
   "id": "09d047a2-941b-48e7-8039-a21ef977daaa",
   "metadata": {},
   "outputs": [
    {
     "name": "stdout",
     "output_type": "stream",
     "text": [
      "Variable      Type         Data/Info\n",
      "------------------------------------\n",
      "csv_file      str          xray_df.csv\n",
      "data          module       <module 'xray.data' from <...>gnosis-cnn/xray/data.py'>\n",
      "df            DataFrame                 Image Index <...>112104 rows x 20 columns]\n",
      "glob          function     <function glob at 0x7f186a3429d0>\n",
      "np            module       <module 'numpy' from '/ho<...>kages/numpy/__init__.py'>\n",
      "os            module       <module 'os' from '/home/<...>8.6/lib/python3.8/os.py'>\n",
      "path_to_csv   str          ../../raw_data/full-dataset/\n",
      "pd            module       <module 'pandas' from '/h<...>ages/pandas/__init__.py'>\n",
      "y             DataFrame                 Image Index <...>112120 rows x 12 columns]\n"
     ]
    }
   ],
   "source": [
    "whos"
   ]
  },
  {
   "cell_type": "code",
   "execution_count": 32,
   "id": "750d434a-c24b-4675-b365-5586273acfe8",
   "metadata": {},
   "outputs": [],
   "source": [
    "path_to_csv = \"../../raw_data/full-dataset/\"\n",
    "csv_file = \"xray_df.csv\""
   ]
  },
  {
   "cell_type": "code",
   "execution_count": 40,
   "id": "fd72bc4b-1a02-408a-a4f5-50eaacef8963",
   "metadata": {},
   "outputs": [
    {
     "data": {
      "text/html": [
       "<div>\n",
       "<style scoped>\n",
       "    .dataframe tbody tr th:only-of-type {\n",
       "        vertical-align: middle;\n",
       "    }\n",
       "\n",
       "    .dataframe tbody tr th {\n",
       "        vertical-align: top;\n",
       "    }\n",
       "\n",
       "    .dataframe thead th {\n",
       "        text-align: right;\n",
       "    }\n",
       "</style>\n",
       "<table border=\"1\" class=\"dataframe\">\n",
       "  <thead>\n",
       "    <tr style=\"text-align: right;\">\n",
       "      <th></th>\n",
       "      <th>Image Index</th>\n",
       "      <th>Follow-up #</th>\n",
       "      <th>Patient ID</th>\n",
       "      <th>Patient Age</th>\n",
       "      <th>Patient Gender</th>\n",
       "      <th>View Position</th>\n",
       "      <th>OriginalImage[Width</th>\n",
       "      <th>Height]</th>\n",
       "      <th>OriginalImagePixelSpacing[x</th>\n",
       "      <th>y]</th>\n",
       "      <th>...</th>\n",
       "      <th>Infiltration</th>\n",
       "      <th>Mass</th>\n",
       "      <th>No Finding</th>\n",
       "      <th>Nodule</th>\n",
       "      <th>Pleural_Thickening</th>\n",
       "      <th>Pneumonia</th>\n",
       "      <th>Pneumothorax</th>\n",
       "      <th>Fixed_Labels</th>\n",
       "      <th>path</th>\n",
       "      <th>cat_col</th>\n",
       "    </tr>\n",
       "  </thead>\n",
       "  <tbody>\n",
       "    <tr>\n",
       "      <th>0</th>\n",
       "      <td>00000001_000.png</td>\n",
       "      <td>0</td>\n",
       "      <td>1</td>\n",
       "      <td>58</td>\n",
       "      <td>M</td>\n",
       "      <td>PA</td>\n",
       "      <td>2682</td>\n",
       "      <td>2749</td>\n",
       "      <td>0.143</td>\n",
       "      <td>0.143</td>\n",
       "      <td>...</td>\n",
       "      <td>0</td>\n",
       "      <td>0</td>\n",
       "      <td>0</td>\n",
       "      <td>0</td>\n",
       "      <td>0</td>\n",
       "      <td>0</td>\n",
       "      <td>0</td>\n",
       "      <td>Cardiomegaly</td>\n",
       "      <td>/content/drive/MyDrive/Proyecto_Lewagon_Rayos_...</td>\n",
       "      <td>['Cardiomegaly']</td>\n",
       "    </tr>\n",
       "    <tr>\n",
       "      <th>1</th>\n",
       "      <td>00000001_001.png</td>\n",
       "      <td>1</td>\n",
       "      <td>1</td>\n",
       "      <td>58</td>\n",
       "      <td>M</td>\n",
       "      <td>PA</td>\n",
       "      <td>2894</td>\n",
       "      <td>2729</td>\n",
       "      <td>0.143</td>\n",
       "      <td>0.143</td>\n",
       "      <td>...</td>\n",
       "      <td>0</td>\n",
       "      <td>0</td>\n",
       "      <td>0</td>\n",
       "      <td>0</td>\n",
       "      <td>0</td>\n",
       "      <td>0</td>\n",
       "      <td>0</td>\n",
       "      <td>Cardiomegaly|Emphysema</td>\n",
       "      <td>/content/drive/MyDrive/Proyecto_Lewagon_Rayos_...</td>\n",
       "      <td>['Cardiomegaly', 'Emphysema']</td>\n",
       "    </tr>\n",
       "    <tr>\n",
       "      <th>2</th>\n",
       "      <td>00000001_002.png</td>\n",
       "      <td>2</td>\n",
       "      <td>1</td>\n",
       "      <td>58</td>\n",
       "      <td>M</td>\n",
       "      <td>PA</td>\n",
       "      <td>2500</td>\n",
       "      <td>2048</td>\n",
       "      <td>0.168</td>\n",
       "      <td>0.168</td>\n",
       "      <td>...</td>\n",
       "      <td>0</td>\n",
       "      <td>0</td>\n",
       "      <td>0</td>\n",
       "      <td>0</td>\n",
       "      <td>0</td>\n",
       "      <td>0</td>\n",
       "      <td>0</td>\n",
       "      <td>Cardiomegaly|Effusion</td>\n",
       "      <td>/content/drive/MyDrive/Proyecto_Lewagon_Rayos_...</td>\n",
       "      <td>['Cardiomegaly', 'Effusion']</td>\n",
       "    </tr>\n",
       "  </tbody>\n",
       "</table>\n",
       "<p>3 rows × 30 columns</p>\n",
       "</div>"
      ],
      "text/plain": [
       "        Image Index  Follow-up #  Patient ID  Patient Age Patient Gender  \\\n",
       "0  00000001_000.png            0           1           58              M   \n",
       "1  00000001_001.png            1           1           58              M   \n",
       "2  00000001_002.png            2           1           58              M   \n",
       "\n",
       "  View Position  OriginalImage[Width  Height]  OriginalImagePixelSpacing[x  \\\n",
       "0            PA                 2682     2749                        0.143   \n",
       "1            PA                 2894     2729                        0.143   \n",
       "2            PA                 2500     2048                        0.168   \n",
       "\n",
       "      y]  ...  Infiltration  Mass  No Finding  Nodule  Pleural_Thickening  \\\n",
       "0  0.143  ...             0     0           0       0                   0   \n",
       "1  0.143  ...             0     0           0       0                   0   \n",
       "2  0.168  ...             0     0           0       0                   0   \n",
       "\n",
       "   Pneumonia  Pneumothorax            Fixed_Labels  \\\n",
       "0          0             0            Cardiomegaly   \n",
       "1          0             0  Cardiomegaly|Emphysema   \n",
       "2          0             0   Cardiomegaly|Effusion   \n",
       "\n",
       "                                                path  \\\n",
       "0  /content/drive/MyDrive/Proyecto_Lewagon_Rayos_...   \n",
       "1  /content/drive/MyDrive/Proyecto_Lewagon_Rayos_...   \n",
       "2  /content/drive/MyDrive/Proyecto_Lewagon_Rayos_...   \n",
       "\n",
       "                         cat_col  \n",
       "0               ['Cardiomegaly']  \n",
       "1  ['Cardiomegaly', 'Emphysema']  \n",
       "2   ['Cardiomegaly', 'Effusion']  \n",
       "\n",
       "[3 rows x 30 columns]"
      ]
     },
     "execution_count": 40,
     "metadata": {},
     "output_type": "execute_result"
    }
   ],
   "source": [
    "df = data.get_data(os.path.join(path_to_csv, csv_file))\n",
    "df.head(3)"
   ]
  },
  {
   "cell_type": "code",
   "execution_count": 41,
   "id": "ee374784-b218-440e-b029-b9be954965e8",
   "metadata": {},
   "outputs": [],
   "source": [
    "df.drop(\n",
    "    columns=[\n",
    "        \"Follow-up #\",\n",
    "        \"Patient Age\",\n",
    "        \"Patient Gender\",\n",
    "        \"View Position\",\n",
    "        \"OriginalImage[Width\",\n",
    "        \"Height]\",\n",
    "        \"OriginalImagePixelSpacing[x\",\n",
    "        \"y]\",\n",
    "    ],\n",
    "    inplace=True,\n",
    ")"
   ]
  },
  {
   "cell_type": "code",
   "execution_count": 43,
   "id": "3bb32237-58ad-4533-8a1d-9d91600be75a",
   "metadata": {},
   "outputs": [
    {
     "data": {
      "text/plain": [
       "Index(['Image Index', 'Patient ID', 'Count_diseases', 'Enfermo', 'Atelectasis',\n",
       "       'Cardiomegaly', 'Consolidation', 'Edema', 'Effusion', 'Emphysema',\n",
       "       'Fibrosis', 'Hernia', 'Infiltration', 'Mass', 'No Finding', 'Nodule',\n",
       "       'Pleural_Thickening', 'Pneumonia', 'Pneumothorax', 'Fixed_Labels',\n",
       "       'path', 'cat_col'],\n",
       "      dtype='object')"
      ]
     },
     "execution_count": 43,
     "metadata": {},
     "output_type": "execute_result"
    }
   ],
   "source": [
    "df.columns"
   ]
  },
  {
   "cell_type": "code",
   "execution_count": 42,
   "id": "9d0ac41d-eca6-4f58-88ec-94516cfaa358",
   "metadata": {},
   "outputs": [
    {
     "data": {
      "text/html": [
       "<div>\n",
       "<style scoped>\n",
       "    .dataframe tbody tr th:only-of-type {\n",
       "        vertical-align: middle;\n",
       "    }\n",
       "\n",
       "    .dataframe tbody tr th {\n",
       "        vertical-align: top;\n",
       "    }\n",
       "\n",
       "    .dataframe thead th {\n",
       "        text-align: right;\n",
       "    }\n",
       "</style>\n",
       "<table border=\"1\" class=\"dataframe\">\n",
       "  <thead>\n",
       "    <tr style=\"text-align: right;\">\n",
       "      <th></th>\n",
       "      <th>Image Index</th>\n",
       "      <th>Patient ID</th>\n",
       "      <th>Count_diseases</th>\n",
       "      <th>Enfermo</th>\n",
       "      <th>Atelectasis</th>\n",
       "      <th>Cardiomegaly</th>\n",
       "      <th>Consolidation</th>\n",
       "      <th>Edema</th>\n",
       "      <th>Effusion</th>\n",
       "      <th>Emphysema</th>\n",
       "      <th>...</th>\n",
       "      <th>Infiltration</th>\n",
       "      <th>Mass</th>\n",
       "      <th>No Finding</th>\n",
       "      <th>Nodule</th>\n",
       "      <th>Pleural_Thickening</th>\n",
       "      <th>Pneumonia</th>\n",
       "      <th>Pneumothorax</th>\n",
       "      <th>Fixed_Labels</th>\n",
       "      <th>path</th>\n",
       "      <th>cat_col</th>\n",
       "    </tr>\n",
       "  </thead>\n",
       "  <tbody>\n",
       "    <tr>\n",
       "      <th>0</th>\n",
       "      <td>00000001_000.png</td>\n",
       "      <td>1</td>\n",
       "      <td>1</td>\n",
       "      <td>True</td>\n",
       "      <td>0</td>\n",
       "      <td>1</td>\n",
       "      <td>0</td>\n",
       "      <td>0</td>\n",
       "      <td>0</td>\n",
       "      <td>0</td>\n",
       "      <td>...</td>\n",
       "      <td>0</td>\n",
       "      <td>0</td>\n",
       "      <td>0</td>\n",
       "      <td>0</td>\n",
       "      <td>0</td>\n",
       "      <td>0</td>\n",
       "      <td>0</td>\n",
       "      <td>Cardiomegaly</td>\n",
       "      <td>/content/drive/MyDrive/Proyecto_Lewagon_Rayos_...</td>\n",
       "      <td>['Cardiomegaly']</td>\n",
       "    </tr>\n",
       "    <tr>\n",
       "      <th>1</th>\n",
       "      <td>00000001_001.png</td>\n",
       "      <td>1</td>\n",
       "      <td>2</td>\n",
       "      <td>True</td>\n",
       "      <td>0</td>\n",
       "      <td>1</td>\n",
       "      <td>0</td>\n",
       "      <td>0</td>\n",
       "      <td>0</td>\n",
       "      <td>1</td>\n",
       "      <td>...</td>\n",
       "      <td>0</td>\n",
       "      <td>0</td>\n",
       "      <td>0</td>\n",
       "      <td>0</td>\n",
       "      <td>0</td>\n",
       "      <td>0</td>\n",
       "      <td>0</td>\n",
       "      <td>Cardiomegaly|Emphysema</td>\n",
       "      <td>/content/drive/MyDrive/Proyecto_Lewagon_Rayos_...</td>\n",
       "      <td>['Cardiomegaly', 'Emphysema']</td>\n",
       "    </tr>\n",
       "    <tr>\n",
       "      <th>2</th>\n",
       "      <td>00000001_002.png</td>\n",
       "      <td>1</td>\n",
       "      <td>2</td>\n",
       "      <td>True</td>\n",
       "      <td>0</td>\n",
       "      <td>1</td>\n",
       "      <td>0</td>\n",
       "      <td>0</td>\n",
       "      <td>1</td>\n",
       "      <td>0</td>\n",
       "      <td>...</td>\n",
       "      <td>0</td>\n",
       "      <td>0</td>\n",
       "      <td>0</td>\n",
       "      <td>0</td>\n",
       "      <td>0</td>\n",
       "      <td>0</td>\n",
       "      <td>0</td>\n",
       "      <td>Cardiomegaly|Effusion</td>\n",
       "      <td>/content/drive/MyDrive/Proyecto_Lewagon_Rayos_...</td>\n",
       "      <td>['Cardiomegaly', 'Effusion']</td>\n",
       "    </tr>\n",
       "  </tbody>\n",
       "</table>\n",
       "<p>3 rows × 22 columns</p>\n",
       "</div>"
      ],
      "text/plain": [
       "        Image Index  Patient ID  Count_diseases  Enfermo  Atelectasis  \\\n",
       "0  00000001_000.png           1               1     True            0   \n",
       "1  00000001_001.png           1               2     True            0   \n",
       "2  00000001_002.png           1               2     True            0   \n",
       "\n",
       "   Cardiomegaly  Consolidation  Edema  Effusion  Emphysema  ...  Infiltration  \\\n",
       "0             1              0      0         0          0  ...             0   \n",
       "1             1              0      0         0          1  ...             0   \n",
       "2             1              0      0         1          0  ...             0   \n",
       "\n",
       "   Mass  No Finding  Nodule  Pleural_Thickening  Pneumonia  Pneumothorax  \\\n",
       "0     0           0       0                   0          0             0   \n",
       "1     0           0       0                   0          0             0   \n",
       "2     0           0       0                   0          0             0   \n",
       "\n",
       "             Fixed_Labels                                               path  \\\n",
       "0            Cardiomegaly  /content/drive/MyDrive/Proyecto_Lewagon_Rayos_...   \n",
       "1  Cardiomegaly|Emphysema  /content/drive/MyDrive/Proyecto_Lewagon_Rayos_...   \n",
       "2   Cardiomegaly|Effusion  /content/drive/MyDrive/Proyecto_Lewagon_Rayos_...   \n",
       "\n",
       "                         cat_col  \n",
       "0               ['Cardiomegaly']  \n",
       "1  ['Cardiomegaly', 'Emphysema']  \n",
       "2   ['Cardiomegaly', 'Effusion']  \n",
       "\n",
       "[3 rows x 22 columns]"
      ]
     },
     "execution_count": 42,
     "metadata": {},
     "output_type": "execute_result"
    }
   ],
   "source": [
    "df.head(3)"
   ]
  },
  {
   "cell_type": "code",
   "execution_count": 47,
   "id": "f9e41b57-71c8-465f-84a7-c216761beff0",
   "metadata": {},
   "outputs": [
    {
     "data": {
      "text/plain": [
       "Index(['Image Index', 'Patient ID', 'Count_diseases', 'Enfermo', 'Atelectasis',\n",
       "       'Cardiomegaly', 'Consolidation', 'Edema', 'Effusion', 'Emphysema',\n",
       "       'Fibrosis', 'Hernia', 'Infiltration', 'Mass', 'No Finding', 'Nodule',\n",
       "       'Pleural_Thickening', 'Pneumonia', 'Pneumothorax', 'Fixed_Labels',\n",
       "       'path', 'cat_col'],\n",
       "      dtype='object')"
      ]
     },
     "execution_count": 47,
     "metadata": {},
     "output_type": "execute_result"
    }
   ],
   "source": [
    "df.columns"
   ]
  },
  {
   "cell_type": "code",
   "execution_count": 48,
   "id": "a4e9fbad-df36-43f7-97a1-805d5b7c3459",
   "metadata": {},
   "outputs": [
    {
     "data": {
      "text/plain": [
       "array([    1,     2,     3, ..., 30803, 30804, 30805])"
      ]
     },
     "execution_count": 48,
     "metadata": {},
     "output_type": "execute_result"
    }
   ],
   "source": [
    "df['Patient ID'].unique()"
   ]
  },
  {
   "cell_type": "code",
   "execution_count": 99,
   "id": "c540f8f3-83da-4c81-960a-a73999a323f6",
   "metadata": {
    "tags": []
   },
   "outputs": [
    {
     "name": "stdout",
     "output_type": "stream",
     "text": [
      "train : (6977, 22)\n",
      "val : (1667, 22)\n",
      "test : (1667, 22)\n"
     ]
    }
   ],
   "source": [
    "ds_train, ds_val, ds_test = data.split_df(dataset = df,column_to_filter_by = 'Patient ID', train_val_test = (0.65, 0.15, 0.15))\n",
    "print('train :', ds_train.shape)\n",
    "print('val :', ds_val.shape)\n",
    "print('test :', ds_test.shape)"
   ]
  },
  {
   "cell_type": "code",
   "execution_count": null,
   "id": "86443f4d-680d-45b9-9223-5d424006fe4f",
   "metadata": {},
   "outputs": [],
   "source": []
  }
 ],
 "metadata": {
  "kernelspec": {
   "display_name": "Python 3 (ipykernel)",
   "language": "python",
   "name": "python3"
  },
  "language_info": {
   "codemirror_mode": {
    "name": "ipython",
    "version": 3
   },
   "file_extension": ".py",
   "mimetype": "text/x-python",
   "name": "python",
   "nbconvert_exporter": "python",
   "pygments_lexer": "ipython3",
   "version": "3.8.6"
  }
 },
 "nbformat": 4,
 "nbformat_minor": 5
}
