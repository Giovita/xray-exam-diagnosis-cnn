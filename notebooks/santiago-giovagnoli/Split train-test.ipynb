{
 "cells": [
  {
   "cell_type": "code",
   "execution_count": 4,
   "id": "018a3ef5-0f18-4c53-9e67-33afa8d54cf2",
   "metadata": {},
   "outputs": [],
   "source": [
    "import os\n",
    "\n",
    "import numpy as np\n",
    "import pandas as pd"
   ]
  },
  {
   "cell_type": "code",
   "execution_count": 10,
   "id": "9c8ca926-8698-460c-963c-88eb26916a81",
   "metadata": {},
   "outputs": [],
   "source": [
    "path_from_root = \"raw_data/full-dataset/\"\n",
    "path_to_root = \"../..\"\n",
    "labels_path = os.path.join(path_to_root, path_from_root)\n",
    "img_path = os.path.join(path_to_root, path_from_root, \"images\")\n",
    "labels = \"Data_Entry_2017.csv\"  # FUll dataset labels\n",
    "# labels = \"sample_labels.csv\""
   ]
  },
  {
   "cell_type": "code",
   "execution_count": 44,
   "id": "44139ae6-2b2d-42f8-be62-d3f2a7b43e75",
   "metadata": {},
   "outputs": [
    {
     "name": "stdout",
     "output_type": "stream",
     "text": [
      "ds : (112120, 12)\n",
      "val : (86524, 1)\n",
      "test : (25596, 1)\n"
     ]
    }
   ],
   "source": [
    "y = pd.read_csv(os.path.join(labels_path, labels))\n",
    "test_id = pd.read_csv(os.path.join(labels_path, 'test_list.csv'))\n",
    "val_id = pd.read_csv(os.path.join(labels_path, 'val_list.csv'))\n",
    "print('ds :', y.shape)\n",
    "print('val :', val_id.shape)\n",
    "print('test :', test_id.shape)"
   ]
  },
  {
   "cell_type": "code",
   "execution_count": 52,
   "id": "6d6cbb3e-9e1e-4a93-90b0-74d9401eac4e",
   "metadata": {},
   "outputs": [
    {
     "data": {
      "text/plain": [
       "112120"
      ]
     },
     "execution_count": 52,
     "metadata": {},
     "output_type": "execute_result"
    }
   ],
   "source": [
    "test_id.shape[0] + val_id.shape[0]"
   ]
  },
  {
   "cell_type": "code",
   "execution_count": 53,
   "id": "df0ec6eb-8f54-4138-b718-6a8f144e2cb3",
   "metadata": {},
   "outputs": [
    {
     "data": {
      "text/plain": [
       "Index(['Image Index', 'Finding Labels', 'Follow-up #', 'Patient ID',\n",
       "       'Patient Age', 'Patient Gender', 'View Position', 'OriginalImage[Width',\n",
       "       'Height]', 'OriginalImagePixelSpacing[x', 'y]', 'Unnamed: 11'],\n",
       "      dtype='object')"
      ]
     },
     "execution_count": 53,
     "metadata": {},
     "output_type": "execute_result"
    }
   ],
   "source": [
    "y.columns"
   ]
  },
  {
   "cell_type": "code",
   "execution_count": 61,
   "id": "bf2f27e1-4543-4c4d-8efb-a12674a1ed3e",
   "metadata": {},
   "outputs": [
    {
     "data": {
      "text/plain": [
       "'val_labels'"
      ]
     },
     "execution_count": 61,
     "metadata": {},
     "output_type": "execute_result"
    }
   ],
   "source": [
    "val_id.columns[0]"
   ]
  },
  {
   "cell_type": "code",
   "execution_count": null,
   "id": "e2d3fec2-28e6-4ee8-8d57-57385cf9b601",
   "metadata": {},
   "outputs": [],
   "source": [
    "val"
   ]
  },
  {
   "cell_type": "code",
   "execution_count": 64,
   "id": "b11e494f-44c3-4e65-b9b9-6f7a911c109e",
   "metadata": {},
   "outputs": [],
   "source": [
    "bool_filter = y['Image Index'].isin(val_id['val_labels'])"
   ]
  },
  {
   "cell_type": "code",
   "execution_count": 71,
   "id": "81356dc0-cbce-4482-941d-05fd0053590a",
   "metadata": {},
   "outputs": [
    {
     "data": {
      "text/plain": [
       "0          True\n",
       "1          True\n",
       "2          True\n",
       "3          True\n",
       "4         False\n",
       "          ...  \n",
       "112115     True\n",
       "112116    False\n",
       "112117    False\n",
       "112118    False\n",
       "112119    False\n",
       "Name: Image Index, Length: 112120, dtype: bool"
      ]
     },
     "execution_count": 71,
     "metadata": {},
     "output_type": "execute_result"
    }
   ],
   "source": [
    "bool_filter"
   ]
  },
  {
   "cell_type": "code",
   "execution_count": 72,
   "id": "3e840793-8d69-4c98-b342-fec6e8c3b46e",
   "metadata": {},
   "outputs": [
    {
     "data": {
      "text/plain": [
       "25596"
      ]
     },
     "execution_count": 72,
     "metadata": {},
     "output_type": "execute_result"
    }
   ],
   "source": [
    "bool_filter.map(lambda x: not x).sum()"
   ]
  }
 ],
 "metadata": {
  "kernelspec": {
   "display_name": "Python 3 (ipykernel)",
   "language": "python",
   "name": "python3"
  },
  "language_info": {
   "codemirror_mode": {
    "name": "ipython",
    "version": 3
   },
   "file_extension": ".py",
   "mimetype": "text/x-python",
   "name": "python",
   "nbconvert_exporter": "python",
   "pygments_lexer": "ipython3",
   "version": "3.8.6"
  }
 },
 "nbformat": 4,
 "nbformat_minor": 5
}
