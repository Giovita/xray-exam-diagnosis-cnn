{
 "cells": [
  {
   "cell_type": "code",
   "execution_count": null,
   "id": "ade1e179-c5ee-4450-bcff-dc102c9d3da6",
   "metadata": {},
   "outputs": [],
   "source": [
    "!pip install -e ."
   ]
  },
  {
   "cell_type": "code",
   "execution_count": 1,
   "id": "1c464b0a-33b6-4af5-b5de-c9f6b1680969",
   "metadata": {},
   "outputs": [],
   "source": [
    "import xray"
   ]
  },
  {
   "cell_type": "code",
   "execution_count": 2,
   "id": "5c8aad0a-ff72-4956-9eda-4f6c954d1212",
   "metadata": {},
   "outputs": [
    {
     "name": "stdout",
     "output_type": "stream",
     "text": [
      "Variable   Type      Data/Info\n",
      "------------------------------\n",
      "xray       module    <module 'xray' from '/hom<...>is-cnn/xray/__init__.py'>\n"
     ]
    }
   ],
   "source": [
    "whos"
   ]
  },
  {
   "cell_type": "code",
   "execution_count": 4,
   "id": "05265652-e500-407b-9bac-a96d2f057197",
   "metadata": {},
   "outputs": [],
   "source": [
    "from xray import data"
   ]
  },
  {
   "cell_type": "code",
   "execution_count": 7,
   "id": "62048f76-7242-4535-8bb9-137d3c656878",
   "metadata": {},
   "outputs": [
    {
     "data": {
      "text/plain": [
       "(1,)"
      ]
     },
     "execution_count": 7,
     "metadata": {},
     "output_type": "execute_result"
    }
   ],
   "source": [
    "(1,)"
   ]
  },
  {
   "cell_type": "code",
   "execution_count": 9,
   "id": "09cfc04b-56cc-4a91-9d74-214c87f831d6",
   "metadata": {},
   "outputs": [],
   "source": [
    "a = ('2',)\n",
    "b = 'z'\n",
    "new = a + (b,)"
   ]
  },
  {
   "cell_type": "code",
   "execution_count": 11,
   "id": "ebbcb02c-12d2-460e-b1c3-c20de9e9d1e1",
   "metadata": {},
   "outputs": [
    {
     "data": {
      "text/plain": [
       "(224, 224, 3)"
      ]
     },
     "execution_count": 11,
     "metadata": {},
     "output_type": "execute_result"
    }
   ],
   "source": [
    "(224, 224) + (3, )"
   ]
  },
  {
   "cell_type": "code",
   "execution_count": 12,
   "id": "017af994-e305-4f80-a7ec-f4e009aa3ced",
   "metadata": {},
   "outputs": [
    {
     "ename": "TypeError",
     "evalue": "get_data() missing 2 required positional arguments: 'img_path' and 'labels_file'",
     "output_type": "error",
     "traceback": [
      "\u001b[0;31m---------------------------------------------------------------------------\u001b[0m",
      "\u001b[0;31mTypeError\u001b[0m                                 Traceback (most recent call last)",
      "\u001b[0;32m/tmp/ipykernel_40040/3318630528.py\u001b[0m in \u001b[0;36m<module>\u001b[0;34m\u001b[0m\n\u001b[0;32m----> 1\u001b[0;31m \u001b[0mdata\u001b[0m\u001b[0;34m.\u001b[0m\u001b[0mget_data\u001b[0m\u001b[0;34m(\u001b[0m\u001b[0;34m)\u001b[0m\u001b[0;34m\u001b[0m\u001b[0;34m\u001b[0m\u001b[0m\n\u001b[0m",
      "\u001b[0;31mTypeError\u001b[0m: get_data() missing 2 required positional arguments: 'img_path' and 'labels_file'"
     ]
    }
   ],
   "source": [
    "data.get_data()"
   ]
  }
 ],
 "metadata": {
  "kernelspec": {
   "display_name": "Python 3 (ipykernel)",
   "language": "python",
   "name": "python3"
  },
  "language_info": {
   "codemirror_mode": {
    "name": "ipython",
    "version": 3
   },
   "file_extension": ".py",
   "mimetype": "text/x-python",
   "name": "python",
   "nbconvert_exporter": "python",
   "pygments_lexer": "ipython3",
   "version": "3.8.6"
  }
 },
 "nbformat": 4,
 "nbformat_minor": 5
}
