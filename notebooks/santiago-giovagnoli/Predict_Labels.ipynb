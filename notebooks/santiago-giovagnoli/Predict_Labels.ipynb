{
 "cells": [
  {
   "cell_type": "code",
   "execution_count": 18,
   "id": "94b08a2d-6611-428a-9126-aeca33055676",
   "metadata": {},
   "outputs": [],
   "source": [
    "from xray import load_model, data, params, trainer\n",
    "import math\n",
    "import os\n",
    "from glob import glob\n",
    "\n",
    "import pandas as pd\n",
    "# from xray import data, \n",
    "from sklearn.preprocessing import MultiLabelBinarizer, LabelEncoder\n"
   ]
  },
  {
   "cell_type": "code",
   "execution_count": 19,
   "id": "fbd05d4d-f24b-41ff-9f99-d240d4d16d87",
   "metadata": {},
   "outputs": [
    {
     "name": "stdout",
     "output_type": "stream",
     "text": [
      "Start building and training CNN for binary.\n",
      "Set Parameters\n",
      "Loaded Training Data\n",
      "Total 112104 files loaded\n",
      "Finished preprocessing\n"
     ]
    }
   ],
   "source": [
    "load_previous = False  # If True, modify at the top the loading parameters\n",
    "filename = \"xray_df.csv\"\n",
    "img_size = (224, 224)\n",
    "job_type = \"binary\"\n",
    "split = (0.65, 0.175, 0.175)  # Train Val Test\n",
    "data_filter = 0.45\n",
    "cnn_geometry = (1024*8,)  # 512, 256)\n",
    "dropout_layer = False\n",
    "dropout_rate = 0.4\n",
    "batch_size = 32\n",
    "epochs = 30\n",
    "# learning_rate = 0.0005\n",
    "\n",
    "print(f\"Start building and training CNN for {job_type}.\")\n",
    "\n",
    "print(\"Set Parameters\")\n",
    "\n",
    "# Load data\n",
    "path_to_png = params.GCP_IMAGE_BUCKET\n",
    "df = data.get_data_from_gcp(filename)\n",
    "\n",
    "print(\"Loaded Training Data\")\n",
    "\n",
    "# Train multilabel for sick people. Modify if binary class\n",
    "# df = df[df[\"Fixed_Labels\"] != \"No Finding\"]\n",
    "\n",
    "print(f\"Total {len(df)} files loaded\")\n",
    "\n",
    "# Small data ELT\n",
    "df[\"path\"] = df.path.map(\n",
    "    lambda x: \"/\".join(x.split(\"/\")[-3:])\n",
    ")  # Relative paths to file loc\n",
    "df.path = df.path.map(\n",
    "    lambda x: os.path.join(params.GCP_IMAGE_BUCKET, x)\n",
    ")  # Absolute path in GCP\n",
    "# df[\"labels\"] = df[\"Fixed_Labels\"].map(\n",
    "#     lambda x: x.split(\"|\"))  # 'cat_col' not working\n",
    "df[\"labels\"] = df[\"Enfermo\"]\n",
    "\n",
    "# OneHot Encode multilabel\n",
    "# mlb = MultiLabelBinarizer().fit(df.labels)\n",
    "# y = mlb.transform(df.labels).astype(\"int16\")\n",
    "# y = y.tolist()\n",
    "\n",
    "# Binary encode binary labels\n",
    "mlb = LabelEncoder().fit(df.labels)\n",
    "y = mlb.transform(df.labels).astype(\"int16\")\n",
    "y = y.tolist()\n",
    "\n",
    "print(\"Finished preprocessing\")\n",
    "\n",
    "# Train, val, test split\n",
    "df_train, df_val, df_test = data.split_df(\n",
    "    df, \"Patient ID\", split, total_filter=data_filter\n",
    ")\n",
    "df_train = df_train.path.to_list()\n",
    "df_val = df_val.path.to_list()\n",
    "df_test = df_test.path.to_list()\n"
   ]
  },
  {
   "cell_type": "code",
   "execution_count": 23,
   "id": "8cc2bc09-e4d5-4a17-aa40-650cafd6f4f8",
   "metadata": {},
   "outputs": [],
   "source": [
    "ds_train = data.make_dataset(path_to_png, 32, df_train, y)\n",
    "ds_val = data.make_dataset(path_to_png, 32, df_val, y)\n",
    "ds_test = data.make_dataset(path_to_png, 32, df_test, y, test_set=True)\n"
   ]
  },
  {
   "cell_type": "code",
   "execution_count": 16,
   "id": "07099d54-bcd0-48ad-b6b1-927069f06112",
   "metadata": {},
   "outputs": [
    {
     "name": "stderr",
     "output_type": "stream",
     "text": [
      "2021-10-21 14:27:21.877129: E tensorflow/stream_executor/cuda/cuda_driver.cc:271] failed call to cuInit: CUDA_ERROR_NO_DEVICE: no CUDA-capable device is detected\n",
      "2021-10-21 14:27:21.877165: I tensorflow/stream_executor/cuda/cuda_diagnostics.cc:156] kernel driver does not appear to be running on this host (alienware): /proc/driver/nvidia/version does not exist\n",
      "2021-10-21 14:27:21.878074: I tensorflow/core/platform/cpu_feature_guard.cc:142] This TensorFlow binary is optimized with oneAPI Deep Neural Network Library (oneDNN) to use the following CPU instructions in performance-critical operations:  AVX2 FMA\n",
      "To enable them in other operations, rebuild TensorFlow with the appropriate compiler flags.\n"
     ]
    }
   ],
   "source": [
    "\n",
    "model_dir = 'models/binary/vgg16/'\n",
    "filename = '2021-10-20_21:00:26.367062'\n",
    "dest_dir = '../../models/binary/gg16'\n",
    "model_bin = load_model.load_model_from_gcp(model_dir, filename, dest_dir)"
   ]
  },
  {
   "cell_type": "code",
   "execution_count": null,
   "id": "c743b32e-4895-482a-8fa8-0e04a70c4e5d",
   "metadata": {},
   "outputs": [
    {
     "name": "stderr",
     "output_type": "stream",
     "text": [
      "2021-10-21 14:29:09.906481: I tensorflow/core/kernels/data/shuffle_dataset_op.cc:175] Filling up shuffle buffer (this may take a while): 71 of 1000\n",
      "2021-10-21 14:29:19.903692: I tensorflow/core/kernels/data/shuffle_dataset_op.cc:175] Filling up shuffle buffer (this may take a while): 153 of 1000\n",
      "2021-10-21 14:29:30.100431: I tensorflow/core/kernels/data/shuffle_dataset_op.cc:175] Filling up shuffle buffer (this may take a while): 242 of 1000\n",
      "2021-10-21 14:29:40.190505: I tensorflow/core/kernels/data/shuffle_dataset_op.cc:175] Filling up shuffle buffer (this may take a while): 330 of 1000\n",
      "2021-10-21 14:29:50.249607: I tensorflow/core/kernels/data/shuffle_dataset_op.cc:175] Filling up shuffle buffer (this may take a while): 381 of 1000\n",
      "2021-10-21 14:30:00.384719: I tensorflow/core/kernels/data/shuffle_dataset_op.cc:175] Filling up shuffle buffer (this may take a while): 464 of 1000\n",
      "2021-10-21 14:30:09.948411: I tensorflow/core/kernels/data/shuffle_dataset_op.cc:175] Filling up shuffle buffer (this may take a while): 554 of 1000\n",
      "2021-10-21 14:30:19.908247: I tensorflow/core/kernels/data/shuffle_dataset_op.cc:175] Filling up shuffle buffer (this may take a while): 641 of 1000\n",
      "2021-10-21 14:30:30.113287: I tensorflow/core/kernels/data/shuffle_dataset_op.cc:175] Filling up shuffle buffer (this may take a while): 725 of 1000\n",
      "2021-10-21 14:30:39.895367: I tensorflow/core/kernels/data/shuffle_dataset_op.cc:175] Filling up shuffle buffer (this may take a while): 807 of 1000\n",
      "2021-10-21 14:30:50.029443: I tensorflow/core/kernels/data/shuffle_dataset_op.cc:175] Filling up shuffle buffer (this may take a while): 881 of 1000\n",
      "2021-10-21 14:31:00.037246: I tensorflow/core/kernels/data/shuffle_dataset_op.cc:175] Filling up shuffle buffer (this may take a while): 977 of 1000\n",
      "2021-10-21 14:31:02.276191: I tensorflow/core/kernels/data/shuffle_dataset_op.cc:228] Shuffle buffer filled.\n"
     ]
    }
   ],
   "source": [
    "model_bin.predict(ds_test)"
   ]
  },
  {
   "cell_type": "code",
   "execution_count": null,
   "id": "9269bc6d-922a-4a2f-808e-8497fb3585a9",
   "metadata": {},
   "outputs": [],
   "source": [
    "mobilenet_1.00_224"
   ]
  }
 ],
 "metadata": {
  "kernelspec": {
   "display_name": "Python 3 (ipykernel)",
   "language": "python",
   "name": "python3"
  },
  "language_info": {
   "codemirror_mode": {
    "name": "ipython",
    "version": 3
   },
   "file_extension": ".py",
   "mimetype": "text/x-python",
   "name": "python",
   "nbconvert_exporter": "python",
   "pygments_lexer": "ipython3",
   "version": "3.8.6"
  }
 },
 "nbformat": 4,
 "nbformat_minor": 5
}
