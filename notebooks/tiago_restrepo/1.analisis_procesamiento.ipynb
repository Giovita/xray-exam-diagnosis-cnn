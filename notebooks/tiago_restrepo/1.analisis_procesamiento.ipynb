{
 "cells": [
  {
   "cell_type": "markdown",
   "id": "b971f97a",
   "metadata": {
    "heading_collapsed": true
   },
   "source": [
    "## Funciones Extra "
   ]
  },
  {
   "cell_type": "code",
   "execution_count": 1,
   "id": "731fcad7",
   "metadata": {
    "hidden": true
   },
   "outputs": [],
   "source": [
    "# function to get unique values\n",
    "def unique(list1):\n",
    "    # intilize a null list\n",
    "    unique_list = []\n",
    "    # traverse for all elements\n",
    "    for x in list1:\n",
    "        # check if exists in unique_list or not\n",
    "        if x not in unique_list:\n",
    "            unique_list.append(x)\n",
    "    return unique_list\n",
    "\n",
    "def splitClasses(string):\n",
    "    return string.split('|')\n",
    "\n",
    "def getAllDifferentClasses(dataframe, column):\n",
    "    labels = xray_df[column].unique()\n",
    "    anidada = [splitClasses(cs) for cs in labels]\n",
    "    labels = [l for lista in anidada for l in lista]\n",
    "    return unique(labels)\n",
    "\n",
    "def getCountsDataFrame(df, column, labels):\n",
    "    col = df[column]\n",
    "    diccionario  = {l:0 for l in labels}\n",
    "    for element in col:\n",
    "        lsplit = splitClasses(element)\n",
    "        #print(lsplit)\n",
    "        for l_individual in lsplit:\n",
    "            #print(diccionario[l_individual])\n",
    "            diccionario[l_individual] += 1\n",
    "    return diccionario\n",
    "\n",
    "def getCountsColumn(col, labels):\n",
    "    diccionario  = {l:0 for l in labels}\n",
    "    for element in col:\n",
    "        lsplit = splitClasses(element)\n",
    "        #print(lsplit)\n",
    "        for l_individual in lsplit:\n",
    "            #print(diccionario[l_individual])\n",
    "            diccionario[l_individual] += 1\n",
    "    return diccionario\n",
    "        \n",
    "def plotCounts(counts_dict, graphWidth, name='Counts'):\n",
    "    plt.figure(num=None, figsize=(graphWidth, graphWidth), dpi=80, facecolor='w', edgecolor='k')\n",
    "    plt.xticks(rotation='vertical')\n",
    "    plt.title(name)\n",
    "    plt.bar(*zip(*counts_dict.items()), color=['red', 'green', 'blue', 'cyan', 'black'])\n",
    "    plt.show()\n",
    "    \n",
    "def countPairs(df, column, la, lb):\n",
    "    col = df[column]\n",
    "    suma = 0\n",
    "    for element in col:\n",
    "        lsplit = splitClasses(element)\n",
    "        if la in lsplit and lb in lsplit:\n",
    "            suma += 1\n",
    "    return suma\n",
    "\n",
    "def coOcurrencia(dataframe, column):\n",
    "    #labelsmix = dataframe[column].unique()\n",
    "    labels = getAllDifferentClasses(dataframe, column)\n",
    "    n_labels = len(labels)\n",
    "    matrix_coo = np.zeros((n_labels,n_labels))\n",
    "    \n",
    "    for i, la in enumerate(labels):\n",
    "        max_count = 0\n",
    "        normalize = False;\n",
    "        for j, lb in enumerate(labels):\n",
    "            #search pair (la, lb)\n",
    "            count = countPairs(dataframe, 'Finding Labels', la, lb)\n",
    "            matrix_coo[i][j] = count\n",
    "            if count > max_count:\n",
    "                max_count = count\n",
    "                normalize = True\n",
    "        if normalize:\n",
    "            matrix_coo[i] = matrix_coo[i] * (1/max_count)\n",
    "    return labels, matrix_coo\n",
    "\n",
    "def plotCorrelationMatrix(labels, matrix, graphWidth, title='Correlation Matrix for'):\n",
    "    plt.figure(num=None, figsize=(graphWidth, graphWidth), dpi=80, facecolor='w', edgecolor='k')\n",
    "    corrMat = plt.matshow(matrix, fignum = 1)\n",
    "    plt.xticks(range(len(labels)), labels, rotation=90)\n",
    "    plt.yticks(range(len(labels)), labels)\n",
    "    plt.gca().xaxis.tick_bottom()\n",
    "    plt.colorbar(corrMat)\n",
    "    plt.title(title, fontsize=15)\n",
    "    plt.show()"
   ]
  },
  {
   "cell_type": "markdown",
   "id": "7716f17c",
   "metadata": {},
   "source": [
    "## Importaciones y Vista previa "
   ]
  },
  {
   "cell_type": "code",
   "execution_count": 2,
   "id": "266ee266",
   "metadata": {},
   "outputs": [],
   "source": [
    "import pandas as pd \n",
    "import numpy as np \n",
    "from itertools import chain\n",
    "\n",
    "import matplotlib.pyplot as plt\n",
    "import seaborn as sns\n",
    "\n",
    "pd.set_option('display.max_columns', 500)\n",
    "pd.set_option('display.max_rows', 500)\n"
   ]
  },
  {
   "cell_type": "code",
   "execution_count": 11,
   "id": "a6dc84ea-495d-40fe-8672-691fcfec356b",
   "metadata": {},
   "outputs": [
    {
     "name": "stdout",
     "output_type": "stream",
     "text": [
      "ARXIV_V5_CHESTXRAY.pdf\tData_Entry_2017.csv  LOG_CHESTXRAY.pdf\tval_list.csv\n",
      "BBox_List_2017.csv\tFAQ_CHESTXRAY.pdf    test_list.csv\n"
     ]
    }
   ],
   "source": [
    "!ls ../../raw_data/full-dataset"
   ]
  },
  {
   "cell_type": "code",
   "execution_count": 13,
   "id": "db09c212",
   "metadata": {},
   "outputs": [],
   "source": [
    "xray_df = pd.read_csv('../../raw_data/full-dataset/Data_Entry_2017.csv')"
   ]
  },
  {
   "cell_type": "code",
   "execution_count": 14,
   "id": "06ccea8c",
   "metadata": {},
   "outputs": [
    {
     "name": "stdout",
     "output_type": "stream",
     "text": [
      "There are 112120 rows and 12 columns\n"
     ]
    },
    {
     "data": {
      "text/html": [
       "<div>\n",
       "<style scoped>\n",
       "    .dataframe tbody tr th:only-of-type {\n",
       "        vertical-align: middle;\n",
       "    }\n",
       "\n",
       "    .dataframe tbody tr th {\n",
       "        vertical-align: top;\n",
       "    }\n",
       "\n",
       "    .dataframe thead th {\n",
       "        text-align: right;\n",
       "    }\n",
       "</style>\n",
       "<table border=\"1\" class=\"dataframe\">\n",
       "  <thead>\n",
       "    <tr style=\"text-align: right;\">\n",
       "      <th></th>\n",
       "      <th>Image Index</th>\n",
       "      <th>Finding Labels</th>\n",
       "      <th>Follow-up #</th>\n",
       "      <th>Patient ID</th>\n",
       "      <th>Patient Age</th>\n",
       "      <th>Patient Gender</th>\n",
       "      <th>View Position</th>\n",
       "      <th>OriginalImage[Width</th>\n",
       "      <th>Height]</th>\n",
       "      <th>OriginalImagePixelSpacing[x</th>\n",
       "      <th>y]</th>\n",
       "      <th>Unnamed: 11</th>\n",
       "    </tr>\n",
       "  </thead>\n",
       "  <tbody>\n",
       "    <tr>\n",
       "      <th>14904</th>\n",
       "      <td>00003892_000.png</td>\n",
       "      <td>No Finding</td>\n",
       "      <td>0</td>\n",
       "      <td>3892</td>\n",
       "      <td>47</td>\n",
       "      <td>M</td>\n",
       "      <td>PA</td>\n",
       "      <td>2048</td>\n",
       "      <td>2500</td>\n",
       "      <td>0.171</td>\n",
       "      <td>0.171</td>\n",
       "      <td>NaN</td>\n",
       "    </tr>\n",
       "    <tr>\n",
       "      <th>27909</th>\n",
       "      <td>00007274_006.png</td>\n",
       "      <td>Nodule</td>\n",
       "      <td>6</td>\n",
       "      <td>7274</td>\n",
       "      <td>32</td>\n",
       "      <td>F</td>\n",
       "      <td>PA</td>\n",
       "      <td>2048</td>\n",
       "      <td>2500</td>\n",
       "      <td>0.168</td>\n",
       "      <td>0.168</td>\n",
       "      <td>NaN</td>\n",
       "    </tr>\n",
       "    <tr>\n",
       "      <th>60118</th>\n",
       "      <td>00014839_005.png</td>\n",
       "      <td>Mass</td>\n",
       "      <td>5</td>\n",
       "      <td>14839</td>\n",
       "      <td>30</td>\n",
       "      <td>F</td>\n",
       "      <td>PA</td>\n",
       "      <td>2992</td>\n",
       "      <td>2991</td>\n",
       "      <td>0.143</td>\n",
       "      <td>0.143</td>\n",
       "      <td>NaN</td>\n",
       "    </tr>\n",
       "    <tr>\n",
       "      <th>58967</th>\n",
       "      <td>00014596_009.png</td>\n",
       "      <td>No Finding</td>\n",
       "      <td>9</td>\n",
       "      <td>14596</td>\n",
       "      <td>53</td>\n",
       "      <td>M</td>\n",
       "      <td>AP</td>\n",
       "      <td>2500</td>\n",
       "      <td>2048</td>\n",
       "      <td>0.168</td>\n",
       "      <td>0.168</td>\n",
       "      <td>NaN</td>\n",
       "    </tr>\n",
       "    <tr>\n",
       "      <th>53736</th>\n",
       "      <td>00013572_012.png</td>\n",
       "      <td>No Finding</td>\n",
       "      <td>12</td>\n",
       "      <td>13572</td>\n",
       "      <td>61</td>\n",
       "      <td>F</td>\n",
       "      <td>PA</td>\n",
       "      <td>2550</td>\n",
       "      <td>2565</td>\n",
       "      <td>0.143</td>\n",
       "      <td>0.143</td>\n",
       "      <td>NaN</td>\n",
       "    </tr>\n",
       "  </tbody>\n",
       "</table>\n",
       "</div>"
      ],
      "text/plain": [
       "            Image Index Finding Labels  Follow-up #  Patient ID  Patient Age  \\\n",
       "14904  00003892_000.png     No Finding            0        3892           47   \n",
       "27909  00007274_006.png         Nodule            6        7274           32   \n",
       "60118  00014839_005.png           Mass            5       14839           30   \n",
       "58967  00014596_009.png     No Finding            9       14596           53   \n",
       "53736  00013572_012.png     No Finding           12       13572           61   \n",
       "\n",
       "      Patient Gender View Position  OriginalImage[Width  Height]  \\\n",
       "14904              M            PA                 2048     2500   \n",
       "27909              F            PA                 2048     2500   \n",
       "60118              F            PA                 2992     2991   \n",
       "58967              M            AP                 2500     2048   \n",
       "53736              F            PA                 2550     2565   \n",
       "\n",
       "       OriginalImagePixelSpacing[x     y]  Unnamed: 11  \n",
       "14904                        0.171  0.171          NaN  \n",
       "27909                        0.168  0.168          NaN  \n",
       "60118                        0.143  0.143          NaN  \n",
       "58967                        0.168  0.168          NaN  \n",
       "53736                        0.143  0.143          NaN  "
      ]
     },
     "execution_count": 14,
     "metadata": {},
     "output_type": "execute_result"
    }
   ],
   "source": [
    "nRow, nCol = xray_df.shape\n",
    "print(f'There are {nRow} rows and {nCol} columns')\n",
    "xray_df.sample(5)"
   ]
  },
  {
   "cell_type": "code",
   "execution_count": 15,
   "id": "80ffc8a6",
   "metadata": {},
   "outputs": [
    {
     "name": "stdout",
     "output_type": "stream",
     "text": [
      "<class 'pandas.core.frame.DataFrame'>\n",
      "RangeIndex: 112120 entries, 0 to 112119\n",
      "Data columns (total 12 columns):\n",
      " #   Column                       Non-Null Count   Dtype  \n",
      "---  ------                       --------------   -----  \n",
      " 0   Image Index                  112120 non-null  object \n",
      " 1   Finding Labels               112120 non-null  object \n",
      " 2   Follow-up #                  112120 non-null  int64  \n",
      " 3   Patient ID                   112120 non-null  int64  \n",
      " 4   Patient Age                  112120 non-null  int64  \n",
      " 5   Patient Gender               112120 non-null  object \n",
      " 6   View Position                112120 non-null  object \n",
      " 7   OriginalImage[Width          112120 non-null  int64  \n",
      " 8   Height]                      112120 non-null  int64  \n",
      " 9   OriginalImagePixelSpacing[x  112120 non-null  float64\n",
      " 10  y]                           112120 non-null  float64\n",
      " 11  Unnamed: 11                  0 non-null       float64\n",
      "dtypes: float64(3), int64(5), object(4)\n",
      "memory usage: 10.3+ MB\n"
     ]
    }
   ],
   "source": [
    "xray_df.info()"
   ]
  },
  {
   "cell_type": "code",
   "execution_count": 16,
   "id": "b5ae4a9b",
   "metadata": {},
   "outputs": [],
   "source": [
    "# La columna no contiene nada \n",
    "xray_df.drop(columns= 'Unnamed: 11', inplace=True )"
   ]
  },
  {
   "cell_type": "markdown",
   "id": "06a5b446",
   "metadata": {},
   "source": [
    "## Encoding\n",
    "El conjunto de datos de NIH contiene ejemplos de diversas enfermedades, todas estas estan reportadas en la columna Findings Labels.se agregará una columna binaria para cada enfermedad, esto facilita el análisis y entrenamiento.\n"
   ]
  },
  {
   "cell_type": "code",
   "execution_count": 17,
   "id": "d65b7296",
   "metadata": {},
   "outputs": [],
   "source": [
    "# Generacion columna conteo de enfermedades por imagen \n",
    "xray_df['count_diseases'] = xray_df['Finding Labels'].map(lambda x: len(x.split('|')))"
   ]
  },
  {
   "cell_type": "code",
   "execution_count": 18,
   "id": "0f643011",
   "metadata": {},
   "outputs": [
    {
     "name": "stdout",
     "output_type": "stream",
     "text": [
      "All Labels (15): ['Atelectasis', 'Cardiomegaly', 'Consolidation', 'Edema', 'Effusion', 'Emphysema', 'Fibrosis', 'Hernia', 'Infiltration', 'Mass', 'No Finding', 'Nodule', 'Pleural_Thickening', 'Pneumonia', 'Pneumothorax']\n"
     ]
    }
   ],
   "source": [
    "all_labels = np.unique(list(chain(*xray_df['Finding Labels'].map(lambda x: x.split('|')).tolist())))\n",
    "all_labels = [x for x in all_labels if len(x)>0]\n",
    "\n",
    "print('All Labels ({}): {}'.format(len(all_labels), all_labels))\n"
   ]
  },
  {
   "cell_type": "code",
   "execution_count": 19,
   "id": "22a91148",
   "metadata": {},
   "outputs": [
    {
     "data": {
      "text/html": [
       "<div>\n",
       "<style scoped>\n",
       "    .dataframe tbody tr th:only-of-type {\n",
       "        vertical-align: middle;\n",
       "    }\n",
       "\n",
       "    .dataframe tbody tr th {\n",
       "        vertical-align: top;\n",
       "    }\n",
       "\n",
       "    .dataframe thead th {\n",
       "        text-align: right;\n",
       "    }\n",
       "</style>\n",
       "<table border=\"1\" class=\"dataframe\">\n",
       "  <thead>\n",
       "    <tr style=\"text-align: right;\">\n",
       "      <th></th>\n",
       "      <th>Image Index</th>\n",
       "      <th>Finding Labels</th>\n",
       "      <th>Follow-up #</th>\n",
       "      <th>Patient ID</th>\n",
       "      <th>Patient Age</th>\n",
       "      <th>Patient Gender</th>\n",
       "      <th>View Position</th>\n",
       "      <th>OriginalImage[Width</th>\n",
       "      <th>Height]</th>\n",
       "      <th>OriginalImagePixelSpacing[x</th>\n",
       "      <th>y]</th>\n",
       "      <th>count_diseases</th>\n",
       "      <th>Atelectasis</th>\n",
       "      <th>Cardiomegaly</th>\n",
       "      <th>Consolidation</th>\n",
       "      <th>Edema</th>\n",
       "      <th>Effusion</th>\n",
       "      <th>Emphysema</th>\n",
       "      <th>Fibrosis</th>\n",
       "      <th>Hernia</th>\n",
       "      <th>Infiltration</th>\n",
       "      <th>Mass</th>\n",
       "      <th>No Finding</th>\n",
       "      <th>Nodule</th>\n",
       "      <th>Pleural_Thickening</th>\n",
       "      <th>Pneumonia</th>\n",
       "      <th>Pneumothorax</th>\n",
       "    </tr>\n",
       "  </thead>\n",
       "  <tbody>\n",
       "    <tr>\n",
       "      <th>8839</th>\n",
       "      <td>00002337_000.png</td>\n",
       "      <td>Fibrosis</td>\n",
       "      <td>0</td>\n",
       "      <td>2337</td>\n",
       "      <td>54</td>\n",
       "      <td>M</td>\n",
       "      <td>PA</td>\n",
       "      <td>2500</td>\n",
       "      <td>2048</td>\n",
       "      <td>0.168</td>\n",
       "      <td>0.168</td>\n",
       "      <td>1</td>\n",
       "      <td>0.0</td>\n",
       "      <td>0.0</td>\n",
       "      <td>0.0</td>\n",
       "      <td>0.0</td>\n",
       "      <td>0.0</td>\n",
       "      <td>0.0</td>\n",
       "      <td>1.0</td>\n",
       "      <td>0.0</td>\n",
       "      <td>0.0</td>\n",
       "      <td>0.0</td>\n",
       "      <td>0.0</td>\n",
       "      <td>0.0</td>\n",
       "      <td>0.0</td>\n",
       "      <td>0.0</td>\n",
       "      <td>0.0</td>\n",
       "    </tr>\n",
       "    <tr>\n",
       "      <th>15658</th>\n",
       "      <td>00004116_000.png</td>\n",
       "      <td>No Finding</td>\n",
       "      <td>0</td>\n",
       "      <td>4116</td>\n",
       "      <td>49</td>\n",
       "      <td>M</td>\n",
       "      <td>PA</td>\n",
       "      <td>2048</td>\n",
       "      <td>2500</td>\n",
       "      <td>0.171</td>\n",
       "      <td>0.171</td>\n",
       "      <td>1</td>\n",
       "      <td>0.0</td>\n",
       "      <td>0.0</td>\n",
       "      <td>0.0</td>\n",
       "      <td>0.0</td>\n",
       "      <td>0.0</td>\n",
       "      <td>0.0</td>\n",
       "      <td>0.0</td>\n",
       "      <td>0.0</td>\n",
       "      <td>0.0</td>\n",
       "      <td>0.0</td>\n",
       "      <td>1.0</td>\n",
       "      <td>0.0</td>\n",
       "      <td>0.0</td>\n",
       "      <td>0.0</td>\n",
       "      <td>0.0</td>\n",
       "    </tr>\n",
       "    <tr>\n",
       "      <th>6222</th>\n",
       "      <td>00001684_023.png</td>\n",
       "      <td>Atelectasis</td>\n",
       "      <td>23</td>\n",
       "      <td>1684</td>\n",
       "      <td>58</td>\n",
       "      <td>M</td>\n",
       "      <td>AP</td>\n",
       "      <td>2500</td>\n",
       "      <td>2048</td>\n",
       "      <td>0.168</td>\n",
       "      <td>0.168</td>\n",
       "      <td>1</td>\n",
       "      <td>1.0</td>\n",
       "      <td>0.0</td>\n",
       "      <td>0.0</td>\n",
       "      <td>0.0</td>\n",
       "      <td>0.0</td>\n",
       "      <td>0.0</td>\n",
       "      <td>0.0</td>\n",
       "      <td>0.0</td>\n",
       "      <td>0.0</td>\n",
       "      <td>0.0</td>\n",
       "      <td>0.0</td>\n",
       "      <td>0.0</td>\n",
       "      <td>0.0</td>\n",
       "      <td>0.0</td>\n",
       "      <td>0.0</td>\n",
       "    </tr>\n",
       "  </tbody>\n",
       "</table>\n",
       "</div>"
      ],
      "text/plain": [
       "            Image Index Finding Labels  Follow-up #  Patient ID  Patient Age  \\\n",
       "8839   00002337_000.png       Fibrosis            0        2337           54   \n",
       "15658  00004116_000.png     No Finding            0        4116           49   \n",
       "6222   00001684_023.png    Atelectasis           23        1684           58   \n",
       "\n",
       "      Patient Gender View Position  OriginalImage[Width  Height]  \\\n",
       "8839               M            PA                 2500     2048   \n",
       "15658              M            PA                 2048     2500   \n",
       "6222               M            AP                 2500     2048   \n",
       "\n",
       "       OriginalImagePixelSpacing[x     y]  count_diseases  Atelectasis  \\\n",
       "8839                         0.168  0.168               1          0.0   \n",
       "15658                        0.171  0.171               1          0.0   \n",
       "6222                         0.168  0.168               1          1.0   \n",
       "\n",
       "       Cardiomegaly  Consolidation  Edema  Effusion  Emphysema  Fibrosis  \\\n",
       "8839            0.0            0.0    0.0       0.0        0.0       1.0   \n",
       "15658           0.0            0.0    0.0       0.0        0.0       0.0   \n",
       "6222            0.0            0.0    0.0       0.0        0.0       0.0   \n",
       "\n",
       "       Hernia  Infiltration  Mass  No Finding  Nodule  Pleural_Thickening  \\\n",
       "8839      0.0           0.0   0.0         0.0     0.0                 0.0   \n",
       "15658     0.0           0.0   0.0         1.0     0.0                 0.0   \n",
       "6222      0.0           0.0   0.0         0.0     0.0                 0.0   \n",
       "\n",
       "       Pneumonia  Pneumothorax  \n",
       "8839         0.0           0.0  \n",
       "15658        0.0           0.0  \n",
       "6222         0.0           0.0  "
      ]
     },
     "execution_count": 19,
     "metadata": {},
     "output_type": "execute_result"
    }
   ],
   "source": [
    "for c_label in all_labels:\n",
    "    if len(c_label)>1: # leave out empty labels\n",
    "        xray_df[c_label] = xray_df['Finding Labels'].map(lambda finding: 1.0 if c_label in finding else 0)\n",
    "\n",
    "xray_df.sample(3)    "
   ]
  },
  {
   "cell_type": "markdown",
   "id": "4e619c50",
   "metadata": {},
   "source": [
    "## Estudio de la población\n"
   ]
  },
  {
   "cell_type": "markdown",
   "id": "abe7ec05",
   "metadata": {},
   "source": [
    "### EDAD "
   ]
  },
  {
   "cell_type": "code",
   "execution_count": 20,
   "id": "9a08024c",
   "metadata": {},
   "outputs": [
    {
     "name": "stdout",
     "output_type": "stream",
     "text": [
      "Average poblation age:  46.90146271851587\n",
      "Younger patient: 1\n",
      "Older patient 414\n"
     ]
    },
    {
     "data": {
      "image/png": "[encoded data removed]",
      "text/plain": [
       "<Figure size 720x288 with 1 Axes>"
      ]
     },
     "metadata": {
      "needs_background": "light"
     },
     "output_type": "display_data"
    }
   ],
   "source": [
    "# Get average Age\n",
    "ages = xray_df['Patient Age']\n",
    "\n",
    "average_age = np.average(ages)\n",
    "print(\"Average poblation age: \", average_age)\n",
    "print(\"Younger patient:\", np.min(ages))\n",
    "print(\"Older patient\", np.amax(ages))\n",
    "\n",
    "fig = plt.subplots(figsize = (10, 4))\n",
    "\n",
    "plt.subplot(1, 1,1)\n",
    "plt.subplots_adjust(hspace = 1.0)\n",
    "ax = plt.hist(ages, bins=[0,10,20,30,40,50,60,70,80,90,99])\n",
    "plt.title('Patiens age distribution')\n",
    "plt.tight_layout()"
   ]
  },
  {
   "cell_type": "code",
   "execution_count": 21,
   "id": "3a7ac1c6",
   "metadata": {},
   "outputs": [
    {
     "name": "stdout",
     "output_type": "stream",
     "text": [
      "Cantidad de pacientes mayores a 100 años :  16\n"
     ]
    }
   ],
   "source": [
    "df_mayor100 = xray_df[xray_df['Patient Age'] > 100]\n",
    "index_mayor100 = list(df_mayor100.index)\n",
    "print('Cantidad de pacientes mayores a 100 años : ',df_mayor100.shape[0])"
   ]
  },
  {
   "cell_type": "code",
   "execution_count": 22,
   "id": "410c3a71",
   "metadata": {},
   "outputs": [],
   "source": [
    "#drop años sin sentido \n",
    "xray_df = xray_df.drop(index_mayor100)"
   ]
  },
  {
   "cell_type": "code",
   "execution_count": 23,
   "id": "91c34a65",
   "metadata": {},
   "outputs": [
    {
     "name": "stdout",
     "output_type": "stream",
     "text": [
      "['Atelectasis', 'Cardiomegaly', 'Consolidation', 'Edema', 'Effusion', 'Emphysema', 'Fibrosis', 'Hernia', 'Infiltration', 'Mass', 'No Finding', 'Nodule', 'Pleural_Thickening', 'Pneumonia', 'Pneumothorax'] \n",
      "\n",
      "Average poblation age:  46.06583663459725\n",
      "Younger patient: 2\n",
      "Older patient 152\n"
     ]
    },
    {
     "data": {
      "image/png": "[encoded data removed]",
      "text/plain": [
       "<Figure size 432x288 with 1 Axes>"
      ]
     },
     "metadata": {
      "needs_background": "light"
     },
     "output_type": "display_data"
    }
   ],
   "source": [
    "# Imprimir distribucion de la enfermedad por edad \n",
    "print(all_labels,'\\n')\n",
    "with_disease = np.array(xray_df['Pneumothorax'])\n",
    "indexes = np.where(with_disease==1)[0]\n",
    "ages_pneu = ages[list(indexes)]\n",
    "\n",
    "print(\"Average poblation age: \", np.average(ages_pneu))\n",
    "print(\"Younger patient:\", np.min(ages_pneu))\n",
    "print(\"Older patient\", np.amax(ages_pneu))\n",
    "\n",
    "\n",
    "plt.hist(ages_pneu, bins=[0,10,20,30,40,50,60,70,80,90,99])\n",
    "plt.tight_layout()"
   ]
  },
  {
   "cell_type": "markdown",
   "id": "9321f0b7",
   "metadata": {},
   "source": [
    "#### Conclusiones\n",
    "1. Eliminar los pacientes mayores a 100"
   ]
  },
  {
   "cell_type": "markdown",
   "id": "ad6ddab3",
   "metadata": {},
   "source": [
    "### Genero"
   ]
  },
  {
   "cell_type": "code",
   "execution_count": 24,
   "id": "e755820b",
   "metadata": {},
   "outputs": [
    {
     "data": {
      "text/plain": [
       "M    63328\n",
       "F    48776\n",
       "Name: Patient Gender, dtype: int64"
      ]
     },
     "execution_count": 24,
     "metadata": {},
     "output_type": "execute_result"
    }
   ],
   "source": [
    "xray_df['Patient Gender'].value_counts()"
   ]
  },
  {
   "cell_type": "code",
   "execution_count": 25,
   "id": "7155ddf6",
   "metadata": {},
   "outputs": [
    {
     "name": "stdout",
     "output_type": "stream",
     "text": [
      "Cantidad pacientes NO enfermos: 60353\n"
     ]
    },
    {
     "data": {
      "image/png": "[encoded data removed]",
      "text/plain": [
       "<Figure size 432x288 with 1 Axes>"
      ]
     },
     "metadata": {
      "needs_background": "light"
     },
     "output_type": "display_data"
    }
   ],
   "source": [
    "no_enfermos = xray_df[xray_df['No Finding'] == 1]\n",
    "index_no_enfermos = list(no_enfermos.index)\n",
    "print('Cantidad pacientes NO enfermos:', no_enfermos.shape[0])\n",
    "no_enfermos = no_enfermos['Patient Gender'].value_counts()\n",
    "plt.title('NO enfermos por genero')\n",
    "no_enfermos.plot(kind = 'bar',color=['red', 'green']);"
   ]
  },
  {
   "cell_type": "code",
   "execution_count": 26,
   "id": "78ade207",
   "metadata": {},
   "outputs": [
    {
     "name": "stdout",
     "output_type": "stream",
     "text": [
      "Cantidad pacientes enfermos: 51751\n"
     ]
    },
    {
     "data": {
      "image/png": "[encoded data removed]",
      "text/plain": [
       "<Figure size 432x288 with 1 Axes>"
      ]
     },
     "metadata": {
      "needs_background": "light"
     },
     "output_type": "display_data"
    }
   ],
   "source": [
    "enfermos = xray_df.drop(index_no_enfermos)\n",
    "print('Cantidad pacientes enfermos:', enfermos.shape[0])\n",
    "plot_genero = enfermos['Patient Gender'].value_counts()\n",
    "plt.title('enfermos por genero')\n",
    "plot_genero.plot(kind = 'bar',color=['red', 'green']);"
   ]
  },
  {
   "cell_type": "code",
   "execution_count": 27,
   "id": "f7c9a568",
   "metadata": {},
   "outputs": [
    {
     "name": "stdout",
     "output_type": "stream",
     "text": [
      "['Atelectasis', 'Cardiomegaly', 'Consolidation', 'Edema', 'Effusion', 'Emphysema', 'Fibrosis', 'Hernia', 'Infiltration', 'Mass', 'No Finding', 'Nodule', 'Pleural_Thickening', 'Pneumonia', 'Pneumothorax'] \n",
      "\n"
     ]
    },
    {
     "data": {
      "image/png": "[encoded data removed]",
      "text/plain": [
       "<Figure size 432x288 with 1 Axes>"
      ]
     },
     "metadata": {
      "needs_background": "light"
     },
     "output_type": "display_data"
    }
   ],
   "source": [
    "genero = xray_df['Patient Gender']\n",
    "print(all_labels,'\\n')\n",
    "\n",
    "disease = 'Pleural_Thickening'\n",
    "with_disease = xray_df[xray_df[disease]==1]\n",
    "plot_disease = with_disease['Patient Gender'].value_counts()\n",
    "plt.title(f'enfermos de {disease} por genero')\n",
    "plot_disease.plot(kind = 'bar',color=['red', 'green']);"
   ]
  },
  {
   "cell_type": "markdown",
   "id": "92755aa0",
   "metadata": {},
   "source": [
    "#### Conclusiones \n",
    "1. Hay mas masculino tanto en los enfermos como en los No enfermos "
   ]
  },
  {
   "cell_type": "markdown",
   "id": "13e2e2d4",
   "metadata": {},
   "source": [
    "### Distribución de las enfermedades halladas\n"
   ]
  },
  {
   "cell_type": "code",
   "execution_count": 28,
   "id": "d9980de7",
   "metadata": {},
   "outputs": [
    {
     "name": "stdout",
     "output_type": "stream",
     "text": [
      "['Atelectasis', 'Cardiomegaly', 'Consolidation', 'Edema', 'Effusion', 'Emphysema', 'Fibrosis', 'Hernia', 'Infiltration', 'Mass', 'No Finding', 'Nodule', 'Pleural_Thickening', 'Pneumonia', 'Pneumothorax']\n"
     ]
    }
   ],
   "source": [
    "print(all_labels)"
   ]
  },
  {
   "cell_type": "code",
   "execution_count": 29,
   "id": "e9b5d827",
   "metadata": {},
   "outputs": [
    {
     "data": {
      "image/png": "[encoded data removed]",
      "text/plain": [
       "<Figure size 480x480 with 1 Axes>"
      ]
     },
     "metadata": {},
     "output_type": "display_data"
    },
    {
     "name": "stdout",
     "output_type": "stream",
     "text": [
      "Conteo de Hernia: 227\n"
     ]
    }
   ],
   "source": [
    "# Plot disease labels distribution\n",
    "column = 'Finding Labels'\n",
    "labels = getAllDifferentClasses(xray_df, column)\n",
    "dict_counts = getCountsDataFrame(xray_df, column, labels)\n",
    "\n",
    "plotCounts(dict_counts, 6, name= 'Disease labels distribution')\n",
    "\n",
    "disease = 'Hernia'\n",
    "\n",
    "print(f'Conteo de {disease}:', dict_counts[disease])"
   ]
  },
  {
   "cell_type": "code",
   "execution_count": 30,
   "id": "2e228d1c",
   "metadata": {},
   "outputs": [],
   "source": [
    "no_enfermos = xray_df[xray_df['No Finding'] == 1]\n",
    "enfermos = xray_df.drop(index_no_enfermos)"
   ]
  },
  {
   "cell_type": "code",
   "execution_count": 31,
   "id": "10681200",
   "metadata": {},
   "outputs": [
    {
     "name": "stdout",
     "output_type": "stream",
     "text": [
      "NO enfermos: 60353 \n",
      " Enfermos: 51751\n"
     ]
    },
    {
     "data": {
      "text/plain": [
       "112104"
      ]
     },
     "execution_count": 31,
     "metadata": {},
     "output_type": "execute_result"
    }
   ],
   "source": [
    "print('NO enfermos:',no_enfermos.shape[0],'\\n','Enfermos:',enfermos.shape[0])\n",
    "no_enfermos.shape[0]+enfermos.shape[0] "
   ]
  },
  {
   "cell_type": "code",
   "execution_count": 32,
   "id": "448161a6",
   "metadata": {},
   "outputs": [],
   "source": [
    "values = list(dict_counts.values())\n",
    "myInt = xray_df.shape[0]\n",
    "keys = list(dict_counts.keys())\n",
    "\n",
    "porcentaje = []\n",
    "for x in values:\n",
    "    porcentaje.append(x/myInt)\n"
   ]
  },
  {
   "cell_type": "code",
   "execution_count": 34,
   "id": "09403ec9",
   "metadata": {},
   "outputs": [],
   "source": [
    "# for p in porcentaje:\n",
    "#     for \n",
    "#     dict"
   ]
  },
  {
   "cell_type": "markdown",
   "id": "c77131fc",
   "metadata": {},
   "source": [
    "#### Conclusiones \n",
    "1.  Habra que  unificar algunas enfermedades o balancear el Dataset \n",
    "2. Clases desequilibradas en términos de hallazgos, la clase mayoritaria de \"sin hallazgos\" puede ser más de diez veces el número de ejemplos de la clase de neumonía. Por lo tanto, tenemos algunas técnicas para abordar el problema del desequilibrio, por ejemplo, en la etapa de entrenamiento, se puede hacer un sub-conjunto de datos balanceado usando submuestreo.\n",
    "3. porcentaje sobre el total FALTANTE "
   ]
  },
  {
   "cell_type": "markdown",
   "id": "1b344487",
   "metadata": {},
   "source": [
    "##  Distribución de las posiciones de vista\n"
   ]
  },
  {
   "cell_type": "markdown",
   "id": "48daf245",
   "metadata": {},
   "source": [
    "En las vistas **anteroposteriores (AP)**, las posiciones de la fuente y detector de rayos X son revertidas: los rayos X ingresan por el aspecto anterior y egresan por el aspecto posterior del tórax. **DELANTE HACIA ATRAS**\n",
    "\n",
    "En una vista **posteroanterior (PA)**, la fuente de rayos X se halla posicionada de manera tal que los rayos X ingresan por el aspecto posterior (espalda) del tórax y regresan por el aspecto anterior (frontal) donde los mismos son detectados. **ATRAS HACIA ADELANTE**"
   ]
  },
  {
   "cell_type": "code",
   "execution_count": 35,
   "id": "b4186ce8",
   "metadata": {},
   "outputs": [
    {
     "name": "stdout",
     "output_type": "stream",
     "text": [
      "['Atelectasis', 'Cardiomegaly', 'Consolidation', 'Edema', 'Effusion', 'Emphysema', 'Fibrosis', 'Hernia', 'Infiltration', 'Mass', 'No Finding', 'Nodule', 'Pleural_Thickening', 'Pneumonia', 'Pneumothorax'] \n",
      "\n"
     ]
    },
    {
     "data": {
      "text/plain": [
       "AP    44805\n",
       "PA    67299\n",
       "Name: View Position, dtype: int64"
      ]
     },
     "execution_count": 35,
     "metadata": {},
     "output_type": "execute_result"
    },
    {
     "data": {
      "image/png": "[encoded data removed]",
      "text/plain": [
       "<Figure size 432x288 with 1 Axes>"
      ]
     },
     "metadata": {
      "needs_background": "light"
     },
     "output_type": "display_data"
    }
   ],
   "source": [
    "genero = xray_df['View Position']\n",
    "print(all_labels,'\\n')\n",
    "\n",
    "plot_total = genero.value_counts().sort_index()\n",
    "plt.title(f'TOTAL posicion de vista')\n",
    "plot_total.plot(kind = 'bar',color=['blue', 'green']);\n",
    "\n",
    "plot_total"
   ]
  },
  {
   "cell_type": "code",
   "execution_count": 36,
   "id": "f0226481",
   "metadata": {},
   "outputs": [
    {
     "name": "stdout",
     "output_type": "stream",
     "text": [
      "['Atelectasis', 'Cardiomegaly', 'Consolidation', 'Edema', 'Effusion', 'Emphysema', 'Fibrosis', 'Hernia', 'Infiltration', 'Mass', 'No Finding', 'Nodule', 'Pleural_Thickening', 'Pneumonia', 'Pneumothorax'] \n",
      "\n"
     ]
    },
    {
     "data": {
      "text/plain": [
       "AP    6727\n",
       "PA    6589\n",
       "Name: View Position, dtype: int64"
      ]
     },
     "execution_count": 36,
     "metadata": {},
     "output_type": "execute_result"
    },
    {
     "data": {
      "image/png": "[encoded data removed]",
      "text/plain": [
       "<Figure size 432x288 with 1 Axes>"
      ]
     },
     "metadata": {
      "needs_background": "light"
     },
     "output_type": "display_data"
    }
   ],
   "source": [
    "genero = xray_df['View Position']\n",
    "print(all_labels,'\\n')\n",
    "\n",
    "disease = 'Effusion'\n",
    "with_disease = xray_df[xray_df[disease]==1]\n",
    "plot_disease = with_disease['View Position'].value_counts().sort_index()\n",
    "plt.title(f'enfermos de {disease} por posicion de vista')\n",
    "plot_disease.plot(kind = 'bar', color=['blue', 'green']);\n",
    "\n",
    "with_disease['View Position'].value_counts()"
   ]
  },
  {
   "cell_type": "markdown",
   "id": "66084a19",
   "metadata": {},
   "source": [
    "## Enfermedades X paciente  y Comorbilidad \n"
   ]
  },
  {
   "cell_type": "code",
   "execution_count": 37,
   "id": "252611ff",
   "metadata": {},
   "outputs": [],
   "source": [
    "no_enfermos = xray_df[xray_df['No Finding'] == 1]\n",
    "enfermos = xray_df.drop(index_no_enfermos)"
   ]
  },
  {
   "cell_type": "code",
   "execution_count": 38,
   "id": "bb0dfc94",
   "metadata": {},
   "outputs": [
    {
     "data": {
      "text/plain": [
       "1    60353\n",
       "Name: count_diseases, dtype: int64"
      ]
     },
     "execution_count": 38,
     "metadata": {},
     "output_type": "execute_result"
    },
    {
     "data": {
      "image/png": "[encoded data removed]",
      "text/plain": [
       "<Figure size 936x360 with 1 Axes>"
      ]
     },
     "metadata": {
      "needs_background": "light"
     },
     "output_type": "display_data"
    }
   ],
   "source": [
    "no_enfermos_plot = no_enfermos['count_diseases'].value_counts()\n",
    "plt.figure(figsize=(13,5))\n",
    "no_enfermos_plot.plot(kind = 'bar');\n",
    "no_enfermos_plot"
   ]
  },
  {
   "cell_type": "code",
   "execution_count": 39,
   "id": "49af85e6",
   "metadata": {},
   "outputs": [
    {
     "data": {
      "text/plain": [
       "1    30959\n",
       "2    14302\n",
       "3     4856\n",
       "4     1247\n",
       "5      301\n",
       "6       67\n",
       "7       16\n",
       "9        2\n",
       "8        1\n",
       "Name: count_diseases, dtype: int64"
      ]
     },
     "execution_count": 39,
     "metadata": {},
     "output_type": "execute_result"
    },
    {
     "data": {
      "image/png": "[encoded data removed]",
      "text/plain": [
       "<Figure size 936x360 with 1 Axes>"
      ]
     },
     "metadata": {
      "needs_background": "light"
     },
     "output_type": "display_data"
    }
   ],
   "source": [
    "disease_paciente = enfermos['count_diseases'].value_counts()\n",
    "plt.figure(figsize=(13,5))\n",
    "disease_paciente.plot(kind = 'bar');\n",
    "disease_paciente"
   ]
  },
  {
   "cell_type": "code",
   "execution_count": 40,
   "id": "9c787b03",
   "metadata": {},
   "outputs": [
    {
     "data": {
      "text/html": [
       "<div>\n",
       "<style scoped>\n",
       "    .dataframe tbody tr th:only-of-type {\n",
       "        vertical-align: middle;\n",
       "    }\n",
       "\n",
       "    .dataframe tbody tr th {\n",
       "        vertical-align: top;\n",
       "    }\n",
       "\n",
       "    .dataframe thead th {\n",
       "        text-align: right;\n",
       "    }\n",
       "</style>\n",
       "<table border=\"1\" class=\"dataframe\">\n",
       "  <thead>\n",
       "    <tr style=\"text-align: right;\">\n",
       "      <th></th>\n",
       "      <th>Finding Labels</th>\n",
       "    </tr>\n",
       "  </thead>\n",
       "  <tbody>\n",
       "    <tr>\n",
       "      <th>Effusion|Infiltration</th>\n",
       "      <td>1603</td>\n",
       "    </tr>\n",
       "    <tr>\n",
       "      <th>Atelectasis|Infiltration</th>\n",
       "      <td>1350</td>\n",
       "    </tr>\n",
       "    <tr>\n",
       "      <th>Atelectasis|Effusion</th>\n",
       "      <td>1165</td>\n",
       "    </tr>\n",
       "    <tr>\n",
       "      <th>Infiltration|Nodule</th>\n",
       "      <td>829</td>\n",
       "    </tr>\n",
       "    <tr>\n",
       "      <th>Cardiomegaly|Effusion</th>\n",
       "      <td>484</td>\n",
       "    </tr>\n",
       "    <tr>\n",
       "      <th>Consolidation|Infiltration</th>\n",
       "      <td>441</td>\n",
       "    </tr>\n",
       "    <tr>\n",
       "      <th>Infiltration|Mass</th>\n",
       "      <td>418</td>\n",
       "    </tr>\n",
       "    <tr>\n",
       "      <th>Effusion|Pneumothorax</th>\n",
       "      <td>403</td>\n",
       "    </tr>\n",
       "    <tr>\n",
       "      <th>Effusion|Mass</th>\n",
       "      <td>402</td>\n",
       "    </tr>\n",
       "    <tr>\n",
       "      <th>Atelectasis|Consolidation</th>\n",
       "      <td>398</td>\n",
       "    </tr>\n",
       "    <tr>\n",
       "      <th>Mass|Nodule</th>\n",
       "      <td>394</td>\n",
       "    </tr>\n",
       "    <tr>\n",
       "      <th>Edema|Infiltration</th>\n",
       "      <td>392</td>\n",
       "    </tr>\n",
       "    <tr>\n",
       "      <th>Infiltration|Pneumothorax</th>\n",
       "      <td>345</td>\n",
       "    </tr>\n",
       "    <tr>\n",
       "      <th>Consolidation|Effusion</th>\n",
       "      <td>337</td>\n",
       "    </tr>\n",
       "    <tr>\n",
       "      <th>Emphysema|Pneumothorax</th>\n",
       "      <td>337</td>\n",
       "    </tr>\n",
       "    <tr>\n",
       "      <th>Effusion|Pleural_Thickening</th>\n",
       "      <td>251</td>\n",
       "    </tr>\n",
       "    <tr>\n",
       "      <th>Effusion|Nodule</th>\n",
       "      <td>249</td>\n",
       "    </tr>\n",
       "    <tr>\n",
       "      <th>Atelectasis|Pneumothorax</th>\n",
       "      <td>240</td>\n",
       "    </tr>\n",
       "    <tr>\n",
       "      <th>Infiltration|Pleural_Thickening</th>\n",
       "      <td>210</td>\n",
       "    </tr>\n",
       "  </tbody>\n",
       "</table>\n",
       "</div>"
      ],
      "text/plain": [
       "                                 Finding Labels\n",
       "Effusion|Infiltration                      1603\n",
       "Atelectasis|Infiltration                   1350\n",
       "Atelectasis|Effusion                       1165\n",
       "Infiltration|Nodule                         829\n",
       "Cardiomegaly|Effusion                       484\n",
       "Consolidation|Infiltration                  441\n",
       "Infiltration|Mass                           418\n",
       "Effusion|Pneumothorax                       403\n",
       "Effusion|Mass                               402\n",
       "Atelectasis|Consolidation                   398\n",
       "Mass|Nodule                                 394\n",
       "Edema|Infiltration                          392\n",
       "Infiltration|Pneumothorax                   345\n",
       "Consolidation|Effusion                      337\n",
       "Emphysema|Pneumothorax                      337\n",
       "Effusion|Pleural_Thickening                 251\n",
       "Effusion|Nodule                             249\n",
       "Atelectasis|Pneumothorax                    240\n",
       "Infiltration|Pleural_Thickening             210"
      ]
     },
     "execution_count": 40,
     "metadata": {},
     "output_type": "execute_result"
    }
   ],
   "source": [
    "df = enfermos[enfermos['count_diseases']==2]\n",
    "df_2 = df['Finding Labels'].value_counts().to_frame()\n",
    "df_2[df_2['Finding Labels'] > 200]"
   ]
  },
  {
   "cell_type": "code",
   "execution_count": 41,
   "id": "b82cea6f",
   "metadata": {},
   "outputs": [
    {
     "data": {
      "text/html": [
       "<div>\n",
       "<style scoped>\n",
       "    .dataframe tbody tr th:only-of-type {\n",
       "        vertical-align: middle;\n",
       "    }\n",
       "\n",
       "    .dataframe tbody tr th {\n",
       "        vertical-align: top;\n",
       "    }\n",
       "\n",
       "    .dataframe thead th {\n",
       "        text-align: right;\n",
       "    }\n",
       "</style>\n",
       "<table border=\"1\" class=\"dataframe\">\n",
       "  <thead>\n",
       "    <tr style=\"text-align: right;\">\n",
       "      <th></th>\n",
       "      <th>Image Index</th>\n",
       "      <th>Finding Labels</th>\n",
       "      <th>Follow-up #</th>\n",
       "      <th>Patient ID</th>\n",
       "      <th>Patient Age</th>\n",
       "      <th>Patient Gender</th>\n",
       "      <th>View Position</th>\n",
       "      <th>OriginalImage[Width</th>\n",
       "      <th>Height]</th>\n",
       "      <th>OriginalImagePixelSpacing[x</th>\n",
       "      <th>y]</th>\n",
       "      <th>count_diseases</th>\n",
       "      <th>Atelectasis</th>\n",
       "      <th>Cardiomegaly</th>\n",
       "      <th>Consolidation</th>\n",
       "      <th>Edema</th>\n",
       "      <th>Effusion</th>\n",
       "      <th>Emphysema</th>\n",
       "      <th>Fibrosis</th>\n",
       "      <th>Hernia</th>\n",
       "      <th>Infiltration</th>\n",
       "      <th>Mass</th>\n",
       "      <th>No Finding</th>\n",
       "      <th>Nodule</th>\n",
       "      <th>Pleural_Thickening</th>\n",
       "      <th>Pneumonia</th>\n",
       "      <th>Pneumothorax</th>\n",
       "    </tr>\n",
       "  </thead>\n",
       "  <tbody>\n",
       "    <tr>\n",
       "      <th>69491</th>\n",
       "      <td>00017138_037.png</td>\n",
       "      <td>Infiltration|Effusion</td>\n",
       "      <td>37</td>\n",
       "      <td>17138</td>\n",
       "      <td>24</td>\n",
       "      <td>M</td>\n",
       "      <td>AP</td>\n",
       "      <td>2500</td>\n",
       "      <td>2048</td>\n",
       "      <td>0.168</td>\n",
       "      <td>0.168</td>\n",
       "      <td>2</td>\n",
       "      <td>0.0</td>\n",
       "      <td>0.0</td>\n",
       "      <td>0.0</td>\n",
       "      <td>0.0</td>\n",
       "      <td>1.0</td>\n",
       "      <td>0.0</td>\n",
       "      <td>0.0</td>\n",
       "      <td>0.0</td>\n",
       "      <td>1.0</td>\n",
       "      <td>0.0</td>\n",
       "      <td>0.0</td>\n",
       "      <td>0.0</td>\n",
       "      <td>0.0</td>\n",
       "      <td>0.0</td>\n",
       "      <td>0.0</td>\n",
       "    </tr>\n",
       "  </tbody>\n",
       "</table>\n",
       "</div>"
      ],
      "text/plain": [
       "            Image Index         Finding Labels  Follow-up #  Patient ID  \\\n",
       "69491  00017138_037.png  Infiltration|Effusion           37       17138   \n",
       "\n",
       "       Patient Age Patient Gender View Position  OriginalImage[Width  Height]  \\\n",
       "69491           24              M            AP                 2500     2048   \n",
       "\n",
       "       OriginalImagePixelSpacing[x     y]  count_diseases  Atelectasis  \\\n",
       "69491                        0.168  0.168               2          0.0   \n",
       "\n",
       "       Cardiomegaly  Consolidation  Edema  Effusion  Emphysema  Fibrosis  \\\n",
       "69491           0.0            0.0    0.0       1.0        0.0       0.0   \n",
       "\n",
       "       Hernia  Infiltration  Mass  No Finding  Nodule  Pleural_Thickening  \\\n",
       "69491     0.0           1.0   0.0         0.0     0.0                 0.0   \n",
       "\n",
       "       Pneumonia  Pneumothorax  \n",
       "69491        0.0           0.0  "
      ]
     },
     "execution_count": 41,
     "metadata": {},
     "output_type": "execute_result"
    }
   ],
   "source": [
    "xray_df[xray_df['Finding Labels']=='Infiltration|Effusion']"
   ]
  },
  {
   "cell_type": "code",
   "execution_count": 42,
   "id": "bd11ae22",
   "metadata": {},
   "outputs": [
    {
     "data": {
      "image/png": "[encoded data removed]",
      "text/plain": [
       "<Figure size 720x720 with 2 Axes>"
      ]
     },
     "metadata": {},
     "output_type": "display_data"
    }
   ],
   "source": [
    "column = 'Finding Labels'\n",
    "labels, matco = coOcurrencia(xray_df, column)\n",
    "plotCorrelationMatrix(labels, matco, 9, title = 'Correlation Matrix for Diseases')"
   ]
  },
  {
   "cell_type": "code",
   "execution_count": null,
   "id": "95be9073",
   "metadata": {},
   "outputs": [],
   "source": []
  },
  {
   "cell_type": "code",
   "execution_count": null,
   "id": "ac4c7f29-14d7-42e7-9024-58d7110991d2",
   "metadata": {},
   "outputs": [],
   "source": []
  }
 ],
 "metadata": {
  "kernelspec": {
   "display_name": "Python 3 (ipykernel)",
   "language": "python",
   "name": "python3"
  },
  "language_info": {
   "codemirror_mode": {
    "name": "ipython",
    "version": 3
   },
   "file_extension": ".py",
   "mimetype": "text/x-python",
   "name": "python",
   "nbconvert_exporter": "python",
   "pygments_lexer": "ipython3",
   "version": "3.8.6"
  },
  "toc": {
   "base_numbering": 1,
   "nav_menu": {},
   "number_sections": true,
   "sideBar": true,
   "skip_h1_title": false,
   "title_cell": "Table of Contents",
   "title_sidebar": "Contents",
   "toc_cell": false,
   "toc_position": {},
   "toc_section_display": true,
   "toc_window_display": false
  }
 },
 "nbformat": 4,
 "nbformat_minor": 5
}
