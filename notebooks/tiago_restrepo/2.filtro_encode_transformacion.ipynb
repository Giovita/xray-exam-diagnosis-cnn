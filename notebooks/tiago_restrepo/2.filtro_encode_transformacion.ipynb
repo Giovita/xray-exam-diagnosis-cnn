{
 "cells": [
  {
   "cell_type": "markdown",
   "id": "dfe0d0e0",
   "metadata": {},
   "source": [
    "# Importaciones y Loading de la Data "
   ]
  },
  {
   "cell_type": "code",
   "execution_count": 1,
   "id": "dbb235e3",
   "metadata": {},
   "outputs": [],
   "source": [
    "import pandas as pd \n",
    "import numpy as np \n",
    "from itertools import chain\n",
    "import matplotlib.pyplot as plt\n",
    "import seaborn as sns\n",
    "\n",
    "\n",
    "pd.set_option('display.max_columns', 500)\n",
    "pd.set_option('display.max_rows', 500)\n"
   ]
  },
  {
   "cell_type": "code",
   "execution_count": 2,
   "id": "5cd33986",
   "metadata": {},
   "outputs": [
    {
     "name": "stdout",
     "output_type": "stream",
     "text": [
      "There are 112120 rows and 12 columns\n"
     ]
    }
   ],
   "source": [
    "# loading y borrar columna sin info \n",
    "xray_df = pd.read_csv('./Data_Entry_2017.csv')\n",
    "nRow, nCol = xray_df.shape\n",
    "\n",
    "xray_df.drop(columns= 'Unnamed: 11', inplace=True )\n",
    "print(f'There are {nRow} rows and {nCol} columns')"
   ]
  },
  {
   "cell_type": "markdown",
   "id": "9cfbb847",
   "metadata": {},
   "source": [
    "# Encoding  y Unificar clases iguales \n",
    "1. Columna conteo de enfermedades por placa ('count_diseases') y columna de si esta enfermo ('Enfermo')\n",
    "2. Se hace un encoding por cada enfermedad reportada en la columna 'Finding Labels'\n",
    "3. Ejemplo: **(Infiltration|Effusion')**\ty **(Effusion|Infiltration')** --> se volveran una misma clase y se genera nueva columna ('FIXED_LABELS') \n"
   ]
  },
  {
   "cell_type": "code",
   "execution_count": 3,
   "id": "331a8ecf",
   "metadata": {},
   "outputs": [],
   "source": [
    "# Generacion columna conteo de enfermedades por imagen \n",
    "xray_df['count_diseases'] = xray_df['Finding Labels'].map(lambda x: len(x.split('|')))\n",
    "xray_df['Count_diseases'] = np.where(xray_df['Finding Labels'] =='No Finding', 0,xray_df['count_diseases'] )"
   ]
  },
  {
   "cell_type": "code",
   "execution_count": 4,
   "id": "f87d2b9c",
   "metadata": {},
   "outputs": [],
   "source": [
    "# Generacion columna enfermo_noenfermo --> 1 es enfermo - 0 es No enfermo \n",
    "xray_df['Enfermo'] = np.where(xray_df['Count_diseases'] ==0, 0,1)\n",
    "\n",
    "# eliminar columna count_diseases\n",
    "xray_df.drop(columns= 'count_diseases', inplace=True )\n"
   ]
  },
  {
   "cell_type": "code",
   "execution_count": 5,
   "id": "b0a00bb2",
   "metadata": {},
   "outputs": [
    {
     "name": "stdout",
     "output_type": "stream",
     "text": [
      "All Labels (15): ['Atelectasis', 'Cardiomegaly', 'Consolidation', 'Edema', 'Effusion', 'Emphysema', 'Fibrosis', 'Hernia', 'Infiltration', 'Mass', 'No Finding', 'Nodule', 'Pleural_Thickening', 'Pneumonia', 'Pneumothorax']\n"
     ]
    },
    {
     "data": {
      "text/html": [
       "<div>\n",
       "<style scoped>\n",
       "    .dataframe tbody tr th:only-of-type {\n",
       "        vertical-align: middle;\n",
       "    }\n",
       "\n",
       "    .dataframe tbody tr th {\n",
       "        vertical-align: top;\n",
       "    }\n",
       "\n",
       "    .dataframe thead th {\n",
       "        text-align: right;\n",
       "    }\n",
       "</style>\n",
       "<table border=\"1\" class=\"dataframe\">\n",
       "  <thead>\n",
       "    <tr style=\"text-align: right;\">\n",
       "      <th></th>\n",
       "      <th>Image Index</th>\n",
       "      <th>Finding Labels</th>\n",
       "      <th>Follow-up #</th>\n",
       "      <th>Patient ID</th>\n",
       "      <th>Patient Age</th>\n",
       "      <th>Patient Gender</th>\n",
       "      <th>View Position</th>\n",
       "      <th>OriginalImage[Width</th>\n",
       "      <th>Height]</th>\n",
       "      <th>OriginalImagePixelSpacing[x</th>\n",
       "      <th>y]</th>\n",
       "      <th>Count_diseases</th>\n",
       "      <th>Enfermo</th>\n",
       "      <th>Atelectasis</th>\n",
       "      <th>Cardiomegaly</th>\n",
       "      <th>Consolidation</th>\n",
       "      <th>Edema</th>\n",
       "      <th>Effusion</th>\n",
       "      <th>Emphysema</th>\n",
       "      <th>Fibrosis</th>\n",
       "      <th>Hernia</th>\n",
       "      <th>Infiltration</th>\n",
       "      <th>Mass</th>\n",
       "      <th>No Finding</th>\n",
       "      <th>Nodule</th>\n",
       "      <th>Pleural_Thickening</th>\n",
       "      <th>Pneumonia</th>\n",
       "      <th>Pneumothorax</th>\n",
       "    </tr>\n",
       "  </thead>\n",
       "  <tbody>\n",
       "    <tr>\n",
       "      <th>105691</th>\n",
       "      <td>00028439_000.png</td>\n",
       "      <td>Infiltration</td>\n",
       "      <td>0</td>\n",
       "      <td>28439</td>\n",
       "      <td>35</td>\n",
       "      <td>F</td>\n",
       "      <td>PA</td>\n",
       "      <td>2544</td>\n",
       "      <td>3056</td>\n",
       "      <td>0.139</td>\n",
       "      <td>0.139</td>\n",
       "      <td>1</td>\n",
       "      <td>1</td>\n",
       "      <td>0.0</td>\n",
       "      <td>0.0</td>\n",
       "      <td>0.0</td>\n",
       "      <td>0.0</td>\n",
       "      <td>0.0</td>\n",
       "      <td>0.0</td>\n",
       "      <td>0.0</td>\n",
       "      <td>0.0</td>\n",
       "      <td>1.0</td>\n",
       "      <td>0.0</td>\n",
       "      <td>0.0</td>\n",
       "      <td>0.0</td>\n",
       "      <td>0.0</td>\n",
       "      <td>0.0</td>\n",
       "      <td>0.0</td>\n",
       "    </tr>\n",
       "    <tr>\n",
       "      <th>34684</th>\n",
       "      <td>00009138_028.png</td>\n",
       "      <td>Consolidation|Edema|Infiltration</td>\n",
       "      <td>28</td>\n",
       "      <td>9138</td>\n",
       "      <td>69</td>\n",
       "      <td>M</td>\n",
       "      <td>AP</td>\n",
       "      <td>2500</td>\n",
       "      <td>2048</td>\n",
       "      <td>0.168</td>\n",
       "      <td>0.168</td>\n",
       "      <td>3</td>\n",
       "      <td>1</td>\n",
       "      <td>0.0</td>\n",
       "      <td>0.0</td>\n",
       "      <td>1.0</td>\n",
       "      <td>1.0</td>\n",
       "      <td>0.0</td>\n",
       "      <td>0.0</td>\n",
       "      <td>0.0</td>\n",
       "      <td>0.0</td>\n",
       "      <td>1.0</td>\n",
       "      <td>0.0</td>\n",
       "      <td>0.0</td>\n",
       "      <td>0.0</td>\n",
       "      <td>0.0</td>\n",
       "      <td>0.0</td>\n",
       "      <td>0.0</td>\n",
       "    </tr>\n",
       "    <tr>\n",
       "      <th>91361</th>\n",
       "      <td>00022807_000.png</td>\n",
       "      <td>Infiltration</td>\n",
       "      <td>0</td>\n",
       "      <td>22807</td>\n",
       "      <td>65</td>\n",
       "      <td>F</td>\n",
       "      <td>PA</td>\n",
       "      <td>2544</td>\n",
       "      <td>3056</td>\n",
       "      <td>0.139</td>\n",
       "      <td>0.139</td>\n",
       "      <td>1</td>\n",
       "      <td>1</td>\n",
       "      <td>0.0</td>\n",
       "      <td>0.0</td>\n",
       "      <td>0.0</td>\n",
       "      <td>0.0</td>\n",
       "      <td>0.0</td>\n",
       "      <td>0.0</td>\n",
       "      <td>0.0</td>\n",
       "      <td>0.0</td>\n",
       "      <td>1.0</td>\n",
       "      <td>0.0</td>\n",
       "      <td>0.0</td>\n",
       "      <td>0.0</td>\n",
       "      <td>0.0</td>\n",
       "      <td>0.0</td>\n",
       "      <td>0.0</td>\n",
       "    </tr>\n",
       "  </tbody>\n",
       "</table>\n",
       "</div>"
      ],
      "text/plain": [
       "             Image Index                    Finding Labels  Follow-up #  \\\n",
       "105691  00028439_000.png                      Infiltration            0   \n",
       "34684   00009138_028.png  Consolidation|Edema|Infiltration           28   \n",
       "91361   00022807_000.png                      Infiltration            0   \n",
       "\n",
       "        Patient ID  Patient Age Patient Gender View Position  \\\n",
       "105691       28439           35              F            PA   \n",
       "34684         9138           69              M            AP   \n",
       "91361        22807           65              F            PA   \n",
       "\n",
       "        OriginalImage[Width  Height]  OriginalImagePixelSpacing[x     y]  \\\n",
       "105691                 2544     3056                        0.139  0.139   \n",
       "34684                  2500     2048                        0.168  0.168   \n",
       "91361                  2544     3056                        0.139  0.139   \n",
       "\n",
       "        Count_diseases  Enfermo  Atelectasis  Cardiomegaly  Consolidation  \\\n",
       "105691               1        1          0.0           0.0            0.0   \n",
       "34684                3        1          0.0           0.0            1.0   \n",
       "91361                1        1          0.0           0.0            0.0   \n",
       "\n",
       "        Edema  Effusion  Emphysema  Fibrosis  Hernia  Infiltration  Mass  \\\n",
       "105691    0.0       0.0        0.0       0.0     0.0           1.0   0.0   \n",
       "34684     1.0       0.0        0.0       0.0     0.0           1.0   0.0   \n",
       "91361     0.0       0.0        0.0       0.0     0.0           1.0   0.0   \n",
       "\n",
       "        No Finding  Nodule  Pleural_Thickening  Pneumonia  Pneumothorax  \n",
       "105691         0.0     0.0                 0.0        0.0           0.0  \n",
       "34684          0.0     0.0                 0.0        0.0           0.0  \n",
       "91361          0.0     0.0                 0.0        0.0           0.0  "
      ]
     },
     "execution_count": 5,
     "metadata": {},
     "output_type": "execute_result"
    }
   ],
   "source": [
    "# encoding multiple \n",
    "all_labels = np.unique(list(chain(*xray_df['Finding Labels'].map(lambda x: x.split('|')).tolist())))\n",
    "all_labels = [x for x in all_labels if len(x)>0]\n",
    "\n",
    "print('All Labels ({}): {}'.format(len(all_labels), all_labels))\n",
    "\n",
    "for c_label in all_labels:\n",
    "    if len(c_label)>1: # leave out empty labels\n",
    "        xray_df[c_label] = xray_df['Finding Labels'].map(lambda finding: 1.0 if c_label in finding else 0)\n",
    "\n",
    "xray_df.sample(3)    "
   ]
  },
  {
   "cell_type": "code",
   "execution_count": 7,
   "id": "a2b68e02",
   "metadata": {},
   "outputs": [],
   "source": [
    "# cambiar de float a integer \n",
    "cols = ['Atelectasis', 'Cardiomegaly', 'Consolidation', 'Edema', 'Effusion', \n",
    "        'Emphysema', 'Fibrosis', 'Hernia', 'Infiltration', 'Mass', 'No Finding', \n",
    "        'Nodule', 'Pleural_Thickening', 'Pneumonia', 'Pneumothorax']\n",
    "\n",
    "xray_df[cols] = xray_df[cols].applymap(np.int64)"
   ]
  },
  {
   "cell_type": "code",
   "execution_count": 8,
   "id": "e851732d",
   "metadata": {},
   "outputs": [
    {
     "name": "stdout",
     "output_type": "stream",
     "text": [
      "Existen 836 clases en el dataset\n"
     ]
    }
   ],
   "source": [
    "# numero de unique values de las clases (deberian quedar menos de 836)\n",
    "num_clases = xray_df['Finding Labels'].nunique()\n",
    "print('Existen',num_clases,'clases en el dataset' )"
   ]
  },
  {
   "cell_type": "code",
   "execution_count": 9,
   "id": "d51a7e28",
   "metadata": {},
   "outputs": [
    {
     "name": "stdout",
     "output_type": "stream",
     "text": [
      "Quedaron 801 clases en el dataset\n"
     ]
    }
   ],
   "source": [
    "xray_df['Combined']= xray_df[cols].values.tolist()\n",
    "\n",
    "xray_df['Fixed_Labels'] = xray_df['Combined'].apply(\n",
    "    lambda x: '|'.join([cols[i] for i, val in enumerate(x) if val == 1]))\n",
    "\n",
    "num_clases = xray_df['Fixed_Labels'].nunique()\n",
    "print('Quedaron',num_clases,'clases en el dataset' )"
   ]
  },
  {
   "cell_type": "code",
   "execution_count": 10,
   "id": "c98304bf",
   "metadata": {},
   "outputs": [],
   "source": [
    "# borrar la columna combined (no sirve)\n",
    "# borrar Finding Labels\n",
    "xray_df.drop(columns= ['Combined','Finding Labels'], inplace=True )"
   ]
  },
  {
   "cell_type": "markdown",
   "id": "a9161e4d",
   "metadata": {},
   "source": [
    "# Eliminar pacientes sin sentido (EDAD)"
   ]
  },
  {
   "cell_type": "code",
   "execution_count": 11,
   "id": "83276198",
   "metadata": {},
   "outputs": [
    {
     "name": "stdout",
     "output_type": "stream",
     "text": [
      "Rows en el dataset: 112120\n"
     ]
    }
   ],
   "source": [
    "print('Rows en el dataset:',xray_df.shape[0])"
   ]
  },
  {
   "cell_type": "code",
   "execution_count": 12,
   "id": "adda69c3",
   "metadata": {},
   "outputs": [
    {
     "name": "stdout",
     "output_type": "stream",
     "text": [
      "Rows en el dataset: 112104\n"
     ]
    }
   ],
   "source": [
    "# se eliminan 16 pacientes \n",
    "index_mayor100 = list(xray_df[xray_df['Patient Age'] > 100].index)\n",
    "xray_df = xray_df.drop(index_mayor100)\n",
    "print('Rows en el dataset:',xray_df.shape[0])"
   ]
  },
  {
   "cell_type": "markdown",
   "id": "3dcc9258",
   "metadata": {},
   "source": [
    "# Elegir clases con las que vamos a Trabajar "
   ]
  },
  {
   "cell_type": "code",
   "execution_count": 13,
   "id": "8453513c",
   "metadata": {},
   "outputs": [],
   "source": [
    "enfermos =  xray_df[xray_df['Enfermo'] == 1]"
   ]
  },
  {
   "cell_type": "code",
   "execution_count": 28,
   "id": "64dac1bc",
   "metadata": {},
   "outputs": [
    {
     "name": "stdout",
     "output_type": "stream",
     "text": [
      "['Effusion|Infiltration', 'Atelectasis|Infiltration', 'Atelectasis|Effusion']\n"
     ]
    },
    {
     "data": {
      "text/html": [
       "<div>\n",
       "<style scoped>\n",
       "    .dataframe tbody tr th:only-of-type {\n",
       "        vertical-align: middle;\n",
       "    }\n",
       "\n",
       "    .dataframe tbody tr th {\n",
       "        vertical-align: top;\n",
       "    }\n",
       "\n",
       "    .dataframe thead th {\n",
       "        text-align: right;\n",
       "    }\n",
       "</style>\n",
       "<table border=\"1\" class=\"dataframe\">\n",
       "  <thead>\n",
       "    <tr style=\"text-align: right;\">\n",
       "      <th></th>\n",
       "      <th>Fixed_Labels</th>\n",
       "    </tr>\n",
       "  </thead>\n",
       "  <tbody>\n",
       "    <tr>\n",
       "      <th>Effusion|Infiltration</th>\n",
       "      <td>1604</td>\n",
       "    </tr>\n",
       "    <tr>\n",
       "      <th>Atelectasis|Infiltration</th>\n",
       "      <td>1350</td>\n",
       "    </tr>\n",
       "    <tr>\n",
       "      <th>Atelectasis|Effusion</th>\n",
       "      <td>1167</td>\n",
       "    </tr>\n",
       "  </tbody>\n",
       "</table>\n",
       "</div>"
      ],
      "text/plain": [
       "                          Fixed_Labels\n",
       "Effusion|Infiltration             1604\n",
       "Atelectasis|Infiltration          1350\n",
       "Atelectasis|Effusion              1167"
      ]
     },
     "execution_count": 28,
     "metadata": {},
     "output_type": "execute_result"
    }
   ],
   "source": [
    "# elegir las clases multiples con mas de 1000 \n",
    "enfermos_mult = enfermos[enfermos['Count_diseases']>=2]\n",
    "enfermos_mult = enfermos_mult['Fixed_Labels'].value_counts().to_frame()\n",
    "enfermos_mult = enfermos_mult[enfermos_mult['Fixed_Labels'] > 1000]\n",
    "mult_clases = list(enfermos_mult.index)\n",
    "print(mult_clases)\n",
    "enfermos_mult"
   ]
  },
  {
   "cell_type": "code",
   "execution_count": 29,
   "id": "5776b9aa",
   "metadata": {},
   "outputs": [
    {
     "data": {
      "text/plain": [
       "['Infiltration',\n",
       " 'Atelectasis',\n",
       " 'Effusion',\n",
       " 'Nodule',\n",
       " 'Pneumothorax',\n",
       " 'Mass',\n",
       " 'Consolidation',\n",
       " 'Pleural_Thickening',\n",
       " 'Cardiomegaly',\n",
       " 'Emphysema',\n",
       " 'Fibrosis',\n",
       " 'Edema',\n",
       " 'Pneumonia']"
      ]
     },
     "execution_count": 29,
     "metadata": {},
     "output_type": "execute_result"
    }
   ],
   "source": [
    "# Elegir las mono-clases  \n",
    "enfermos_mono = enfermos[enfermos['Count_diseases']<2]\n",
    "enfermos_mono = enfermos_mono['Fixed_Labels'].value_counts(normalize=True).to_frame()\n",
    "enfermos_mono = enfermos_mono[enfermos_mono['Fixed_Labels'] > 0.01]\n",
    "mono_clases  = list(enfermos_mono.index)\n",
    "mono_clases"
   ]
  },
  {
   "cell_type": "code",
   "execution_count": 32,
   "id": "3e7ae58a",
   "metadata": {},
   "outputs": [
    {
     "data": {
      "text/plain": [
       "['Infiltration',\n",
       " 'Atelectasis',\n",
       " 'Effusion',\n",
       " 'Nodule',\n",
       " 'Pneumothorax',\n",
       " 'Mass',\n",
       " 'Consolidation',\n",
       " 'Pleural_Thickening',\n",
       " 'Cardiomegaly',\n",
       " 'Emphysema',\n",
       " 'Fibrosis',\n",
       " 'Edema',\n",
       " 'Pneumonia',\n",
       " 'Effusion|Infiltration',\n",
       " 'Atelectasis|Infiltration',\n",
       " 'Atelectasis|Effusion']"
      ]
     },
     "execution_count": 32,
     "metadata": {},
     "output_type": "execute_result"
    }
   ],
   "source": [
    "clases_enfermedades = mono_clases + mult_clases\n",
    "clases_enfermedades"
   ]
  }
 ],
 "metadata": {
  "kernelspec": {
   "display_name": "Python 3 (ipykernel)",
   "language": "python",
   "name": "python3"
  },
  "language_info": {
   "codemirror_mode": {
    "name": "ipython",
    "version": 3
   },
   "file_extension": ".py",
   "mimetype": "text/x-python",
   "name": "python",
   "nbconvert_exporter": "python",
   "pygments_lexer": "ipython3",
   "version": "3.8.6"
  },
  "toc": {
   "base_numbering": 1,
   "nav_menu": {},
   "number_sections": true,
   "sideBar": true,
   "skip_h1_title": false,
   "title_cell": "Table of Contents",
   "title_sidebar": "Contents",
   "toc_cell": false,
   "toc_position": {},
   "toc_section_display": true,
   "toc_window_display": false
  }
 },
 "nbformat": 4,
 "nbformat_minor": 5
}
